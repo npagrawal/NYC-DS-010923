{
 "cells": [
  {
   "cell_type": "code",
   "execution_count": 9,
   "metadata": {},
   "outputs": [],
   "source": [
    "import pandas as pd \n",
    "import matplotlib.pyplot as plt \n",
    "import seaborn as sns \n",
    "import numpy as np "
   ]
  },
  {
   "cell_type": "markdown",
   "metadata": {},
   "source": [
    "## pandas "
   ]
  },
  {
   "cell_type": "code",
   "execution_count": 10,
   "metadata": {},
   "outputs": [
    {
     "data": {
      "text/plain": [
       "['anagrams',\n",
       " 'anscombe',\n",
       " 'attention',\n",
       " 'brain_networks',\n",
       " 'car_crashes',\n",
       " 'diamonds',\n",
       " 'dots',\n",
       " 'dowjones',\n",
       " 'exercise',\n",
       " 'flights',\n",
       " 'fmri',\n",
       " 'geyser',\n",
       " 'glue',\n",
       " 'healthexp',\n",
       " 'iris',\n",
       " 'mpg',\n",
       " 'penguins',\n",
       " 'planets',\n",
       " 'seaice',\n",
       " 'taxis',\n",
       " 'tips',\n",
       " 'titanic']"
      ]
     },
     "execution_count": 10,
     "metadata": {},
     "output_type": "execute_result"
    }
   ],
   "source": [
    "sns.get_dataset_names()"
   ]
  },
  {
   "cell_type": "code",
   "execution_count": 11,
   "metadata": {},
   "outputs": [
    {
     "data": {
      "text/html": [
       "<div>\n",
       "<style scoped>\n",
       "    .dataframe tbody tr th:only-of-type {\n",
       "        vertical-align: middle;\n",
       "    }\n",
       "\n",
       "    .dataframe tbody tr th {\n",
       "        vertical-align: top;\n",
       "    }\n",
       "\n",
       "    .dataframe thead th {\n",
       "        text-align: right;\n",
       "    }\n",
       "</style>\n",
       "<table border=\"1\" class=\"dataframe\">\n",
       "  <thead>\n",
       "    <tr style=\"text-align: right;\">\n",
       "      <th></th>\n",
       "      <th>species</th>\n",
       "      <th>island</th>\n",
       "      <th>bill_length_mm</th>\n",
       "      <th>bill_depth_mm</th>\n",
       "      <th>flipper_length_mm</th>\n",
       "      <th>body_mass_g</th>\n",
       "      <th>sex</th>\n",
       "    </tr>\n",
       "  </thead>\n",
       "  <tbody>\n",
       "    <tr>\n",
       "      <th>0</th>\n",
       "      <td>Adelie</td>\n",
       "      <td>Torgersen</td>\n",
       "      <td>39.1</td>\n",
       "      <td>18.7</td>\n",
       "      <td>181.0</td>\n",
       "      <td>3750.0</td>\n",
       "      <td>Male</td>\n",
       "    </tr>\n",
       "    <tr>\n",
       "      <th>1</th>\n",
       "      <td>Adelie</td>\n",
       "      <td>Torgersen</td>\n",
       "      <td>39.5</td>\n",
       "      <td>17.4</td>\n",
       "      <td>186.0</td>\n",
       "      <td>3800.0</td>\n",
       "      <td>Female</td>\n",
       "    </tr>\n",
       "    <tr>\n",
       "      <th>2</th>\n",
       "      <td>Adelie</td>\n",
       "      <td>Torgersen</td>\n",
       "      <td>40.3</td>\n",
       "      <td>18.0</td>\n",
       "      <td>195.0</td>\n",
       "      <td>3250.0</td>\n",
       "      <td>Female</td>\n",
       "    </tr>\n",
       "    <tr>\n",
       "      <th>3</th>\n",
       "      <td>Adelie</td>\n",
       "      <td>Torgersen</td>\n",
       "      <td>NaN</td>\n",
       "      <td>NaN</td>\n",
       "      <td>NaN</td>\n",
       "      <td>NaN</td>\n",
       "      <td>NaN</td>\n",
       "    </tr>\n",
       "    <tr>\n",
       "      <th>4</th>\n",
       "      <td>Adelie</td>\n",
       "      <td>Torgersen</td>\n",
       "      <td>36.7</td>\n",
       "      <td>19.3</td>\n",
       "      <td>193.0</td>\n",
       "      <td>3450.0</td>\n",
       "      <td>Female</td>\n",
       "    </tr>\n",
       "  </tbody>\n",
       "</table>\n",
       "</div>"
      ],
      "text/plain": [
       "  species     island  bill_length_mm  bill_depth_mm  flipper_length_mm  \\\n",
       "0  Adelie  Torgersen            39.1           18.7              181.0   \n",
       "1  Adelie  Torgersen            39.5           17.4              186.0   \n",
       "2  Adelie  Torgersen            40.3           18.0              195.0   \n",
       "3  Adelie  Torgersen             NaN            NaN                NaN   \n",
       "4  Adelie  Torgersen            36.7           19.3              193.0   \n",
       "\n",
       "   body_mass_g     sex  \n",
       "0       3750.0    Male  \n",
       "1       3800.0  Female  \n",
       "2       3250.0  Female  \n",
       "3          NaN     NaN  \n",
       "4       3450.0  Female  "
      ]
     },
     "execution_count": 11,
     "metadata": {},
     "output_type": "execute_result"
    }
   ],
   "source": [
    "penguins_df = sns.load_dataset('penguins')\n",
    "penguins_df.head()"
   ]
  },
  {
   "cell_type": "code",
   "execution_count": 12,
   "metadata": {},
   "outputs": [
    {
     "data": {
      "image/png": "[encoded data removed]",
      "text/plain": [
       "<Figure size 432x288 with 1 Axes>"
      ]
     },
     "metadata": {
      "needs_background": "light"
     },
     "output_type": "display_data"
    }
   ],
   "source": [
    "# get rid of the missing values in bill_depth, \n",
    "\n",
    "penguins_df.dropna(subset = [\"bill_depth_mm\"], inplace=True)\n",
    "\n",
    "# get rid of row 3 \n",
    "penguins_df.drop(4)\n",
    "\n",
    "# convert body mass in grams to body mass in kilo grams   conversion ~ 0.001 \n",
    "\n",
    "penguins_df[\"body_mass_g\"] = (penguins_df[\"body_mass_g\"]) * 0.001\n",
    "\n",
    "# rename the body mass column \n",
    "\n",
    "penguins_df.rename(columns = {'body_mass_g' :'body_mass_kg'})\n",
    "\n",
    "\n",
    "\n",
    "\n",
    "# look at the distribution of bill length \n",
    "\n",
    "sns.histplot(penguins_df[\"bill_length_mm\"])\n",
    "penguins_df.describe()\n",
    "\n",
    "# look at the differences in the distribution of bill length between islands \n",
    "sns.histplot(x=\"bill_length_mm\", hue=\"island\", data = penguins_df)\n",
    "\n",
    "\n",
    "# calculate the mean of bill lenth \n",
    "\n",
    "mean_bill_length = penguins_df[\"bill_length_mm\"].mean()\n",
    "\n",
    "# create a new column called big billed if the penguin has a bill greater than the median \n",
    "\n",
    "penguins_df[\"big_billed\"] = penguins_df[\"bill_length_mm\"].map(lambda x: \"large\" if x > mean_bill_length else \"small\")\n"
   ]
  },
  {
   "cell_type": "code",
   "execution_count": 13,
   "metadata": {},
   "outputs": [
    {
     "data": {
      "text/html": [
       "<div>\n",
       "<style scoped>\n",
       "    .dataframe tbody tr th:only-of-type {\n",
       "        vertical-align: middle;\n",
       "    }\n",
       "\n",
       "    .dataframe tbody tr th {\n",
       "        vertical-align: top;\n",
       "    }\n",
       "\n",
       "    .dataframe thead th {\n",
       "        text-align: right;\n",
       "    }\n",
       "</style>\n",
       "<table border=\"1\" class=\"dataframe\">\n",
       "  <thead>\n",
       "    <tr style=\"text-align: right;\">\n",
       "      <th></th>\n",
       "      <th>Model</th>\n",
       "      <th>Year</th>\n",
       "      <th>Encoder</th>\n",
       "      <th>Task</th>\n",
       "      <th>Score</th>\n",
       "    </tr>\n",
       "  </thead>\n",
       "  <tbody>\n",
       "    <tr>\n",
       "      <th>0</th>\n",
       "      <td>ERNIE</td>\n",
       "      <td>2019</td>\n",
       "      <td>Transformer</td>\n",
       "      <td>CoLA</td>\n",
       "      <td>75.5</td>\n",
       "    </tr>\n",
       "    <tr>\n",
       "      <th>1</th>\n",
       "      <td>T5</td>\n",
       "      <td>2019</td>\n",
       "      <td>Transformer</td>\n",
       "      <td>CoLA</td>\n",
       "      <td>71.6</td>\n",
       "    </tr>\n",
       "    <tr>\n",
       "      <th>2</th>\n",
       "      <td>RoBERTa</td>\n",
       "      <td>2019</td>\n",
       "      <td>Transformer</td>\n",
       "      <td>CoLA</td>\n",
       "      <td>67.8</td>\n",
       "    </tr>\n",
       "    <tr>\n",
       "      <th>3</th>\n",
       "      <td>BERT</td>\n",
       "      <td>2018</td>\n",
       "      <td>Transformer</td>\n",
       "      <td>CoLA</td>\n",
       "      <td>60.5</td>\n",
       "    </tr>\n",
       "    <tr>\n",
       "      <th>4</th>\n",
       "      <td>BiLSTM+ELMo</td>\n",
       "      <td>2018</td>\n",
       "      <td>LSTM</td>\n",
       "      <td>CoLA</td>\n",
       "      <td>32.1</td>\n",
       "    </tr>\n",
       "    <tr>\n",
       "      <th>...</th>\n",
       "      <td>...</td>\n",
       "      <td>...</td>\n",
       "      <td>...</td>\n",
       "      <td>...</td>\n",
       "      <td>...</td>\n",
       "    </tr>\n",
       "    <tr>\n",
       "      <th>59</th>\n",
       "      <td>BERT</td>\n",
       "      <td>2018</td>\n",
       "      <td>Transformer</td>\n",
       "      <td>RTE</td>\n",
       "      <td>70.1</td>\n",
       "    </tr>\n",
       "    <tr>\n",
       "      <th>60</th>\n",
       "      <td>BiLSTM+ELMo</td>\n",
       "      <td>2018</td>\n",
       "      <td>LSTM</td>\n",
       "      <td>RTE</td>\n",
       "      <td>57.4</td>\n",
       "    </tr>\n",
       "    <tr>\n",
       "      <th>61</th>\n",
       "      <td>BiLSTM+CoVe</td>\n",
       "      <td>2017</td>\n",
       "      <td>LSTM</td>\n",
       "      <td>RTE</td>\n",
       "      <td>52.7</td>\n",
       "    </tr>\n",
       "    <tr>\n",
       "      <th>62</th>\n",
       "      <td>BiLSTM+Attn</td>\n",
       "      <td>2017</td>\n",
       "      <td>LSTM</td>\n",
       "      <td>RTE</td>\n",
       "      <td>58.4</td>\n",
       "    </tr>\n",
       "    <tr>\n",
       "      <th>63</th>\n",
       "      <td>BiLSTM</td>\n",
       "      <td>2017</td>\n",
       "      <td>LSTM</td>\n",
       "      <td>RTE</td>\n",
       "      <td>57.4</td>\n",
       "    </tr>\n",
       "  </tbody>\n",
       "</table>\n",
       "<p>64 rows × 5 columns</p>\n",
       "</div>"
      ],
      "text/plain": [
       "          Model  Year      Encoder  Task  Score\n",
       "0         ERNIE  2019  Transformer  CoLA   75.5\n",
       "1            T5  2019  Transformer  CoLA   71.6\n",
       "2       RoBERTa  2019  Transformer  CoLA   67.8\n",
       "3          BERT  2018  Transformer  CoLA   60.5\n",
       "4   BiLSTM+ELMo  2018         LSTM  CoLA   32.1\n",
       "..          ...   ...          ...   ...    ...\n",
       "59         BERT  2018  Transformer   RTE   70.1\n",
       "60  BiLSTM+ELMo  2018         LSTM   RTE   57.4\n",
       "61  BiLSTM+CoVe  2017         LSTM   RTE   52.7\n",
       "62  BiLSTM+Attn  2017         LSTM   RTE   58.4\n",
       "63       BiLSTM  2017         LSTM   RTE   57.4\n",
       "\n",
       "[64 rows x 5 columns]"
      ]
     },
     "execution_count": 13,
     "metadata": {},
     "output_type": "execute_result"
    }
   ],
   "source": [
    "df = sns.load_dataset('glue')\n",
    "df"
   ]
  },
  {
   "cell_type": "code",
   "execution_count": 14,
   "metadata": {},
   "outputs": [
    {
     "name": "stderr",
     "output_type": "stream",
     "text": [
      "/opt/anaconda3/envs/learn-env/lib/python3.8/site-packages/seaborn/_decorators.py:36: FutureWarning: Pass the following variables as keyword args: x, y. From version 0.12, the only valid positional argument will be `data`, and passing other arguments without an explicit keyword will result in an error or misinterpretation.\n",
      "  warnings.warn(\n"
     ]
    },
    {
     "data": {
      "text/plain": [
       "0           BERT\n",
       "1         BiLSTM\n",
       "2    BiLSTM+Attn\n",
       "3    BiLSTM+CoVe\n",
       "4    BiLSTM+ELMo\n",
       "5          ERNIE\n",
       "6        RoBERTa\n",
       "7             T5\n",
       "dtype: object"
      ]
     },
     "execution_count": 14,
     "metadata": {},
     "output_type": "execute_result"
    },
    {
     "data": {
      "image/png": "[encoded data removed]",
      "text/plain": [
       "<Figure size 432x288 with 1 Axes>"
      ]
     },
     "metadata": {
      "needs_background": "light"
     },
     "output_type": "display_data"
    }
   ],
   "source": [
    "# plot a bar graph with matplotlib and seaborn of the average score per year \n",
    "#df.groupby(\"Year\").mean().plot(kind=\"bar\")\n",
    "grouped_year_df = df.groupby(\"Year\").mean()\n",
    "sns.barplot(grouped_year_df.index, grouped_year_df['Score'])\n",
    "\n",
    "# add titles and axis \n",
    "\n",
    "\n",
    "\n",
    "# find the model with the lowest score\n",
    "df.loc[(df[\"Score\"] == df[\"Score\"].min())]\n",
    "\n",
    "# find the most occuring model in the data set \n",
    "df[\"Model\"].mode()"
   ]
  },
  {
   "cell_type": "code",
   "execution_count": null,
   "metadata": {},
   "outputs": [],
   "source": []
  },
  {
   "cell_type": "code",
   "execution_count": 15,
   "metadata": {},
   "outputs": [
    {
     "data": {
      "text/html": [
       "<div>\n",
       "<style scoped>\n",
       "    .dataframe tbody tr th:only-of-type {\n",
       "        vertical-align: middle;\n",
       "    }\n",
       "\n",
       "    .dataframe tbody tr th {\n",
       "        vertical-align: top;\n",
       "    }\n",
       "\n",
       "    .dataframe thead th {\n",
       "        text-align: right;\n",
       "    }\n",
       "</style>\n",
       "<table border=\"1\" class=\"dataframe\">\n",
       "  <thead>\n",
       "    <tr style=\"text-align: right;\">\n",
       "      <th></th>\n",
       "      <th>sepal_length</th>\n",
       "      <th>sepal_width</th>\n",
       "      <th>petal_length</th>\n",
       "      <th>petal_width</th>\n",
       "      <th>species</th>\n",
       "    </tr>\n",
       "  </thead>\n",
       "  <tbody>\n",
       "    <tr>\n",
       "      <th>0</th>\n",
       "      <td>5.1</td>\n",
       "      <td>3.5</td>\n",
       "      <td>1.4</td>\n",
       "      <td>0.2</td>\n",
       "      <td>setosa</td>\n",
       "    </tr>\n",
       "    <tr>\n",
       "      <th>1</th>\n",
       "      <td>4.9</td>\n",
       "      <td>3.0</td>\n",
       "      <td>1.4</td>\n",
       "      <td>0.2</td>\n",
       "      <td>setosa</td>\n",
       "    </tr>\n",
       "    <tr>\n",
       "      <th>2</th>\n",
       "      <td>4.7</td>\n",
       "      <td>3.2</td>\n",
       "      <td>1.3</td>\n",
       "      <td>0.2</td>\n",
       "      <td>setosa</td>\n",
       "    </tr>\n",
       "    <tr>\n",
       "      <th>3</th>\n",
       "      <td>4.6</td>\n",
       "      <td>3.1</td>\n",
       "      <td>1.5</td>\n",
       "      <td>0.2</td>\n",
       "      <td>setosa</td>\n",
       "    </tr>\n",
       "    <tr>\n",
       "      <th>4</th>\n",
       "      <td>5.0</td>\n",
       "      <td>3.6</td>\n",
       "      <td>1.4</td>\n",
       "      <td>0.2</td>\n",
       "      <td>setosa</td>\n",
       "    </tr>\n",
       "    <tr>\n",
       "      <th>...</th>\n",
       "      <td>...</td>\n",
       "      <td>...</td>\n",
       "      <td>...</td>\n",
       "      <td>...</td>\n",
       "      <td>...</td>\n",
       "    </tr>\n",
       "    <tr>\n",
       "      <th>145</th>\n",
       "      <td>6.7</td>\n",
       "      <td>3.0</td>\n",
       "      <td>5.2</td>\n",
       "      <td>2.3</td>\n",
       "      <td>virginica</td>\n",
       "    </tr>\n",
       "    <tr>\n",
       "      <th>146</th>\n",
       "      <td>6.3</td>\n",
       "      <td>2.5</td>\n",
       "      <td>5.0</td>\n",
       "      <td>1.9</td>\n",
       "      <td>virginica</td>\n",
       "    </tr>\n",
       "    <tr>\n",
       "      <th>147</th>\n",
       "      <td>6.5</td>\n",
       "      <td>3.0</td>\n",
       "      <td>5.2</td>\n",
       "      <td>2.0</td>\n",
       "      <td>virginica</td>\n",
       "    </tr>\n",
       "    <tr>\n",
       "      <th>148</th>\n",
       "      <td>6.2</td>\n",
       "      <td>3.4</td>\n",
       "      <td>5.4</td>\n",
       "      <td>2.3</td>\n",
       "      <td>virginica</td>\n",
       "    </tr>\n",
       "    <tr>\n",
       "      <th>149</th>\n",
       "      <td>5.9</td>\n",
       "      <td>3.0</td>\n",
       "      <td>5.1</td>\n",
       "      <td>1.8</td>\n",
       "      <td>virginica</td>\n",
       "    </tr>\n",
       "  </tbody>\n",
       "</table>\n",
       "<p>150 rows × 5 columns</p>\n",
       "</div>"
      ],
      "text/plain": [
       "     sepal_length  sepal_width  petal_length  petal_width    species\n",
       "0             5.1          3.5           1.4          0.2     setosa\n",
       "1             4.9          3.0           1.4          0.2     setosa\n",
       "2             4.7          3.2           1.3          0.2     setosa\n",
       "3             4.6          3.1           1.5          0.2     setosa\n",
       "4             5.0          3.6           1.4          0.2     setosa\n",
       "..            ...          ...           ...          ...        ...\n",
       "145           6.7          3.0           5.2          2.3  virginica\n",
       "146           6.3          2.5           5.0          1.9  virginica\n",
       "147           6.5          3.0           5.2          2.0  virginica\n",
       "148           6.2          3.4           5.4          2.3  virginica\n",
       "149           5.9          3.0           5.1          1.8  virginica\n",
       "\n",
       "[150 rows x 5 columns]"
      ]
     },
     "execution_count": 15,
     "metadata": {},
     "output_type": "execute_result"
    }
   ],
   "source": [
    "iris_df = sns.load_dataset('iris')\n",
    "iris_df"
   ]
  },
  {
   "cell_type": "code",
   "execution_count": 37,
   "metadata": {},
   "outputs": [
    {
     "data": {
      "text/html": [
       "<div>\n",
       "<style scoped>\n",
       "    .dataframe tbody tr th:only-of-type {\n",
       "        vertical-align: middle;\n",
       "    }\n",
       "\n",
       "    .dataframe tbody tr th {\n",
       "        vertical-align: top;\n",
       "    }\n",
       "\n",
       "    .dataframe thead th {\n",
       "        text-align: right;\n",
       "    }\n",
       "</style>\n",
       "<table border=\"1\" class=\"dataframe\">\n",
       "  <thead>\n",
       "    <tr style=\"text-align: right;\">\n",
       "      <th></th>\n",
       "      <th>sepal_length</th>\n",
       "      <th>sepal_width</th>\n",
       "      <th>petal_length</th>\n",
       "      <th>petal_width</th>\n",
       "      <th>species</th>\n",
       "    </tr>\n",
       "  </thead>\n",
       "  <tbody>\n",
       "    <tr>\n",
       "      <th>117</th>\n",
       "      <td>7.7</td>\n",
       "      <td>3.8</td>\n",
       "      <td>6.7</td>\n",
       "      <td>2.2</td>\n",
       "      <td>virginica</td>\n",
       "    </tr>\n",
       "    <tr>\n",
       "      <th>131</th>\n",
       "      <td>7.9</td>\n",
       "      <td>3.8</td>\n",
       "      <td>6.4</td>\n",
       "      <td>2.0</td>\n",
       "      <td>virginica</td>\n",
       "    </tr>\n",
       "  </tbody>\n",
       "</table>\n",
       "</div>"
      ],
      "text/plain": [
       "     sepal_length  sepal_width  petal_length  petal_width    species\n",
       "117           7.7          3.8           6.7          2.2  virginica\n",
       "131           7.9          3.8           6.4          2.0  virginica"
      ]
     },
     "execution_count": 37,
     "metadata": {},
     "output_type": "execute_result"
    }
   ],
   "source": [
    "# find the virginica flower with the largest sepal width \n",
    "virginica_df = iris_df.loc[iris_df[\"species\"] == \"virginica\"]\n",
    "virginica_df.loc[virginica_df[\"sepal_width\"] == virginica_df[\"sepal_width\"].max()]"
   ]
  },
  {
   "cell_type": "code",
   "execution_count": 42,
   "metadata": {},
   "outputs": [],
   "source": [
    "cars_dict = {\n",
    "  \"brand\": \"Ford\",\n",
    "  \"model\": \"Mustang\",\n",
    "  \"year\": 1964\n",
    "}\n",
    "\n",
    "# convert the keys in this dictionary to a list\n",
    "\n",
    "\n",
    "info =list(cars_dict.keys())"
   ]
  },
  {
   "cell_type": "code",
   "execution_count": 43,
   "metadata": {},
   "outputs": [],
   "source": [
    "cars=list(cars_dict.values())"
   ]
  },
  {
   "cell_type": "code",
   "execution_count": 45,
   "metadata": {},
   "outputs": [
    {
     "data": {
      "text/plain": [
       "[('brand', 'Ford'), ('model', 'Mustang'), ('year', 1964)]"
      ]
     },
     "execution_count": 45,
     "metadata": {},
     "output_type": "execute_result"
    }
   ],
   "source": [
    "tuples = list(zip(info, cars))\n",
    "tuples"
   ]
  },
  {
   "cell_type": "markdown",
   "metadata": {},
   "source": [
    "## JSONS "
   ]
  },
  {
   "cell_type": "code",
   "execution_count": 47,
   "metadata": {},
   "outputs": [
    {
     "data": {
      "text/plain": [
       "[{'id': 1, 'name': 'cridmas', 'color': ['red', 'green']},\n",
       " {'id': 2, 'name': 'Rocco', 'color': ['pink', 'yellow']}]"
      ]
     },
     "execution_count": 47,
     "metadata": {},
     "output_type": "execute_result"
    }
   ],
   "source": [
    "\n",
    "\n",
    "\n",
    "data =[ \n",
    "   { \n",
    "      \"id\":1,\n",
    "      \"name\":\"cridmas\",\n",
    "      \"color\":[ \n",
    "         \"red\",\n",
    "         \"green\"\n",
    "      ]\n",
    "   },\n",
    "   { \n",
    "      \"id\":2,\n",
    "      \"name\":\"Rocco\",\n",
    "      \"color\":[ \n",
    "         \"pink\",\n",
    "         \"yellow\"\n",
    "      ]\n",
    "   }\n",
    "]\n",
    "\n",
    "data"
   ]
  },
  {
   "cell_type": "code",
   "execution_count": 49,
   "metadata": {},
   "outputs": [
    {
     "data": {
      "text/plain": [
       "[1, 'cridmas', ['red', 'green'], 2, 'Rocco', ['pink', 'yellow']]"
      ]
     },
     "execution_count": 49,
     "metadata": {},
     "output_type": "execute_result"
    }
   ],
   "source": [
    "# create a list of all the values in this dictionary \n",
    "\n",
    "\n",
    "data_list=[]\n",
    "\n",
    "for item in data:\n",
    "    for thing in item:\n",
    "        data_list.append(item[thing])\n",
    "    \n",
    "data_list\n"
   ]
  },
  {
   "cell_type": "code",
   "execution_count": 73,
   "metadata": {},
   "outputs": [
    {
     "data": {
      "text/plain": [
       "[{'id': 1, 'name': 'cridmas', 'color': ['red', 'red']},\n",
       " {'id': 2, 'name': 'Rocco', 'color': ['pink', 'red']}]"
      ]
     },
     "execution_count": 73,
     "metadata": {},
     "output_type": "execute_result"
    }
   ],
   "source": [
    "data[1][\"color\"]\n",
    "\n",
    "for dict in data:\n",
    "    dict[\"color\"][1] = \"red\"\n",
    "\n",
    "data"
   ]
  },
  {
   "cell_type": "code",
   "execution_count": 75,
   "metadata": {},
   "outputs": [
    {
     "data": {
      "text/plain": [
       "('cridmas', 'Rocco')"
      ]
     },
     "execution_count": 75,
     "metadata": {},
     "output_type": "execute_result"
    }
   ],
   "source": [
    "(data[0][\"name\"], data[1][\"name\"])"
   ]
  },
  {
   "cell_type": "code",
   "execution_count": 77,
   "metadata": {},
   "outputs": [],
   "source": [
    "import json\n",
    "\n",
    "sampleJson = \"\"\"{ \n",
    "   \"company\":{ \n",
    "      \"employee\":{ \n",
    "         \"name\":\"emma\",\n",
    "         \"payble\":{ \n",
    "            \"salary\":7000,\n",
    "            \"bonus\":800\n",
    "         }\n",
    "      }\n",
    "   }\n",
    "}\"\"\"\n",
    "\n",
    "data = json.loads(sampleJson)"
   ]
  },
  {
   "cell_type": "code",
   "execution_count": 78,
   "metadata": {},
   "outputs": [
    {
     "data": {
      "text/plain": [
       "7000"
      ]
     },
     "execution_count": 78,
     "metadata": {},
     "output_type": "execute_result"
    }
   ],
   "source": [
    "data[\"company\"][\"employee\"][\"payble\"][\"salary\"]"
   ]
  },
  {
   "cell_type": "code",
   "execution_count": 80,
   "metadata": {},
   "outputs": [
    {
     "data": {
      "text/plain": [
       "7800"
      ]
     },
     "execution_count": 80,
     "metadata": {},
     "output_type": "execute_result"
    }
   ],
   "source": [
    "# get me the name emma from the json \n",
    "\n",
    "data[\"company\"][\"employee\"][\"name\"]\n",
    "            \n",
    "\n",
    "# get emma salary and assign it to a variable \n",
    "emma_salary=data[\"company\"][\"employee\"][\"payble\"][\"salary\"]\n",
    "emma_bonus=data[\"company\"][\"employee\"][\"payble\"][\"bonus\"]\n",
    "\n",
    "# add emmas salary and bonus together \n",
    "total_pay = emma_salary + emma_bonus\n",
    "total_pay"
   ]
  },
  {
   "cell_type": "code",
   "execution_count": 134,
   "metadata": {},
   "outputs": [
    {
     "data": {
      "text/plain": [
       "7000"
      ]
     },
     "execution_count": 134,
     "metadata": {},
     "output_type": "execute_result"
    }
   ],
   "source": [
    "(data['company']['employee']['payble']['salary'])"
   ]
  },
  {
   "cell_type": "code",
   "execution_count": 88,
   "metadata": {},
   "outputs": [
    {
     "data": {
      "text/plain": [
       "{'company': {'employee': {'name': 'emma',\n",
       "   'payble': {'salary': 7000, 'bonus': 4000}}}}"
      ]
     },
     "execution_count": 88,
     "metadata": {},
     "output_type": "execute_result"
    }
   ],
   "source": [
    "#edit bonus to be 4000\n",
    "\n",
    "data['company']['employee']['payble']['bonus'] = 4000\n",
    "data"
   ]
  },
  {
   "cell_type": "code",
   "execution_count": 135,
   "metadata": {},
   "outputs": [],
   "source": [
    "data = [{\"code\":\"Company1\",\"exchange_short_name\":\"ST\",\"date\":\"2000-01-01\"},\n",
    "{\"code\":\"Company2\",\"exchange_short_name\":\"ST\",\"date\":\"2000-01-01\"}]"
   ]
  },
  {
   "cell_type": "code",
   "execution_count": 136,
   "metadata": {},
   "outputs": [
    {
     "name": "stdout",
     "output_type": "stream",
     "text": [
      "2000-01-01\n",
      "2000-01-01\n"
     ]
    }
   ],
   "source": [
    "# print the date from each dictionary in a loop \n",
    "\n",
    "for dictionary in data:\n",
    "    print(dictionary['date'])"
   ]
  },
  {
   "cell_type": "code",
   "execution_count": null,
   "metadata": {},
   "outputs": [],
   "source": []
  },
  {
   "cell_type": "code",
   "execution_count": 89,
   "metadata": {},
   "outputs": [],
   "source": [
    "data2={\n",
    "    \"updated\": \"2020-07-09\",\n",
    "    \"versions\": [\n",
    "        {\n",
    "            \"family\": \"macOS\",\n",
    "            \"version\": \"10.14\",\n",
    "            \"codename\": \"Mojave\",\n",
    "            \"announced\":\"2018-06-04\",\n",
    "            \"released\": \"2018-09-24\",\n",
    "            \"requirements\": [\n",
    "                \"iMac (Late 2012 or newer)\",\n",
    "                \"iMac Pro (2017)\",\n",
    "                \"Mac Mini (Late 2012 or newer)\",\n",
    "                \"Mac Pro (Late 2013; Mid 2010 and Mid 2012 models with recommended Metal-capable graphics cards)\",\n",
    "                \"MacBook (Early 2015 or newer)\",\n",
    "                \"MacBook Air (Mid 2012 or newer)\",\n",
    "                \"MacBook Pro (Mid 2012 or newer)\",\n",
    "                \"2 GB of memory\",\n",
    "                \"12.5 - 18.5 GB of available avaialable disk space\",\n",
    "                \"OS X 10.8 or later\"\n",
    "            ],\n",
    "            \"releases\": [\n",
    "                {\n",
    "                    \"version\": \"10.14\",\n",
    "                    \"build\": \"18A391\",\n",
    "                    \"darwin\": \"18.0.0\",\n",
    "                    \"released\": \"2018-09-24\"\n",
    "                },\n",
    "                {\n",
    "                    \"version\": \"10.14.1\",\n",
    "                    \"build\": \"18B75\",\n",
    "                    \"darwin\": \"18.2.0\",\n",
    "                    \"released\": \"2018-10-30\"\n",
    "                },\n",
    "                {\n",
    "                    \"version\": \"10.14.2\",\n",
    "                    \"build\": \"18C54\",\n",
    "                    \"darwin\": \"18.2.0\",\n",
    "                    \"released\": \"2018-12-05\"\n",
    "                },\n",
    "                {\n",
    "                    \"version\": \"10.14.3\",\n",
    "                    \"build\": \"18D42\",\n",
    "                    \"darwin\": \"18.2.0\",\n",
    "                    \"released\": \"2019-01-22\"\n",
    "                },\n",
    "                {\n",
    "                    \"version\": \"10.14.4\",\n",
    "                    \"build\": \"18E226\",\n",
    "                    \"darwin\": \"18.5.0\",\n",
    "                    \"released\": \"2019-03-25\"\n",
    "                },\n",
    "                {\n",
    "                    \"version\": \"10.14.5\",\n",
    "                    \"build\": \"18F132\",\n",
    "                    \"darwin\": \"18.6.0\",\n",
    "                    \"released\": \"2019-05-13\"\n",
    "                },\n",
    "                {\n",
    "                    \"version\": \"10.14.6\",\n",
    "                    \"build\": \"18G84\",\n",
    "                    \"darwin\": \"18.7.0\",\n",
    "                    \"released\": \"2019-07-22\"\n",
    "                }\n",
    "            ]\n",
    "        },\n",
    "        {\n",
    "            \"family\": \"macOS\",\n",
    "            \"version\": \"10.15\",\n",
    "            \"codename\": \"Catalina\",\n",
    "            \"announced\":\"2019-06-03\",\n",
    "            \"released\": \"2019-10-07\",\n",
    "            \"requirements\": [\n",
    "                \"iMac (Late 2012 or newer)\",\n",
    "                \"iMac Pro (2017)\",\n",
    "                \"Mac Mini (Late 2012 or newer)\",\n",
    "                \"Mac Pro (Late 2013)\",\n",
    "                \"MacBook (Early 2015 or newer)\",\n",
    "                \"MacBook Air (Mid 2012 or newer)\",\n",
    "                \"MacBook Pro (Mid 2012 or newer)\",\n",
    "                \"4 GB of memory\",\n",
    "                \"12.5 GB of available avaialable disk space\",\n",
    "                \"OS X 10.11.5 or later\"\n",
    "            ],\n",
    "            \"releases\": [\n",
    "                {\n",
    "                    \"version\": \"10.15\",\n",
    "                    \"build\": \"19A583\",\n",
    "                    \"darwin\": \"19.0.0\",\n",
    "                    \"released\": \"2019-10-07\"\n",
    "                },\n",
    "                {\n",
    "                    \"version\": \"10.15.1\",\n",
    "                    \"build\": \"19B88\",\n",
    "                    \"darwin\": \"19.0.0\",\n",
    "                    \"released\": \"2019-10-29\"\n",
    "                },\n",
    "                {\n",
    "                    \"version\": \"10.15.2\",\n",
    "                    \"build\": \"19C57\",\n",
    "                    \"darwin\": \"19.2.0\",\n",
    "                    \"released\": \"2019-12-10\"\n",
    "                },\n",
    "                {\n",
    "                    \"version\": \"10.15.3\",\n",
    "                    \"build\": \"19D76\",\n",
    "                    \"darwin\": \"19.3.0\",\n",
    "                    \"released\": \"2020-01-28\"\n",
    "                },\n",
    "                {\n",
    "                    \"version\": \"10.15.4\",\n",
    "                    \"build\": \"19E266\",\n",
    "                    \"darwin\": \"19.4.0\",\n",
    "                    \"released\": \"2020-03-24\"\n",
    "                },\n",
    "                {\n",
    "                    \"version\": \"10.15.5\",\n",
    "                    \"build\": \"19F96\",\n",
    "                    \"darwin\": \"19.5.0\",\n",
    "                    \"released\": \"2020-05-26\"\n",
    "                }\n",
    "            ]\n",
    "        }\n",
    "    ]\n",
    "}"
   ]
  },
  {
   "cell_type": "code",
   "execution_count": 152,
   "metadata": {},
   "outputs": [
    {
     "data": {
      "text/plain": [
       "{'version': '10.14',\n",
       " 'build': '18A391',\n",
       " 'darwin': '18.0.0',\n",
       " 'released': '2018-09-24'}"
      ]
     },
     "execution_count": 152,
     "metadata": {},
     "output_type": "execute_result"
    }
   ],
   "source": [
    "data2[\"versions\"][0][\"releases\"][0]"
   ]
  },
  {
   "cell_type": "code",
   "execution_count": 154,
   "metadata": {},
   "outputs": [
    {
     "data": {
      "text/plain": [
       "['18.0.0',\n",
       " '18.2.0',\n",
       " '18.2.0',\n",
       " '18.2.0',\n",
       " '18.5.0',\n",
       " '18.6.0',\n",
       " '18.7.0',\n",
       " '19.0.0',\n",
       " '19.0.0',\n",
       " '19.2.0',\n",
       " '19.3.0',\n",
       " '19.4.0',\n",
       " '19.5.0']"
      ]
     },
     "execution_count": 154,
     "metadata": {},
     "output_type": "execute_result"
    }
   ],
   "source": [
    "#return a list of all the darwins in the json structure\n",
    "#make dictionary where key is code name and values are darwins\n",
    "\n",
    "darwins = []\n",
    "versions = data2[\"versions\"]\n",
    "\n",
    "for entry in versions:\n",
    "    for item in entry[\"releases\"]:\n",
    "        for thing in item:\n",
    "            if thing == \"darwin\":\n",
    "                darwins.append(item[thing])\n",
    "\n",
    "darwins"
   ]
  },
  {
   "cell_type": "code",
   "execution_count": 136,
   "metadata": {},
   "outputs": [
    {
     "data": {
      "text/plain": [
       "{'family': 'macOS',\n",
       " 'version': '10.15',\n",
       " 'codename': 'Catalina',\n",
       " 'announced': '2019-06-03',\n",
       " 'released': '2019-10-07',\n",
       " 'requirements': ['iMac (Late 2012 or newer)',\n",
       "  'iMac Pro (2017)',\n",
       "  'Mac Mini (Late 2012 or newer)',\n",
       "  'Mac Pro (Late 2013)',\n",
       "  'MacBook (Early 2015 or newer)',\n",
       "  'MacBook Air (Mid 2012 or newer)',\n",
       "  'MacBook Pro (Mid 2012 or newer)',\n",
       "  '4 GB of memory',\n",
       "  '12.5 GB of available avaialable disk space',\n",
       "  'OS X 10.11.5 or later'],\n",
       " 'releases': [{'version': '10.15',\n",
       "   'build': '19A583',\n",
       "   'darwin': '19.0.0',\n",
       "   'released': '2019-10-07'},\n",
       "  {'version': '10.15.1',\n",
       "   'build': '19B88',\n",
       "   'darwin': '19.0.0',\n",
       "   'released': '2019-10-29'},\n",
       "  {'version': '10.15.2',\n",
       "   'build': '19C57',\n",
       "   'darwin': '19.2.0',\n",
       "   'released': '2019-12-10'},\n",
       "  {'version': '10.15.3',\n",
       "   'build': '19D76',\n",
       "   'darwin': '19.3.0',\n",
       "   'released': '2020-01-28'},\n",
       "  {'version': '10.15.4',\n",
       "   'build': '19E266',\n",
       "   'darwin': '19.4.0',\n",
       "   'released': '2020-03-24'},\n",
       "  {'version': '10.15.5',\n",
       "   'build': '19F96',\n",
       "   'darwin': '19.5.0',\n",
       "   'released': '2020-05-26'}]}"
      ]
     },
     "execution_count": 136,
     "metadata": {},
     "output_type": "execute_result"
    }
   ],
   "source": [
    "versions[1]"
   ]
  },
  {
   "cell_type": "code",
   "execution_count": 137,
   "metadata": {},
   "outputs": [
    {
     "data": {
      "text/plain": [
       "'Catalina'"
      ]
     },
     "execution_count": 137,
     "metadata": {},
     "output_type": "execute_result"
    }
   ],
   "source": [
    "versions[1][\"codename\"]"
   ]
  },
  {
   "cell_type": "code",
   "execution_count": 145,
   "metadata": {},
   "outputs": [
    {
     "data": {
      "text/plain": [
       "dict_keys(['family', 'version', 'codename', 'announced', 'released', 'requirements', 'releases'])"
      ]
     },
     "execution_count": 145,
     "metadata": {},
     "output_type": "execute_result"
    }
   ],
   "source": [
    "versions[1].keys()"
   ]
  },
  {
   "cell_type": "code",
   "execution_count": 164,
   "metadata": {},
   "outputs": [
    {
     "data": {
      "text/plain": [
       "{'Mojave': ['18.0.0',\n",
       "  '18.2.0',\n",
       "  '18.2.0',\n",
       "  '18.2.0',\n",
       "  '18.5.0',\n",
       "  '18.6.0',\n",
       "  '18.7.0'],\n",
       " 'Catalina': ['19.0.0', '19.0.0', '19.2.0', '19.3.0', '19.4.0', '19.5.0']}"
      ]
     },
     "execution_count": 164,
     "metadata": {},
     "output_type": "execute_result"
    }
   ],
   "source": [
    "#make dictionary where key is code name and values are darwins\n",
    "\n",
    "new_dict = {}\n",
    "for orange in versions:\n",
    "    new_dict[orange[\"codename\"]] = [x[\"darwin\"] for x in orange[\"releases\"]]\n",
    "\n",
    "new_dict"
   ]
  },
  {
   "cell_type": "markdown",
   "metadata": {},
   "source": []
  },
  {
   "cell_type": "code",
   "execution_count": null,
   "metadata": {},
   "outputs": [],
   "source": []
  },
  {
   "cell_type": "code",
   "execution_count": null,
   "metadata": {},
   "outputs": [],
   "source": []
  },
  {
   "cell_type": "code",
   "execution_count": null,
   "metadata": {},
   "outputs": [],
   "source": []
  },
  {
   "cell_type": "code",
   "execution_count": null,
   "metadata": {},
   "outputs": [],
   "source": []
  },
  {
   "cell_type": "code",
   "execution_count": 24,
   "metadata": {},
   "outputs": [
    {
     "name": "stdout",
     "output_type": "stream",
     "text": [
      "Mojave\n",
      "  iMac (Late 2012 or newer)\n",
      "  iMac Pro (2017)\n",
      "  Mac Mini (Late 2012 or newer)\n",
      "  Mac Pro (Late 2013; Mid 2010 and Mid 2012 models with recommended Metal-capable graphics cards)\n",
      "  MacBook (Early 2015 or newer)\n",
      "  MacBook Air (Mid 2012 or newer)\n",
      "  MacBook Pro (Mid 2012 or newer)\n",
      "  2 GB of memory\n",
      "  12.5 - 18.5 GB of available avaialable disk space\n",
      "  OS X 10.8 or later\n",
      "Catalina\n",
      "  iMac (Late 2012 or newer)\n",
      "  iMac Pro (2017)\n",
      "  Mac Mini (Late 2012 or newer)\n",
      "  Mac Pro (Late 2013)\n",
      "  MacBook (Early 2015 or newer)\n",
      "  MacBook Air (Mid 2012 or newer)\n",
      "  MacBook Pro (Mid 2012 or newer)\n",
      "  4 GB of memory\n",
      "  12.5 GB of available avaialable disk space\n",
      "  OS X 10.11.5 or later\n"
     ]
    }
   ],
   "source": [
    "for _version in data2[\"versions\"]: \n",
    "    print(_version[\"codename\"])\n",
    "    for _requirement in _version[\"requirements\"]: \n",
    "        print(\"  \" + _requirement)"
   ]
  },
  {
   "cell_type": "code",
   "execution_count": null,
   "metadata": {},
   "outputs": [],
   "source": []
  },
  {
   "cell_type": "code",
   "execution_count": null,
   "metadata": {},
   "outputs": [],
   "source": []
  },
  {
   "cell_type": "code",
   "execution_count": null,
   "metadata": {},
   "outputs": [],
   "source": []
  }
 ],
 "metadata": {
  "kernelspec": {
   "display_name": "Python 3",
   "language": "python",
   "name": "python3"
  },
  "language_info": {
   "codemirror_mode": {
    "name": "ipython",
    "version": 3
   },
   "file_extension": ".py",
   "mimetype": "text/x-python",
   "name": "python",
   "nbconvert_exporter": "python",
   "pygments_lexer": "ipython3",
   "version": "3.8.5"
  }
 },
 "nbformat": 4,
 "nbformat_minor": 5
}
