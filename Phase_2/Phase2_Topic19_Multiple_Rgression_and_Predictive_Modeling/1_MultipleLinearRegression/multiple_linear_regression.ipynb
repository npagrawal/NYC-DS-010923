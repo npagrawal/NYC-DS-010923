{
 "cells": [
  {
   "cell_type": "markdown",
   "metadata": {
    "slideshow": {
     "slide_type": "slide"
    }
   },
   "source": [
    "<div style=\"color:white;\n",
    "           display:fill;\n",
    "           border-radius:5px;\n",
    "           background-color:#5642C5;\n",
    "           font-size:200%;\n",
    "           font-family:Arial;letter-spacing:0.5px\">\n",
    "\n",
    "<p width = 20%, style=\"padding: 10px;\n",
    "              color:white;\">\n",
    "Multiple Linear Regression \n",
    "              \n",
    "</p>\n",
    "</div>\n",
    "\n",
    "Data Science Cohort Live NYC Feb 2023\n",
    "<p>Phase 2: Topic 19</p>\n",
    "<br>\n",
    "<br>\n",
    "\n",
    "<div align = \"right\">\n",
    "<img src=\"images/flatiron-school-logo.png\" align = \"right\" width=\"200\"/>\n",
    "</div>"
   ]
  },
  {
   "cell_type": "code",
<<<<<<< HEAD
   "execution_count": 14,
=======
   "execution_count": null,
>>>>>>> 39a24f39e7670a747a516f7b274acf55726ec935
   "metadata": {
    "slideshow": {
     "slide_type": "slide"
    }
   },
   "outputs": [],
   "source": [
    "import numpy as np\n",
    "import pandas as pd\n",
    "from matplotlib import pyplot as plt\n",
    "import seaborn as sns\n",
    "import statsmodels.api as sm\n",
    "from sklearn.preprocessing import OneHotEncoder, StandardScaler\n",
    "from sklearn.datasets import make_regression\n",
    "from sklearn.linear_model import LinearRegression\n",
    "import sklearn.metrics as metrics\n",
    "from random import gauss\n",
    "from mpl_toolkits.mplot3d import Axes3D\n",
    "from scipy import stats as stats\n",
    "\n",
    "%matplotlib inline"
   ]
  },
  {
   "cell_type": "markdown",
   "metadata": {
    "slideshow": {
     "slide_type": "slide"
    }
   },
   "source": [
    "![mlr](https://miro.medium.com/max/1280/1*lJKFo3yyZaFIx4ET1dLmlg.png)"
   ]
  },
  {
   "cell_type": "markdown",
   "metadata": {
    "heading_collapsed": true,
    "slideshow": {
     "slide_type": "slide"
    }
   },
   "source": [
    "# Multiple Linear Regression"
   ]
  },
  {
   "cell_type": "markdown",
   "metadata": {
    "heading_collapsed": true,
    "slideshow": {
     "slide_type": "fragment"
    }
   },
   "source": [
    "# Objectives"
   ]
  },
  {
   "cell_type": "markdown",
   "metadata": {
    "hidden": true,
    "slideshow": {
     "slide_type": "fragment"
    }
   },
   "source": [
    "- Conduct linear regressions in `statsmodels`\n",
    "- Use standard scaling for linear regression for better  interpretation\n",
    "- Conduct linear regressions in `sklearn`"
   ]
  },
  {
   "cell_type": "markdown",
   "metadata": {
    "slideshow": {
     "slide_type": "slide"
    }
   },
   "source": [
    "## <font color=red>Warm UP</font>\n",
    "1. What is the difference between simple and multiple linear regression?\n",
    "2. How do you interpret a simple linear model?\n"
   ]
  },
  {
   "cell_type": "markdown",
   "metadata": {
    "heading_collapsed": true,
    "slideshow": {
     "slide_type": "slide"
    }
   },
   "source": [
    "# Regression with Multiple Predictors"
   ]
  },
  {
   "cell_type": "markdown",
   "metadata": {
    "hidden": true,
    "slideshow": {
     "slide_type": "fragment"
    }
   },
   "source": [
    "> It's all a bunch of dials\n",
    "\n",
    "<img width='450px' src='images/dials.png'/>"
   ]
  },
  {
   "cell_type": "markdown",
   "metadata": {
    "hidden": true,
    "slideshow": {
     "slide_type": "slide"
    }
   },
   "source": [
    "The main idea here is pretty simple. Whereas, in simple linear regression we took our dependent variable to be a function only of a single independent variable, here we'll be taking the dependent variable to be a function of multiple independent variables."
   ]
  },
  {
   "cell_type": "markdown",
   "metadata": {
    "heading_collapsed": true,
    "hidden": true,
    "slideshow": {
     "slide_type": "slide"
    }
   },
   "source": [
    "## Expanding Simple Linear Regression"
   ]
  },
  {
   "cell_type": "markdown",
   "metadata": {
    "hidden": true,
    "slideshow": {
     "slide_type": "fragment"
    }
   },
   "source": [
    "Our regression equation, then, instead of looking like $\\hat{y} = mx + b$, will now look like:\n",
    "\n",
    "$\\hat{y} = \\hat{\\beta}_0 + \\hat{\\beta}_1x_1 + ... + \\hat{\\beta}_nx_n$.\n",
    "\n",
    "Remember that the hats ( $\\hat{}$ ) indicate parameters that are estimated."
   ]
  },
  {
   "cell_type": "markdown",
   "metadata": {
    "hidden": true,
    "slideshow": {
     "slide_type": "fragment"
    }
   },
   "source": [
    "Is this still a best-fit *line*? Well, no. What does the graph of, say, z = x + y look like? [Here's](https://academo.org/demos/3d-surface-plotter/) a 3d-plotter. (Of course, once we get x's with subscripts beyond 2 it's going to be very hard to visualize. But in practice linear regressions can make use of dozens or even of hundreds of independent variables!)"
   ]
  },
  {
   "cell_type": "markdown",
   "metadata": {
    "heading_collapsed": true,
    "hidden": true,
    "slideshow": {
     "slide_type": "slide"
    }
   },
   "source": [
    "## Closed-form Solution"
   ]
  },
  {
   "cell_type": "markdown",
   "metadata": {
    "hidden": true,
    "slideshow": {
     "slide_type": "fragment"
    }
   },
   "source": [
    "Is it possible to calculate the betas by hand? Yes, a multiple regression problem still has a closed-form solution."
   ]
  },
  {
   "cell_type": "markdown",
   "metadata": {
    "hidden": true,
    "slideshow": {
     "slide_type": "fragment"
    }
   },
   "source": [
    "In a word, for a multiple linear regression problem where $X$ is the matrix of independent variable values and $y$ is the vector of dependent variable values, the vector of optimizing regression coefficients $\\vec{b}$ is given by:\n",
    "\n",
    "$\\vec{b} = (X^TX)^{-1}X^Ty$."
   ]
  },
  {
   "cell_type": "markdown",
   "metadata": {
    "hidden": true,
    "slideshow": {
     "slide_type": "fragment"
    }
   },
   "source": [
    "We'll focus more directly on matrix mathematics later in the course, so don't worry if this equation is opaque to you. See [here](https://stattrek.com/multiple-regression/regression-coefficients.aspx) for a nice explanation and example."
   ]
  },
  {
   "cell_type": "markdown",
   "metadata": {
    "heading_collapsed": true,
    "slideshow": {
     "slide_type": "slide"
    }
   },
   "source": [
    "# Confounding Variables"
   ]
  },
  {
   "cell_type": "markdown",
   "metadata": {
    "hidden": true,
    "slideshow": {
     "slide_type": "fragment"
    }
   },
   "source": [
    "Suppose I have a simple linear regression that models the growth of corn plants as a function of the temperature of the ambient air. And suppose there is a noticeable positive correlation between temperature and plant height."
   ]
  },
  {
   "cell_type": "code",
<<<<<<< HEAD
   "execution_count": 15,
=======
   "execution_count": null,
>>>>>>> 39a24f39e7670a747a516f7b274acf55726ec935
   "metadata": {
    "hidden": true,
    "slideshow": {
     "slide_type": "slide"
    }
   },
   "outputs": [],
   "source": [
    "corn = pd.read_csv('data/corn.csv',\n",
    "                  usecols=['temp', 'humid', 'height'])"
   ]
  },
  {
   "cell_type": "code",
<<<<<<< HEAD
   "execution_count": 16,
=======
   "execution_count": null,
>>>>>>> 39a24f39e7670a747a516f7b274acf55726ec935
   "metadata": {
    "hidden": true,
    "slideshow": {
     "slide_type": "fragment"
    }
   },
<<<<<<< HEAD
   "outputs": [
    {
     "data": {
      "image/png": "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\n",
      "text/plain": [
       "<Figure size 360x360 with 1 Axes>"
      ]
     },
     "metadata": {
      "needs_background": "light"
     },
     "output_type": "display_data"
    }
   ],
=======
   "outputs": [],
>>>>>>> 39a24f39e7670a747a516f7b274acf55726ec935
   "source": [
    "sns.lmplot(data=corn, x='temp', y='height')\n",
    "plt.xlabel('Temperature ($\\degree$ F)')\n",
    "plt.ylabel('Height (cm)')\n",
    "plt.title('Corn plant height as a function of temperature');"
   ]
  },
  {
   "cell_type": "code",
<<<<<<< HEAD
   "execution_count": 17,
=======
   "execution_count": null,
>>>>>>> 39a24f39e7670a747a516f7b274acf55726ec935
   "metadata": {
    "hidden": true,
    "slideshow": {
     "slide_type": "slide"
    }
   },
<<<<<<< HEAD
   "outputs": [
    {
     "data": {
      "text/html": [
       "<div>\n",
       "<style scoped>\n",
       "    .dataframe tbody tr th:only-of-type {\n",
       "        vertical-align: middle;\n",
       "    }\n",
       "\n",
       "    .dataframe tbody tr th {\n",
       "        vertical-align: top;\n",
       "    }\n",
       "\n",
       "    .dataframe thead th {\n",
       "        text-align: right;\n",
       "    }\n",
       "</style>\n",
       "<table border=\"1\" class=\"dataframe\">\n",
       "  <thead>\n",
       "    <tr style=\"text-align: right;\">\n",
       "      <th></th>\n",
       "      <th>temp</th>\n",
       "      <th>humid</th>\n",
       "      <th>height</th>\n",
       "    </tr>\n",
       "  </thead>\n",
       "  <tbody>\n",
       "    <tr>\n",
       "      <th>0</th>\n",
       "      <td>58.086965</td>\n",
       "      <td>49.848304</td>\n",
       "      <td>122.222368</td>\n",
       "    </tr>\n",
       "    <tr>\n",
       "      <th>1</th>\n",
       "      <td>70.582087</td>\n",
       "      <td>22.855446</td>\n",
       "      <td>110.079666</td>\n",
       "    </tr>\n",
       "    <tr>\n",
       "      <th>2</th>\n",
       "      <td>75.868571</td>\n",
       "      <td>72.856834</td>\n",
       "      <td>256.812528</td>\n",
       "    </tr>\n",
       "    <tr>\n",
       "      <th>3</th>\n",
       "      <td>74.732376</td>\n",
       "      <td>38.907566</td>\n",
       "      <td>167.889601</td>\n",
       "    </tr>\n",
       "    <tr>\n",
       "      <th>4</th>\n",
       "      <td>77.384666</td>\n",
       "      <td>42.570524</td>\n",
       "      <td>188.914312</td>\n",
       "    </tr>\n",
       "  </tbody>\n",
       "</table>\n",
       "</div>"
      ],
      "text/plain": [
       "        temp      humid      height\n",
       "0  58.086965  49.848304  122.222368\n",
       "1  70.582087  22.855446  110.079666\n",
       "2  75.868571  72.856834  256.812528\n",
       "3  74.732376  38.907566  167.889601\n",
       "4  77.384666  42.570524  188.914312"
      ]
     },
     "execution_count": 17,
     "metadata": {},
     "output_type": "execute_result"
    }
   ],
=======
   "outputs": [],
>>>>>>> 39a24f39e7670a747a516f7b274acf55726ec935
   "source": [
    "corn.head()"
   ]
  },
  {
   "cell_type": "markdown",
   "metadata": {
    "hidden": true,
    "slideshow": {
     "slide_type": "fragment"
    }
   },
   "source": [
    "It seems that higher temperatures lead to taller corn plants. But it's hard to know for sure. One **confounding variable** might be *humidity*. If we haven't controlled for humidity, then it's difficult to draw conclusions.\n",
    "\n",
    "One solution is to use **both features** in a single model."
   ]
  },
  {
   "cell_type": "code",
<<<<<<< HEAD
   "execution_count": 18,
=======
   "execution_count": null,
>>>>>>> 39a24f39e7670a747a516f7b274acf55726ec935
   "metadata": {
    "hidden": true,
    "slideshow": {
     "slide_type": "slide"
    }
   },
<<<<<<< HEAD
   "outputs": [
    {
     "data": {
      "image/png": "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\n",
      "text/plain": [
       "<Figure size 360x360 with 1 Axes>"
      ]
     },
     "metadata": {
      "needs_background": "light"
     },
     "output_type": "display_data"
    }
   ],
=======
   "outputs": [],
>>>>>>> 39a24f39e7670a747a516f7b274acf55726ec935
   "source": [
    "sns.lmplot(data=corn, x='humid', y='height')\n",
    "plt.xlabel('Humidity (%)')\n",
    "plt.ylabel('Height (cm)')\n",
    "plt.title('Corn plant height as a function of humidity');"
   ]
  },
  {
   "cell_type": "code",
<<<<<<< HEAD
   "execution_count": 19,
=======
   "execution_count": null,
>>>>>>> 39a24f39e7670a747a516f7b274acf55726ec935
   "metadata": {
    "hidden": true,
    "slideshow": {
     "slide_type": "slide"
    }
   },
<<<<<<< HEAD
   "outputs": [
    {
     "data": {
      "image/png": "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\n",
      "text/plain": [
       "<Figure size 576x432 with 1 Axes>"
      ]
     },
     "metadata": {
      "needs_background": "light"
     },
     "output_type": "display_data"
    }
   ],
=======
   "outputs": [],
>>>>>>> 39a24f39e7670a747a516f7b274acf55726ec935
   "source": [
    "ax = plt.figure(figsize=(8, 6)).add_subplot(111, projection='3d')\n",
    "ax.scatter(corn['temp'], corn['humid'], corn['height'],\n",
    "           depthshade=True, s=40, color='#ff0000')\n",
    "# create x,y\n",
    "xx, yy = np.meshgrid(corn['temp'], corn['humid'])\n",
    "\n",
    "# calculate corresponding z\n",
    "z = 4.3825 * xx + 2.4693 * yy - 255.5434\n",
    "\n",
    "# plot the surface\n",
    "ax.plot_surface(xx, yy, z, alpha=0.01, color='#00ff00')\n",
    "\n",
    "ax.view_init(30, azim=240)\n",
    "ax.set_xlabel('Temperature ($\\degree$ F)')\n",
    "ax.set_ylabel('Humidity (%)')\n",
    "ax.set_zlabel('Height (cm)')\n",
    "plt.title('Corn plant height as a function of temperature and humidity');"
   ]
  },
  {
   "cell_type": "markdown",
   "metadata": {
    "hidden": true,
    "slideshow": {
     "slide_type": "slide"
    }
   },
   "source": [
    "One risk we run when adding more predictors to a model is that their correlations with the target may be nearly *collinear* with each other. This can make it difficult to determine which predictor is doing the heavy lifting. We shall explore this theme of **multicollinearity** in more depth in due course."
   ]
  },
  {
   "cell_type": "markdown",
   "metadata": {
    "heading_collapsed": true,
    "slideshow": {
     "slide_type": "slide"
    }
   },
   "source": [
    "# Multiple Regression in `statsmodels`"
   ]
  },
  {
   "cell_type": "markdown",
   "metadata": {
    "hidden": true,
    "slideshow": {
     "slide_type": "fragment"
    }
   },
   "source": [
    "Let's build a multiple regression with `statsmodels`. Let's start with a toy model:"
   ]
  },
  {
   "cell_type": "code",
<<<<<<< HEAD
   "execution_count": 20,
=======
   "execution_count": null,
>>>>>>> 39a24f39e7670a747a516f7b274acf55726ec935
   "metadata": {
    "hidden": true,
    "slideshow": {
     "slide_type": "fragment"
    }
   },
   "outputs": [],
   "source": [
    "centers = np.arange(1, 6)\n",
    "preds = np.array([stats.norm(loc=center, scale=3).rvs(200) for center in centers]).T\n",
    "preds_df = pd.DataFrame(preds, columns=[f'var{center}' for center in centers])\n",
    "\n",
    "target = preds_df['var1'] + 2*preds_df['var2'] + 3*preds_df['var3']\\\n",
    "    + 4*preds_df['var4'] + 5*preds_df['var5']\n",
    "target_df = pd.DataFrame(target, columns=['target'])"
   ]
  },
  {
   "cell_type": "code",
<<<<<<< HEAD
   "execution_count": 21,
=======
   "execution_count": null,
>>>>>>> 39a24f39e7670a747a516f7b274acf55726ec935
   "metadata": {
    "cell_style": "center",
    "hidden": true,
    "slideshow": {
     "slide_type": "fragment"
    }
   },
<<<<<<< HEAD
   "outputs": [
    {
     "data": {
      "text/html": [
       "<div>\n",
       "<style scoped>\n",
       "    .dataframe tbody tr th:only-of-type {\n",
       "        vertical-align: middle;\n",
       "    }\n",
       "\n",
       "    .dataframe tbody tr th {\n",
       "        vertical-align: top;\n",
       "    }\n",
       "\n",
       "    .dataframe thead th {\n",
       "        text-align: right;\n",
       "    }\n",
       "</style>\n",
       "<table border=\"1\" class=\"dataframe\">\n",
       "  <thead>\n",
       "    <tr style=\"text-align: right;\">\n",
       "      <th></th>\n",
       "      <th>var1</th>\n",
       "      <th>var2</th>\n",
       "      <th>var3</th>\n",
       "      <th>var4</th>\n",
       "      <th>var5</th>\n",
       "      <th>target</th>\n",
       "    </tr>\n",
       "  </thead>\n",
       "  <tbody>\n",
       "    <tr>\n",
       "      <th>0</th>\n",
       "      <td>3.947984</td>\n",
       "      <td>1.595344</td>\n",
       "      <td>-0.513107</td>\n",
       "      <td>0.382944</td>\n",
       "      <td>5.784980</td>\n",
       "      <td>36.056025</td>\n",
       "    </tr>\n",
       "    <tr>\n",
       "      <th>1</th>\n",
       "      <td>0.883237</td>\n",
       "      <td>-1.285086</td>\n",
       "      <td>2.310951</td>\n",
       "      <td>3.261749</td>\n",
       "      <td>-0.200930</td>\n",
       "      <td>17.288264</td>\n",
       "    </tr>\n",
       "    <tr>\n",
       "      <th>2</th>\n",
       "      <td>4.520157</td>\n",
       "      <td>-2.899143</td>\n",
       "      <td>1.346661</td>\n",
       "      <td>6.583270</td>\n",
       "      <td>4.339256</td>\n",
       "      <td>50.791213</td>\n",
       "    </tr>\n",
       "    <tr>\n",
       "      <th>3</th>\n",
       "      <td>-1.114558</td>\n",
       "      <td>-0.247919</td>\n",
       "      <td>1.626287</td>\n",
       "      <td>10.485703</td>\n",
       "      <td>3.404755</td>\n",
       "      <td>62.235049</td>\n",
       "    </tr>\n",
       "    <tr>\n",
       "      <th>4</th>\n",
       "      <td>2.739408</td>\n",
       "      <td>5.840285</td>\n",
       "      <td>4.672364</td>\n",
       "      <td>5.057471</td>\n",
       "      <td>0.923408</td>\n",
       "      <td>53.283995</td>\n",
       "    </tr>\n",
       "  </tbody>\n",
       "</table>\n",
       "</div>"
      ],
      "text/plain": [
       "       var1      var2      var3       var4      var5     target\n",
       "0  3.947984  1.595344 -0.513107   0.382944  5.784980  36.056025\n",
       "1  0.883237 -1.285086  2.310951   3.261749 -0.200930  17.288264\n",
       "2  4.520157 -2.899143  1.346661   6.583270  4.339256  50.791213\n",
       "3 -1.114558 -0.247919  1.626287  10.485703  3.404755  62.235049\n",
       "4  2.739408  5.840285  4.672364   5.057471  0.923408  53.283995"
      ]
     },
     "execution_count": 21,
     "metadata": {},
     "output_type": "execute_result"
    }
   ],
=======
   "outputs": [],
>>>>>>> 39a24f39e7670a747a516f7b274acf55726ec935
   "source": [
    "df = pd.concat([preds_df, target_df], axis=1)\n",
    "\n",
    "df.head()"
   ]
  },
  {
   "cell_type": "markdown",
   "metadata": {
    "slideshow": {
     "slide_type": "slide"
    }
   },
   "source": [
    "### Exercise"
   ]
  },
  {
   "cell_type": "markdown",
   "metadata": {
    "slideshow": {
     "slide_type": "fragment"
    }
   },
   "source": [
    "- Use `statsmodels.OLS()` to fit a linear regression model with five input variables to the target.\n",
    "- Run the model summary. What are the betas? What value of $R^2$ did you get?"
   ]
  },
  {
   "cell_type": "markdown",
   "metadata": {
    "slideshow": {
     "slide_type": "fragment"
    }
   },
   "source": [
    "<details>\n",
    "    <summary>Answer</summary>\n",
    "<code>X = df.drop('target', axis=1)\n",
    "y = df['target']\n",
    "model = sm.OLS(endog=y, exog=X).fit()\n",
    "model.summary()</code>\n",
    "    </details>"
   ]
  },
  {
   "cell_type": "markdown",
   "metadata": {
    "heading_collapsed": true,
    "hidden": true,
    "slideshow": {
     "slide_type": "slide"
    }
   },
   "source": [
    "### Diamonds Dataset"
   ]
  },
  {
   "cell_type": "code",
<<<<<<< HEAD
   "execution_count": 22,
=======
   "execution_count": null,
>>>>>>> 39a24f39e7670a747a516f7b274acf55726ec935
   "metadata": {
    "hidden": true,
    "scrolled": true,
    "slideshow": {
     "slide_type": "fragment"
    }
   },
   "outputs": [],
   "source": [
    "data = sns.load_dataset('diamonds').drop(['cut', 'color', 'clarity'], axis=1)"
   ]
  },
  {
   "cell_type": "code",
<<<<<<< HEAD
   "execution_count": 23,
=======
   "execution_count": null,
>>>>>>> 39a24f39e7670a747a516f7b274acf55726ec935
   "metadata": {
    "cell_style": "center",
    "hidden": true,
    "slideshow": {
     "slide_type": "fragment"
    }
   },
<<<<<<< HEAD
   "outputs": [
    {
     "data": {
      "text/html": [
       "<div>\n",
       "<style scoped>\n",
       "    .dataframe tbody tr th:only-of-type {\n",
       "        vertical-align: middle;\n",
       "    }\n",
       "\n",
       "    .dataframe tbody tr th {\n",
       "        vertical-align: top;\n",
       "    }\n",
       "\n",
       "    .dataframe thead th {\n",
       "        text-align: right;\n",
       "    }\n",
       "</style>\n",
       "<table border=\"1\" class=\"dataframe\">\n",
       "  <thead>\n",
       "    <tr style=\"text-align: right;\">\n",
       "      <th></th>\n",
       "      <th>carat</th>\n",
       "      <th>depth</th>\n",
       "      <th>table</th>\n",
       "      <th>price</th>\n",
       "      <th>x</th>\n",
       "      <th>y</th>\n",
       "      <th>z</th>\n",
       "    </tr>\n",
       "  </thead>\n",
       "  <tbody>\n",
       "    <tr>\n",
       "      <th>0</th>\n",
       "      <td>0.23</td>\n",
       "      <td>61.5</td>\n",
       "      <td>55.0</td>\n",
       "      <td>326</td>\n",
       "      <td>3.95</td>\n",
       "      <td>3.98</td>\n",
       "      <td>2.43</td>\n",
       "    </tr>\n",
       "    <tr>\n",
       "      <th>1</th>\n",
       "      <td>0.21</td>\n",
       "      <td>59.8</td>\n",
       "      <td>61.0</td>\n",
       "      <td>326</td>\n",
       "      <td>3.89</td>\n",
       "      <td>3.84</td>\n",
       "      <td>2.31</td>\n",
       "    </tr>\n",
       "    <tr>\n",
       "      <th>2</th>\n",
       "      <td>0.23</td>\n",
       "      <td>56.9</td>\n",
       "      <td>65.0</td>\n",
       "      <td>327</td>\n",
       "      <td>4.05</td>\n",
       "      <td>4.07</td>\n",
       "      <td>2.31</td>\n",
       "    </tr>\n",
       "    <tr>\n",
       "      <th>3</th>\n",
       "      <td>0.29</td>\n",
       "      <td>62.4</td>\n",
       "      <td>58.0</td>\n",
       "      <td>334</td>\n",
       "      <td>4.20</td>\n",
       "      <td>4.23</td>\n",
       "      <td>2.63</td>\n",
       "    </tr>\n",
       "    <tr>\n",
       "      <th>4</th>\n",
       "      <td>0.31</td>\n",
       "      <td>63.3</td>\n",
       "      <td>58.0</td>\n",
       "      <td>335</td>\n",
       "      <td>4.34</td>\n",
       "      <td>4.35</td>\n",
       "      <td>2.75</td>\n",
       "    </tr>\n",
       "  </tbody>\n",
       "</table>\n",
       "</div>"
      ],
      "text/plain": [
       "   carat  depth  table  price     x     y     z\n",
       "0   0.23   61.5   55.0    326  3.95  3.98  2.43\n",
       "1   0.21   59.8   61.0    326  3.89  3.84  2.31\n",
       "2   0.23   56.9   65.0    327  4.05  4.07  2.31\n",
       "3   0.29   62.4   58.0    334  4.20  4.23  2.63\n",
       "4   0.31   63.3   58.0    335  4.34  4.35  2.75"
      ]
     },
     "execution_count": 23,
     "metadata": {},
     "output_type": "execute_result"
    }
   ],
=======
   "outputs": [],
>>>>>>> 39a24f39e7670a747a516f7b274acf55726ec935
   "source": [
    "data.head()"
   ]
  },
  {
   "cell_type": "code",
<<<<<<< HEAD
   "execution_count": 24,
=======
   "execution_count": null,
>>>>>>> 39a24f39e7670a747a516f7b274acf55726ec935
   "metadata": {
    "cell_style": "center",
    "hidden": true,
    "slideshow": {
     "slide_type": "fragment"
    }
   },
   "outputs": [],
   "source": [
    "X, y = data.drop('price', axis=1), data['price']\n",
    "# add constant\n",
<<<<<<< HEAD
    "X = sm.add_constant(X)"
=======
    "X = "
>>>>>>> 39a24f39e7670a747a516f7b274acf55726ec935
   ]
  },
  {
   "cell_type": "code",
<<<<<<< HEAD
   "execution_count": 25,
=======
   "execution_count": null,
>>>>>>> 39a24f39e7670a747a516f7b274acf55726ec935
   "metadata": {
    "hidden": true,
    "slideshow": {
     "slide_type": "slide"
    }
   },
<<<<<<< HEAD
   "outputs": [
    {
     "data": {
      "text/html": [
       "<table class=\"simpletable\">\n",
       "<caption>OLS Regression Results</caption>\n",
       "<tr>\n",
       "  <th>Dep. Variable:</th>          <td>price</td>      <th>  R-squared:         </th>  <td>   0.859</td>  \n",
       "</tr>\n",
       "<tr>\n",
       "  <th>Model:</th>                   <td>OLS</td>       <th>  Adj. R-squared:    </th>  <td>   0.859</td>  \n",
       "</tr>\n",
       "<tr>\n",
       "  <th>Method:</th>             <td>Least Squares</td>  <th>  F-statistic:       </th>  <td>5.486e+04</td> \n",
       "</tr>\n",
       "<tr>\n",
       "  <th>Date:</th>             <td>Tue, 07 Feb 2023</td> <th>  Prob (F-statistic):</th>   <td>  0.00</td>   \n",
       "</tr>\n",
       "<tr>\n",
       "  <th>Time:</th>                 <td>15:21:47</td>     <th>  Log-Likelihood:    </th> <td>-4.7090e+05</td>\n",
       "</tr>\n",
       "<tr>\n",
       "  <th>No. Observations:</th>      <td> 53940</td>      <th>  AIC:               </th>  <td>9.418e+05</td> \n",
       "</tr>\n",
       "<tr>\n",
       "  <th>Df Residuals:</th>          <td> 53933</td>      <th>  BIC:               </th>  <td>9.419e+05</td> \n",
       "</tr>\n",
       "<tr>\n",
       "  <th>Df Model:</th>              <td>     6</td>      <th>                     </th>      <td> </td>     \n",
       "</tr>\n",
       "<tr>\n",
       "  <th>Covariance Type:</th>      <td>nonrobust</td>    <th>                     </th>      <td> </td>     \n",
       "</tr>\n",
       "</table>\n",
       "<table class=\"simpletable\">\n",
       "<tr>\n",
       "    <td></td>       <th>coef</th>     <th>std err</th>      <th>t</th>      <th>P>|t|</th>  <th>[0.025</th>    <th>0.975]</th>  \n",
       "</tr>\n",
       "<tr>\n",
       "  <th>const</th> <td> 2.085e+04</td> <td>  447.562</td> <td>   46.584</td> <td> 0.000</td> <td>    2e+04</td> <td> 2.17e+04</td>\n",
       "</tr>\n",
       "<tr>\n",
       "  <th>carat</th> <td> 1.069e+04</td> <td>   63.201</td> <td>  169.085</td> <td> 0.000</td> <td> 1.06e+04</td> <td> 1.08e+04</td>\n",
       "</tr>\n",
       "<tr>\n",
       "  <th>depth</th> <td> -203.1541</td> <td>    5.504</td> <td>  -36.910</td> <td> 0.000</td> <td> -213.942</td> <td> -192.366</td>\n",
       "</tr>\n",
       "<tr>\n",
       "  <th>table</th> <td> -102.4457</td> <td>    3.084</td> <td>  -33.216</td> <td> 0.000</td> <td> -108.491</td> <td>  -96.401</td>\n",
       "</tr>\n",
       "<tr>\n",
       "  <th>x</th>     <td>-1315.6678</td> <td>   43.070</td> <td>  -30.547</td> <td> 0.000</td> <td>-1400.086</td> <td>-1231.250</td>\n",
       "</tr>\n",
       "<tr>\n",
       "  <th>y</th>     <td>   66.3216</td> <td>   25.523</td> <td>    2.599</td> <td> 0.009</td> <td>   16.296</td> <td>  116.347</td>\n",
       "</tr>\n",
       "<tr>\n",
       "  <th>z</th>     <td>   41.6277</td> <td>   44.305</td> <td>    0.940</td> <td> 0.347</td> <td>  -45.210</td> <td>  128.465</td>\n",
       "</tr>\n",
       "</table>\n",
       "<table class=\"simpletable\">\n",
       "<tr>\n",
       "  <th>Omnibus:</th>       <td>14093.399</td> <th>  Durbin-Watson:     </th>  <td>   1.249</td> \n",
       "</tr>\n",
       "<tr>\n",
       "  <th>Prob(Omnibus):</th>  <td> 0.000</td>   <th>  Jarque-Bera (JB):  </th> <td>373568.966</td>\n",
       "</tr>\n",
       "<tr>\n",
       "  <th>Skew:</th>           <td> 0.674</td>   <th>  Prob(JB):          </th>  <td>    0.00</td> \n",
       "</tr>\n",
       "<tr>\n",
       "  <th>Kurtosis:</th>       <td>15.822</td>   <th>  Cond. No.          </th>  <td>5.91e+03</td> \n",
       "</tr>\n",
       "</table><br/><br/>Notes:<br/>[1] Standard Errors assume that the covariance matrix of the errors is correctly specified.<br/>[2] The condition number is large, 5.91e+03. This might indicate that there are<br/>strong multicollinearity or other numerical problems."
      ],
      "text/plain": [
       "<class 'statsmodels.iolib.summary.Summary'>\n",
       "\"\"\"\n",
       "                            OLS Regression Results                            \n",
       "==============================================================================\n",
       "Dep. Variable:                  price   R-squared:                       0.859\n",
       "Model:                            OLS   Adj. R-squared:                  0.859\n",
       "Method:                 Least Squares   F-statistic:                 5.486e+04\n",
       "Date:                Tue, 07 Feb 2023   Prob (F-statistic):               0.00\n",
       "Time:                        15:21:47   Log-Likelihood:            -4.7090e+05\n",
       "No. Observations:               53940   AIC:                         9.418e+05\n",
       "Df Residuals:                   53933   BIC:                         9.419e+05\n",
       "Df Model:                           6                                         \n",
       "Covariance Type:            nonrobust                                         \n",
       "==============================================================================\n",
       "                 coef    std err          t      P>|t|      [0.025      0.975]\n",
       "------------------------------------------------------------------------------\n",
       "const       2.085e+04    447.562     46.584      0.000       2e+04    2.17e+04\n",
       "carat       1.069e+04     63.201    169.085      0.000    1.06e+04    1.08e+04\n",
       "depth       -203.1541      5.504    -36.910      0.000    -213.942    -192.366\n",
       "table       -102.4457      3.084    -33.216      0.000    -108.491     -96.401\n",
       "x          -1315.6678     43.070    -30.547      0.000   -1400.086   -1231.250\n",
       "y             66.3216     25.523      2.599      0.009      16.296     116.347\n",
       "z             41.6277     44.305      0.940      0.347     -45.210     128.465\n",
       "==============================================================================\n",
       "Omnibus:                    14093.399   Durbin-Watson:                   1.249\n",
       "Prob(Omnibus):                  0.000   Jarque-Bera (JB):           373568.966\n",
       "Skew:                           0.674   Prob(JB):                         0.00\n",
       "Kurtosis:                      15.822   Cond. No.                     5.91e+03\n",
       "==============================================================================\n",
       "\n",
       "Notes:\n",
       "[1] Standard Errors assume that the covariance matrix of the errors is correctly specified.\n",
       "[2] The condition number is large, 5.91e+03. This might indicate that there are\n",
       "strong multicollinearity or other numerical problems.\n",
       "\"\"\""
      ]
     },
     "execution_count": 25,
     "metadata": {},
     "output_type": "execute_result"
    }
   ],
=======
   "outputs": [],
>>>>>>> 39a24f39e7670a747a516f7b274acf55726ec935
   "source": [
    "model2 = sm.OLS(y, X).fit()\n",
    "model2.summary()"
   ]
  },
  {
   "cell_type": "markdown",
   "metadata": {
    "heading_collapsed": true,
    "slideshow": {
     "slide_type": "slide"
    }
   },
   "source": [
    "#  Wine Dataset 🍷"
   ]
  },
  {
   "cell_type": "markdown",
   "metadata": {
    "hidden": true,
    "slideshow": {
     "slide_type": "fragment"
    }
   },
   "source": [
    "This dataset includes measurable attributes of different wines as well as their rated quality."
   ]
  },
  {
   "cell_type": "code",
<<<<<<< HEAD
   "execution_count": 26,
   "metadata": {
    "hidden": true,
    "slideshow": {
     "slide_type": "fragment"
    }
   },
   "outputs": [
    {
     "data": {
      "text/html": [
       "<div>\n",
       "<style scoped>\n",
       "    .dataframe tbody tr th:only-of-type {\n",
       "        vertical-align: middle;\n",
       "    }\n",
       "\n",
       "    .dataframe tbody tr th {\n",
       "        vertical-align: top;\n",
       "    }\n",
       "\n",
       "    .dataframe thead th {\n",
       "        text-align: right;\n",
       "    }\n",
       "</style>\n",
       "<table border=\"1\" class=\"dataframe\">\n",
       "  <thead>\n",
       "    <tr style=\"text-align: right;\">\n",
       "      <th></th>\n",
       "      <th>fixed acidity</th>\n",
       "      <th>volatile acidity</th>\n",
       "      <th>citric acid</th>\n",
       "      <th>residual sugar</th>\n",
       "      <th>chlorides</th>\n",
       "      <th>free sulfur dioxide</th>\n",
       "      <th>total sulfur dioxide</th>\n",
       "      <th>density</th>\n",
       "      <th>pH</th>\n",
       "      <th>sulphates</th>\n",
       "      <th>alcohol</th>\n",
       "      <th>quality</th>\n",
       "      <th>red_wine</th>\n",
       "    </tr>\n",
       "  </thead>\n",
       "  <tbody>\n",
       "    <tr>\n",
       "      <th>0</th>\n",
       "      <td>7.4</td>\n",
       "      <td>0.70</td>\n",
       "      <td>0.00</td>\n",
       "      <td>1.9</td>\n",
       "      <td>0.076</td>\n",
       "      <td>11.0</td>\n",
       "      <td>34.0</td>\n",
       "      <td>0.9978</td>\n",
       "      <td>3.51</td>\n",
       "      <td>0.56</td>\n",
       "      <td>9.4</td>\n",
       "      <td>5</td>\n",
       "      <td>1</td>\n",
       "    </tr>\n",
       "    <tr>\n",
       "      <th>1</th>\n",
       "      <td>7.8</td>\n",
       "      <td>0.88</td>\n",
       "      <td>0.00</td>\n",
       "      <td>2.6</td>\n",
       "      <td>0.098</td>\n",
       "      <td>25.0</td>\n",
       "      <td>67.0</td>\n",
       "      <td>0.9968</td>\n",
       "      <td>3.20</td>\n",
       "      <td>0.68</td>\n",
       "      <td>9.8</td>\n",
       "      <td>5</td>\n",
       "      <td>1</td>\n",
       "    </tr>\n",
       "    <tr>\n",
       "      <th>2</th>\n",
       "      <td>7.8</td>\n",
       "      <td>0.76</td>\n",
       "      <td>0.04</td>\n",
       "      <td>2.3</td>\n",
       "      <td>0.092</td>\n",
       "      <td>15.0</td>\n",
       "      <td>54.0</td>\n",
       "      <td>0.9970</td>\n",
       "      <td>3.26</td>\n",
       "      <td>0.65</td>\n",
       "      <td>9.8</td>\n",
       "      <td>5</td>\n",
       "      <td>1</td>\n",
       "    </tr>\n",
       "    <tr>\n",
       "      <th>3</th>\n",
       "      <td>11.2</td>\n",
       "      <td>0.28</td>\n",
       "      <td>0.56</td>\n",
       "      <td>1.9</td>\n",
       "      <td>0.075</td>\n",
       "      <td>17.0</td>\n",
       "      <td>60.0</td>\n",
       "      <td>0.9980</td>\n",
       "      <td>3.16</td>\n",
       "      <td>0.58</td>\n",
       "      <td>9.8</td>\n",
       "      <td>6</td>\n",
       "      <td>1</td>\n",
       "    </tr>\n",
       "    <tr>\n",
       "      <th>4</th>\n",
       "      <td>7.4</td>\n",
       "      <td>0.70</td>\n",
       "      <td>0.00</td>\n",
       "      <td>1.9</td>\n",
       "      <td>0.076</td>\n",
       "      <td>11.0</td>\n",
       "      <td>34.0</td>\n",
       "      <td>0.9978</td>\n",
       "      <td>3.51</td>\n",
       "      <td>0.56</td>\n",
       "      <td>9.4</td>\n",
       "      <td>5</td>\n",
       "      <td>1</td>\n",
       "    </tr>\n",
       "  </tbody>\n",
       "</table>\n",
       "</div>"
      ],
      "text/plain": [
       "   fixed acidity  volatile acidity  citric acid  residual sugar  chlorides  \\\n",
       "0            7.4              0.70         0.00             1.9      0.076   \n",
       "1            7.8              0.88         0.00             2.6      0.098   \n",
       "2            7.8              0.76         0.04             2.3      0.092   \n",
       "3           11.2              0.28         0.56             1.9      0.075   \n",
       "4            7.4              0.70         0.00             1.9      0.076   \n",
       "\n",
       "   free sulfur dioxide  total sulfur dioxide  density    pH  sulphates  \\\n",
       "0                 11.0                  34.0   0.9978  3.51       0.56   \n",
       "1                 25.0                  67.0   0.9968  3.20       0.68   \n",
       "2                 15.0                  54.0   0.9970  3.26       0.65   \n",
       "3                 17.0                  60.0   0.9980  3.16       0.58   \n",
       "4                 11.0                  34.0   0.9978  3.51       0.56   \n",
       "\n",
       "   alcohol  quality  red_wine  \n",
       "0      9.4        5         1  \n",
       "1      9.8        5         1  \n",
       "2      9.8        5         1  \n",
       "3      9.8        6         1  \n",
       "4      9.4        5         1  "
      ]
     },
     "execution_count": 26,
     "metadata": {},
     "output_type": "execute_result"
    }
   ],
=======
   "execution_count": null,
   "metadata": {
    "hidden": true,
    "slideshow": {
     "slide_type": "fragment"
    }
   },
   "outputs": [],
>>>>>>> 39a24f39e7670a747a516f7b274acf55726ec935
   "source": [
    "wine = pd.read_csv('data/wine.csv')\n",
    "\n",
    "wine.head()"
   ]
  },
  {
   "cell_type": "code",
<<<<<<< HEAD
   "execution_count": 27,
=======
   "execution_count": null,
>>>>>>> 39a24f39e7670a747a516f7b274acf55726ec935
   "metadata": {
    "hidden": true,
    "scrolled": true,
    "slideshow": {
     "slide_type": "fragment"
    }
   },
<<<<<<< HEAD
   "outputs": [
    {
     "name": "stdout",
     "output_type": "stream",
     "text": [
      "<class 'pandas.core.frame.DataFrame'>\n",
      "RangeIndex: 6497 entries, 0 to 6496\n",
      "Data columns (total 13 columns):\n",
      " #   Column                Non-Null Count  Dtype  \n",
      "---  ------                --------------  -----  \n",
      " 0   fixed acidity         6497 non-null   float64\n",
      " 1   volatile acidity      6497 non-null   float64\n",
      " 2   citric acid           6497 non-null   float64\n",
      " 3   residual sugar        6497 non-null   float64\n",
      " 4   chlorides             6497 non-null   float64\n",
      " 5   free sulfur dioxide   6497 non-null   float64\n",
      " 6   total sulfur dioxide  6497 non-null   float64\n",
      " 7   density               6497 non-null   float64\n",
      " 8   pH                    6497 non-null   float64\n",
      " 9   sulphates             6497 non-null   float64\n",
      " 10  alcohol               6497 non-null   float64\n",
      " 11  quality               6497 non-null   int64  \n",
      " 12  red_wine              6497 non-null   int64  \n",
      "dtypes: float64(11), int64(2)\n",
      "memory usage: 660.0 KB\n"
     ]
    }
   ],
=======
   "outputs": [],
>>>>>>> 39a24f39e7670a747a516f7b274acf55726ec935
   "source": [
    "wine.info()"
   ]
  },
  {
   "cell_type": "code",
<<<<<<< HEAD
   "execution_count": 28,
=======
   "execution_count": null,
>>>>>>> 39a24f39e7670a747a516f7b274acf55726ec935
   "metadata": {
    "hidden": true,
    "slideshow": {
     "slide_type": "slide"
    }
   },
<<<<<<< HEAD
   "outputs": [
    {
     "data": {
      "text/html": [
       "<div>\n",
       "<style scoped>\n",
       "    .dataframe tbody tr th:only-of-type {\n",
       "        vertical-align: middle;\n",
       "    }\n",
       "\n",
       "    .dataframe tbody tr th {\n",
       "        vertical-align: top;\n",
       "    }\n",
       "\n",
       "    .dataframe thead th {\n",
       "        text-align: right;\n",
       "    }\n",
       "</style>\n",
       "<table border=\"1\" class=\"dataframe\">\n",
       "  <thead>\n",
       "    <tr style=\"text-align: right;\">\n",
       "      <th></th>\n",
       "      <th>fixed acidity</th>\n",
       "      <th>volatile acidity</th>\n",
       "      <th>citric acid</th>\n",
       "      <th>residual sugar</th>\n",
       "      <th>chlorides</th>\n",
       "      <th>free sulfur dioxide</th>\n",
       "      <th>total sulfur dioxide</th>\n",
       "      <th>density</th>\n",
       "      <th>pH</th>\n",
       "      <th>sulphates</th>\n",
       "      <th>alcohol</th>\n",
       "      <th>quality</th>\n",
       "      <th>red_wine</th>\n",
       "    </tr>\n",
       "  </thead>\n",
       "  <tbody>\n",
       "    <tr>\n",
       "      <th>count</th>\n",
       "      <td>6497.000000</td>\n",
       "      <td>6497.000000</td>\n",
       "      <td>6497.000000</td>\n",
       "      <td>6497.000000</td>\n",
       "      <td>6497.000000</td>\n",
       "      <td>6497.000000</td>\n",
       "      <td>6497.000000</td>\n",
       "      <td>6497.000000</td>\n",
       "      <td>6497.000000</td>\n",
       "      <td>6497.000000</td>\n",
       "      <td>6497.000000</td>\n",
       "      <td>6497.000000</td>\n",
       "      <td>6497.000000</td>\n",
       "    </tr>\n",
       "    <tr>\n",
       "      <th>mean</th>\n",
       "      <td>7.215307</td>\n",
       "      <td>0.339666</td>\n",
       "      <td>0.318633</td>\n",
       "      <td>5.443235</td>\n",
       "      <td>0.056034</td>\n",
       "      <td>30.525319</td>\n",
       "      <td>115.744574</td>\n",
       "      <td>0.994697</td>\n",
       "      <td>3.218501</td>\n",
       "      <td>0.531268</td>\n",
       "      <td>10.491801</td>\n",
       "      <td>5.818378</td>\n",
       "      <td>0.246114</td>\n",
       "    </tr>\n",
       "    <tr>\n",
       "      <th>std</th>\n",
       "      <td>1.296434</td>\n",
       "      <td>0.164636</td>\n",
       "      <td>0.145318</td>\n",
       "      <td>4.757804</td>\n",
       "      <td>0.035034</td>\n",
       "      <td>17.749400</td>\n",
       "      <td>56.521855</td>\n",
       "      <td>0.002999</td>\n",
       "      <td>0.160787</td>\n",
       "      <td>0.148806</td>\n",
       "      <td>1.192712</td>\n",
       "      <td>0.873255</td>\n",
       "      <td>0.430779</td>\n",
       "    </tr>\n",
       "    <tr>\n",
       "      <th>min</th>\n",
       "      <td>3.800000</td>\n",
       "      <td>0.080000</td>\n",
       "      <td>0.000000</td>\n",
       "      <td>0.600000</td>\n",
       "      <td>0.009000</td>\n",
       "      <td>1.000000</td>\n",
       "      <td>6.000000</td>\n",
       "      <td>0.987110</td>\n",
       "      <td>2.720000</td>\n",
       "      <td>0.220000</td>\n",
       "      <td>8.000000</td>\n",
       "      <td>3.000000</td>\n",
       "      <td>0.000000</td>\n",
       "    </tr>\n",
       "    <tr>\n",
       "      <th>25%</th>\n",
       "      <td>6.400000</td>\n",
       "      <td>0.230000</td>\n",
       "      <td>0.250000</td>\n",
       "      <td>1.800000</td>\n",
       "      <td>0.038000</td>\n",
       "      <td>17.000000</td>\n",
       "      <td>77.000000</td>\n",
       "      <td>0.992340</td>\n",
       "      <td>3.110000</td>\n",
       "      <td>0.430000</td>\n",
       "      <td>9.500000</td>\n",
       "      <td>5.000000</td>\n",
       "      <td>0.000000</td>\n",
       "    </tr>\n",
       "    <tr>\n",
       "      <th>50%</th>\n",
       "      <td>7.000000</td>\n",
       "      <td>0.290000</td>\n",
       "      <td>0.310000</td>\n",
       "      <td>3.000000</td>\n",
       "      <td>0.047000</td>\n",
       "      <td>29.000000</td>\n",
       "      <td>118.000000</td>\n",
       "      <td>0.994890</td>\n",
       "      <td>3.210000</td>\n",
       "      <td>0.510000</td>\n",
       "      <td>10.300000</td>\n",
       "      <td>6.000000</td>\n",
       "      <td>0.000000</td>\n",
       "    </tr>\n",
       "    <tr>\n",
       "      <th>75%</th>\n",
       "      <td>7.700000</td>\n",
       "      <td>0.400000</td>\n",
       "      <td>0.390000</td>\n",
       "      <td>8.100000</td>\n",
       "      <td>0.065000</td>\n",
       "      <td>41.000000</td>\n",
       "      <td>156.000000</td>\n",
       "      <td>0.996990</td>\n",
       "      <td>3.320000</td>\n",
       "      <td>0.600000</td>\n",
       "      <td>11.300000</td>\n",
       "      <td>6.000000</td>\n",
       "      <td>0.000000</td>\n",
       "    </tr>\n",
       "    <tr>\n",
       "      <th>max</th>\n",
       "      <td>15.900000</td>\n",
       "      <td>1.580000</td>\n",
       "      <td>1.660000</td>\n",
       "      <td>65.800000</td>\n",
       "      <td>0.611000</td>\n",
       "      <td>289.000000</td>\n",
       "      <td>440.000000</td>\n",
       "      <td>1.038980</td>\n",
       "      <td>4.010000</td>\n",
       "      <td>2.000000</td>\n",
       "      <td>14.900000</td>\n",
       "      <td>9.000000</td>\n",
       "      <td>1.000000</td>\n",
       "    </tr>\n",
       "  </tbody>\n",
       "</table>\n",
       "</div>"
      ],
      "text/plain": [
       "       fixed acidity  volatile acidity  citric acid  residual sugar  \\\n",
       "count    6497.000000       6497.000000  6497.000000     6497.000000   \n",
       "mean        7.215307          0.339666     0.318633        5.443235   \n",
       "std         1.296434          0.164636     0.145318        4.757804   \n",
       "min         3.800000          0.080000     0.000000        0.600000   \n",
       "25%         6.400000          0.230000     0.250000        1.800000   \n",
       "50%         7.000000          0.290000     0.310000        3.000000   \n",
       "75%         7.700000          0.400000     0.390000        8.100000   \n",
       "max        15.900000          1.580000     1.660000       65.800000   \n",
       "\n",
       "         chlorides  free sulfur dioxide  total sulfur dioxide      density  \\\n",
       "count  6497.000000          6497.000000           6497.000000  6497.000000   \n",
       "mean      0.056034            30.525319            115.744574     0.994697   \n",
       "std       0.035034            17.749400             56.521855     0.002999   \n",
       "min       0.009000             1.000000              6.000000     0.987110   \n",
       "25%       0.038000            17.000000             77.000000     0.992340   \n",
       "50%       0.047000            29.000000            118.000000     0.994890   \n",
       "75%       0.065000            41.000000            156.000000     0.996990   \n",
       "max       0.611000           289.000000            440.000000     1.038980   \n",
       "\n",
       "                pH    sulphates      alcohol      quality     red_wine  \n",
       "count  6497.000000  6497.000000  6497.000000  6497.000000  6497.000000  \n",
       "mean      3.218501     0.531268    10.491801     5.818378     0.246114  \n",
       "std       0.160787     0.148806     1.192712     0.873255     0.430779  \n",
       "min       2.720000     0.220000     8.000000     3.000000     0.000000  \n",
       "25%       3.110000     0.430000     9.500000     5.000000     0.000000  \n",
       "50%       3.210000     0.510000    10.300000     6.000000     0.000000  \n",
       "75%       3.320000     0.600000    11.300000     6.000000     0.000000  \n",
       "max       4.010000     2.000000    14.900000     9.000000     1.000000  "
      ]
     },
     "execution_count": 28,
     "metadata": {},
     "output_type": "execute_result"
    }
   ],
=======
   "outputs": [],
>>>>>>> 39a24f39e7670a747a516f7b274acf55726ec935
   "source": [
    "wine.describe()"
   ]
  },
  {
   "cell_type": "markdown",
   "metadata": {
    "hidden": true,
    "slideshow": {
     "slide_type": "slide"
    }
   },
   "source": [
    "Imagine we want to attempt to estimate the perceived quality of a wine using these attributes."
   ]
  },
  {
   "cell_type": "code",
<<<<<<< HEAD
   "execution_count": 29,
=======
   "execution_count": null,
>>>>>>> 39a24f39e7670a747a516f7b274acf55726ec935
   "metadata": {
    "cell_style": "split",
    "hidden": true,
    "slideshow": {
     "slide_type": "fragment"
    }
   },
<<<<<<< HEAD
   "outputs": [
    {
     "data": {
      "text/plain": [
       "6    2836\n",
       "5    2138\n",
       "7    1079\n",
       "4     216\n",
       "8     193\n",
       "3      30\n",
       "9       5\n",
       "Name: quality, dtype: int64"
      ]
     },
     "execution_count": 29,
     "metadata": {},
     "output_type": "execute_result"
    }
   ],
=======
   "outputs": [],
>>>>>>> 39a24f39e7670a747a516f7b274acf55726ec935
   "source": [
    "wine['quality'].value_counts()"
   ]
  },
  {
   "cell_type": "code",
<<<<<<< HEAD
   "execution_count": 30,
=======
   "execution_count": null,
>>>>>>> 39a24f39e7670a747a516f7b274acf55726ec935
   "metadata": {
    "cell_style": "split",
    "hidden": true,
    "slideshow": {
     "slide_type": "fragment"
    }
   },
<<<<<<< HEAD
   "outputs": [
    {
     "data": {
      "text/plain": [
       "0    0.753886\n",
       "1    0.246114\n",
       "Name: red_wine, dtype: float64"
      ]
     },
     "execution_count": 30,
     "metadata": {},
     "output_type": "execute_result"
    }
   ],
=======
   "outputs": [],
>>>>>>> 39a24f39e7670a747a516f7b274acf55726ec935
   "source": [
    "wine['red_wine'].value_counts(normalize = True)"
   ]
  },
  {
   "cell_type": "markdown",
   "metadata": {
    "heading_collapsed": true,
    "hidden": true,
    "slideshow": {
     "slide_type": "slide"
    }
   },
   "source": [
    "## 🧠 **Knowledge Check**"
   ]
  },
  {
   "cell_type": "markdown",
   "metadata": {
    "hidden": true,
    "slideshow": {
     "slide_type": "fragment"
    }
   },
   "source": [
    "> Why are we using \"quality\" as the dependent variable (target)? Would it make sense for another feature to be the target instead?"
   ]
  },
  {
   "cell_type": "markdown",
   "metadata": {
    "heading_collapsed": true,
    "hidden": true,
    "slideshow": {
     "slide_type": "slide"
    }
   },
   "source": [
    "## Running the Regression"
   ]
  },
  {
   "cell_type": "markdown",
   "metadata": {
    "hidden": true,
    "slideshow": {
     "slide_type": "fragment"
    }
   },
   "source": [
    "First, we'll separate the data into our predictors (X) and target (y)"
   ]
  },
  {
   "cell_type": "code",
<<<<<<< HEAD
   "execution_count": 31,
=======
   "execution_count": null,
>>>>>>> 39a24f39e7670a747a516f7b274acf55726ec935
   "metadata": {
    "hidden": true,
    "scrolled": true,
    "slideshow": {
     "slide_type": "fragment"
    }
   },
<<<<<<< HEAD
   "outputs": [
    {
     "data": {
      "text/html": [
       "<div>\n",
       "<style scoped>\n",
       "    .dataframe tbody tr th:only-of-type {\n",
       "        vertical-align: middle;\n",
       "    }\n",
       "\n",
       "    .dataframe tbody tr th {\n",
       "        vertical-align: top;\n",
       "    }\n",
       "\n",
       "    .dataframe thead th {\n",
       "        text-align: right;\n",
       "    }\n",
       "</style>\n",
       "<table border=\"1\" class=\"dataframe\">\n",
       "  <thead>\n",
       "    <tr style=\"text-align: right;\">\n",
       "      <th></th>\n",
       "      <th>fixed acidity</th>\n",
       "      <th>volatile acidity</th>\n",
       "      <th>citric acid</th>\n",
       "      <th>residual sugar</th>\n",
       "      <th>chlorides</th>\n",
       "      <th>free sulfur dioxide</th>\n",
       "      <th>total sulfur dioxide</th>\n",
       "      <th>density</th>\n",
       "      <th>pH</th>\n",
       "      <th>sulphates</th>\n",
       "      <th>alcohol</th>\n",
       "      <th>red_wine</th>\n",
       "    </tr>\n",
       "  </thead>\n",
       "  <tbody>\n",
       "    <tr>\n",
       "      <th>0</th>\n",
       "      <td>7.4</td>\n",
       "      <td>0.70</td>\n",
       "      <td>0.00</td>\n",
       "      <td>1.9</td>\n",
       "      <td>0.076</td>\n",
       "      <td>11.0</td>\n",
       "      <td>34.0</td>\n",
       "      <td>0.9978</td>\n",
       "      <td>3.51</td>\n",
       "      <td>0.56</td>\n",
       "      <td>9.4</td>\n",
       "      <td>1</td>\n",
       "    </tr>\n",
       "    <tr>\n",
       "      <th>1</th>\n",
       "      <td>7.8</td>\n",
       "      <td>0.88</td>\n",
       "      <td>0.00</td>\n",
       "      <td>2.6</td>\n",
       "      <td>0.098</td>\n",
       "      <td>25.0</td>\n",
       "      <td>67.0</td>\n",
       "      <td>0.9968</td>\n",
       "      <td>3.20</td>\n",
       "      <td>0.68</td>\n",
       "      <td>9.8</td>\n",
       "      <td>1</td>\n",
       "    </tr>\n",
       "    <tr>\n",
       "      <th>2</th>\n",
       "      <td>7.8</td>\n",
       "      <td>0.76</td>\n",
       "      <td>0.04</td>\n",
       "      <td>2.3</td>\n",
       "      <td>0.092</td>\n",
       "      <td>15.0</td>\n",
       "      <td>54.0</td>\n",
       "      <td>0.9970</td>\n",
       "      <td>3.26</td>\n",
       "      <td>0.65</td>\n",
       "      <td>9.8</td>\n",
       "      <td>1</td>\n",
       "    </tr>\n",
       "    <tr>\n",
       "      <th>3</th>\n",
       "      <td>11.2</td>\n",
       "      <td>0.28</td>\n",
       "      <td>0.56</td>\n",
       "      <td>1.9</td>\n",
       "      <td>0.075</td>\n",
       "      <td>17.0</td>\n",
       "      <td>60.0</td>\n",
       "      <td>0.9980</td>\n",
       "      <td>3.16</td>\n",
       "      <td>0.58</td>\n",
       "      <td>9.8</td>\n",
       "      <td>1</td>\n",
       "    </tr>\n",
       "    <tr>\n",
       "      <th>4</th>\n",
       "      <td>7.4</td>\n",
       "      <td>0.70</td>\n",
       "      <td>0.00</td>\n",
       "      <td>1.9</td>\n",
       "      <td>0.076</td>\n",
       "      <td>11.0</td>\n",
       "      <td>34.0</td>\n",
       "      <td>0.9978</td>\n",
       "      <td>3.51</td>\n",
       "      <td>0.56</td>\n",
       "      <td>9.4</td>\n",
       "      <td>1</td>\n",
       "    </tr>\n",
       "  </tbody>\n",
       "</table>\n",
       "</div>"
      ],
      "text/plain": [
       "   fixed acidity  volatile acidity  citric acid  residual sugar  chlorides  \\\n",
       "0            7.4              0.70         0.00             1.9      0.076   \n",
       "1            7.8              0.88         0.00             2.6      0.098   \n",
       "2            7.8              0.76         0.04             2.3      0.092   \n",
       "3           11.2              0.28         0.56             1.9      0.075   \n",
       "4            7.4              0.70         0.00             1.9      0.076   \n",
       "\n",
       "   free sulfur dioxide  total sulfur dioxide  density    pH  sulphates  \\\n",
       "0                 11.0                  34.0   0.9978  3.51       0.56   \n",
       "1                 25.0                  67.0   0.9968  3.20       0.68   \n",
       "2                 15.0                  54.0   0.9970  3.26       0.65   \n",
       "3                 17.0                  60.0   0.9980  3.16       0.58   \n",
       "4                 11.0                  34.0   0.9978  3.51       0.56   \n",
       "\n",
       "   alcohol  red_wine  \n",
       "0      9.4         1  \n",
       "1      9.8         1  \n",
       "2      9.8         1  \n",
       "3      9.8         1  \n",
       "4      9.4         1  "
      ]
     },
     "execution_count": 31,
     "metadata": {},
     "output_type": "execute_result"
    }
   ],
=======
   "outputs": [],
>>>>>>> 39a24f39e7670a747a516f7b274acf55726ec935
   "source": [
    "wine_preds = wine.drop('quality', axis=1)\n",
    "wine_target = wine['quality']\n",
    "wine_preds.head()"
   ]
  },
  {
   "cell_type": "markdown",
   "metadata": {
    "hidden": true,
    "slideshow": {
     "slide_type": "fragment"
    }
   },
   "source": [
    "Now we can perform our (multiple) linear regression! Since we already used `statsmodels`, let's use that again to fit the model and then check the summary:"
   ]
  },
  {
   "cell_type": "markdown",
   "metadata": {
    "slideshow": {
     "slide_type": "slide"
    }
   },
   "source": [
    "### Adding an Intercept (\"Bias\", \"Constant\") Term"
   ]
  },
  {
   "cell_type": "markdown",
   "metadata": {
    "slideshow": {
     "slide_type": "fragment"
    }
   },
   "source": [
    "When we were looking at *simple* linear regression, we generally assumed that there would be an intercept term ($\\beta_0$) as well as a slope term ($\\beta_1$). That will be no less true for multiple linear regression. So this time let's add an intercept term. We can do that by simply adding a column of ones to our dataset, and `statsmodels` has a shortcut for that."
   ]
  },
  {
   "cell_type": "code",
<<<<<<< HEAD
   "execution_count": 32,
=======
   "execution_count": null,
>>>>>>> 39a24f39e7670a747a516f7b274acf55726ec935
   "metadata": {
    "hidden": true,
    "slideshow": {
     "slide_type": "slide"
    }
   },
<<<<<<< HEAD
   "outputs": [
    {
     "data": {
      "text/html": [
       "<div>\n",
       "<style scoped>\n",
       "    .dataframe tbody tr th:only-of-type {\n",
       "        vertical-align: middle;\n",
       "    }\n",
       "\n",
       "    .dataframe tbody tr th {\n",
       "        vertical-align: top;\n",
       "    }\n",
       "\n",
       "    .dataframe thead th {\n",
       "        text-align: right;\n",
       "    }\n",
       "</style>\n",
       "<table border=\"1\" class=\"dataframe\">\n",
       "  <thead>\n",
       "    <tr style=\"text-align: right;\">\n",
       "      <th></th>\n",
       "      <th>const</th>\n",
       "      <th>fixed acidity</th>\n",
       "      <th>volatile acidity</th>\n",
       "      <th>citric acid</th>\n",
       "      <th>residual sugar</th>\n",
       "      <th>chlorides</th>\n",
       "      <th>free sulfur dioxide</th>\n",
       "      <th>total sulfur dioxide</th>\n",
       "      <th>density</th>\n",
       "      <th>pH</th>\n",
       "      <th>sulphates</th>\n",
       "      <th>alcohol</th>\n",
       "      <th>red_wine</th>\n",
       "    </tr>\n",
       "  </thead>\n",
       "  <tbody>\n",
       "    <tr>\n",
       "      <th>0</th>\n",
       "      <td>1.0</td>\n",
       "      <td>7.4</td>\n",
       "      <td>0.70</td>\n",
       "      <td>0.00</td>\n",
       "      <td>1.9</td>\n",
       "      <td>0.076</td>\n",
       "      <td>11.0</td>\n",
       "      <td>34.0</td>\n",
       "      <td>0.99780</td>\n",
       "      <td>3.51</td>\n",
       "      <td>0.56</td>\n",
       "      <td>9.4</td>\n",
       "      <td>1</td>\n",
       "    </tr>\n",
       "    <tr>\n",
       "      <th>1</th>\n",
       "      <td>1.0</td>\n",
       "      <td>7.8</td>\n",
       "      <td>0.88</td>\n",
       "      <td>0.00</td>\n",
       "      <td>2.6</td>\n",
       "      <td>0.098</td>\n",
       "      <td>25.0</td>\n",
       "      <td>67.0</td>\n",
       "      <td>0.99680</td>\n",
       "      <td>3.20</td>\n",
       "      <td>0.68</td>\n",
       "      <td>9.8</td>\n",
       "      <td>1</td>\n",
       "    </tr>\n",
       "    <tr>\n",
       "      <th>2</th>\n",
       "      <td>1.0</td>\n",
       "      <td>7.8</td>\n",
       "      <td>0.76</td>\n",
       "      <td>0.04</td>\n",
       "      <td>2.3</td>\n",
       "      <td>0.092</td>\n",
       "      <td>15.0</td>\n",
       "      <td>54.0</td>\n",
       "      <td>0.99700</td>\n",
       "      <td>3.26</td>\n",
       "      <td>0.65</td>\n",
       "      <td>9.8</td>\n",
       "      <td>1</td>\n",
       "    </tr>\n",
       "    <tr>\n",
       "      <th>3</th>\n",
       "      <td>1.0</td>\n",
       "      <td>11.2</td>\n",
       "      <td>0.28</td>\n",
       "      <td>0.56</td>\n",
       "      <td>1.9</td>\n",
       "      <td>0.075</td>\n",
       "      <td>17.0</td>\n",
       "      <td>60.0</td>\n",
       "      <td>0.99800</td>\n",
       "      <td>3.16</td>\n",
       "      <td>0.58</td>\n",
       "      <td>9.8</td>\n",
       "      <td>1</td>\n",
       "    </tr>\n",
       "    <tr>\n",
       "      <th>4</th>\n",
       "      <td>1.0</td>\n",
       "      <td>7.4</td>\n",
       "      <td>0.70</td>\n",
       "      <td>0.00</td>\n",
       "      <td>1.9</td>\n",
       "      <td>0.076</td>\n",
       "      <td>11.0</td>\n",
       "      <td>34.0</td>\n",
       "      <td>0.99780</td>\n",
       "      <td>3.51</td>\n",
       "      <td>0.56</td>\n",
       "      <td>9.4</td>\n",
       "      <td>1</td>\n",
       "    </tr>\n",
       "    <tr>\n",
       "      <th>...</th>\n",
       "      <td>...</td>\n",
       "      <td>...</td>\n",
       "      <td>...</td>\n",
       "      <td>...</td>\n",
       "      <td>...</td>\n",
       "      <td>...</td>\n",
       "      <td>...</td>\n",
       "      <td>...</td>\n",
       "      <td>...</td>\n",
       "      <td>...</td>\n",
       "      <td>...</td>\n",
       "      <td>...</td>\n",
       "      <td>...</td>\n",
       "    </tr>\n",
       "    <tr>\n",
       "      <th>6492</th>\n",
       "      <td>1.0</td>\n",
       "      <td>6.2</td>\n",
       "      <td>0.21</td>\n",
       "      <td>0.29</td>\n",
       "      <td>1.6</td>\n",
       "      <td>0.039</td>\n",
       "      <td>24.0</td>\n",
       "      <td>92.0</td>\n",
       "      <td>0.99114</td>\n",
       "      <td>3.27</td>\n",
       "      <td>0.50</td>\n",
       "      <td>11.2</td>\n",
       "      <td>0</td>\n",
       "    </tr>\n",
       "    <tr>\n",
       "      <th>6493</th>\n",
       "      <td>1.0</td>\n",
       "      <td>6.6</td>\n",
       "      <td>0.32</td>\n",
       "      <td>0.36</td>\n",
       "      <td>8.0</td>\n",
       "      <td>0.047</td>\n",
       "      <td>57.0</td>\n",
       "      <td>168.0</td>\n",
       "      <td>0.99490</td>\n",
       "      <td>3.15</td>\n",
       "      <td>0.46</td>\n",
       "      <td>9.6</td>\n",
       "      <td>0</td>\n",
       "    </tr>\n",
       "    <tr>\n",
       "      <th>6494</th>\n",
       "      <td>1.0</td>\n",
       "      <td>6.5</td>\n",
       "      <td>0.24</td>\n",
       "      <td>0.19</td>\n",
       "      <td>1.2</td>\n",
       "      <td>0.041</td>\n",
       "      <td>30.0</td>\n",
       "      <td>111.0</td>\n",
       "      <td>0.99254</td>\n",
       "      <td>2.99</td>\n",
       "      <td>0.46</td>\n",
       "      <td>9.4</td>\n",
       "      <td>0</td>\n",
       "    </tr>\n",
       "    <tr>\n",
       "      <th>6495</th>\n",
       "      <td>1.0</td>\n",
       "      <td>5.5</td>\n",
       "      <td>0.29</td>\n",
       "      <td>0.30</td>\n",
       "      <td>1.1</td>\n",
       "      <td>0.022</td>\n",
       "      <td>20.0</td>\n",
       "      <td>110.0</td>\n",
       "      <td>0.98869</td>\n",
       "      <td>3.34</td>\n",
       "      <td>0.38</td>\n",
       "      <td>12.8</td>\n",
       "      <td>0</td>\n",
       "    </tr>\n",
       "    <tr>\n",
       "      <th>6496</th>\n",
       "      <td>1.0</td>\n",
       "      <td>6.0</td>\n",
       "      <td>0.21</td>\n",
       "      <td>0.38</td>\n",
       "      <td>0.8</td>\n",
       "      <td>0.020</td>\n",
       "      <td>22.0</td>\n",
       "      <td>98.0</td>\n",
       "      <td>0.98941</td>\n",
       "      <td>3.26</td>\n",
       "      <td>0.32</td>\n",
       "      <td>11.8</td>\n",
       "      <td>0</td>\n",
       "    </tr>\n",
       "  </tbody>\n",
       "</table>\n",
       "<p>6497 rows × 13 columns</p>\n",
       "</div>"
      ],
      "text/plain": [
       "      const  fixed acidity  volatile acidity  citric acid  residual sugar  \\\n",
       "0       1.0            7.4              0.70         0.00             1.9   \n",
       "1       1.0            7.8              0.88         0.00             2.6   \n",
       "2       1.0            7.8              0.76         0.04             2.3   \n",
       "3       1.0           11.2              0.28         0.56             1.9   \n",
       "4       1.0            7.4              0.70         0.00             1.9   \n",
       "...     ...            ...               ...          ...             ...   \n",
       "6492    1.0            6.2              0.21         0.29             1.6   \n",
       "6493    1.0            6.6              0.32         0.36             8.0   \n",
       "6494    1.0            6.5              0.24         0.19             1.2   \n",
       "6495    1.0            5.5              0.29         0.30             1.1   \n",
       "6496    1.0            6.0              0.21         0.38             0.8   \n",
       "\n",
       "      chlorides  free sulfur dioxide  total sulfur dioxide  density    pH  \\\n",
       "0         0.076                 11.0                  34.0  0.99780  3.51   \n",
       "1         0.098                 25.0                  67.0  0.99680  3.20   \n",
       "2         0.092                 15.0                  54.0  0.99700  3.26   \n",
       "3         0.075                 17.0                  60.0  0.99800  3.16   \n",
       "4         0.076                 11.0                  34.0  0.99780  3.51   \n",
       "...         ...                  ...                   ...      ...   ...   \n",
       "6492      0.039                 24.0                  92.0  0.99114  3.27   \n",
       "6493      0.047                 57.0                 168.0  0.99490  3.15   \n",
       "6494      0.041                 30.0                 111.0  0.99254  2.99   \n",
       "6495      0.022                 20.0                 110.0  0.98869  3.34   \n",
       "6496      0.020                 22.0                  98.0  0.98941  3.26   \n",
       "\n",
       "      sulphates  alcohol  red_wine  \n",
       "0          0.56      9.4         1  \n",
       "1          0.68      9.8         1  \n",
       "2          0.65      9.8         1  \n",
       "3          0.58      9.8         1  \n",
       "4          0.56      9.4         1  \n",
       "...         ...      ...       ...  \n",
       "6492       0.50     11.2         0  \n",
       "6493       0.46      9.6         0  \n",
       "6494       0.46      9.4         0  \n",
       "6495       0.38     12.8         0  \n",
       "6496       0.32     11.8         0  \n",
       "\n",
       "[6497 rows x 13 columns]"
      ]
     },
     "execution_count": 32,
     "metadata": {},
     "output_type": "execute_result"
    }
   ],
=======
   "outputs": [],
>>>>>>> 39a24f39e7670a747a516f7b274acf55726ec935
   "source": [
    "# use sm.add_constant() to add constant term/y-intercept\n",
    "predictors = sm.add_constant(wine_preds)\n",
    "predictors"
   ]
  },
  {
   "cell_type": "code",
<<<<<<< HEAD
   "execution_count": 33,
=======
   "execution_count": null,
>>>>>>> 39a24f39e7670a747a516f7b274acf55726ec935
   "metadata": {
    "hidden": true,
    "slideshow": {
     "slide_type": "slide"
    }
   },
   "outputs": [],
   "source": [
    "model = sm.OLS(wine_target, predictors).fit()"
   ]
  },
  {
   "cell_type": "markdown",
   "metadata": {
    "hidden": true,
    "slideshow": {
     "slide_type": "fragment"
    }
   },
   "source": [
    "> All right! So we fitted our model! Take a look at the summary and look if you can understand the different parts."
   ]
  },
  {
   "cell_type": "code",
<<<<<<< HEAD
   "execution_count": 34,
=======
   "execution_count": null,
>>>>>>> 39a24f39e7670a747a516f7b274acf55726ec935
   "metadata": {
    "hidden": true,
    "slideshow": {
     "slide_type": "slide"
    }
   },
<<<<<<< HEAD
   "outputs": [
    {
     "data": {
      "text/html": [
       "<table class=\"simpletable\">\n",
       "<caption>OLS Regression Results</caption>\n",
       "<tr>\n",
       "  <th>Dep. Variable:</th>         <td>quality</td>     <th>  R-squared:         </th> <td>   0.297</td> \n",
       "</tr>\n",
       "<tr>\n",
       "  <th>Model:</th>                   <td>OLS</td>       <th>  Adj. R-squared:    </th> <td>   0.295</td> \n",
       "</tr>\n",
       "<tr>\n",
       "  <th>Method:</th>             <td>Least Squares</td>  <th>  F-statistic:       </th> <td>   227.8</td> \n",
       "</tr>\n",
       "<tr>\n",
       "  <th>Date:</th>             <td>Tue, 07 Feb 2023</td> <th>  Prob (F-statistic):</th>  <td>  0.00</td>  \n",
       "</tr>\n",
       "<tr>\n",
       "  <th>Time:</th>                 <td>15:21:47</td>     <th>  Log-Likelihood:    </th> <td> -7195.2</td> \n",
       "</tr>\n",
       "<tr>\n",
       "  <th>No. Observations:</th>      <td>  6497</td>      <th>  AIC:               </th> <td>1.442e+04</td>\n",
       "</tr>\n",
       "<tr>\n",
       "  <th>Df Residuals:</th>          <td>  6484</td>      <th>  BIC:               </th> <td>1.450e+04</td>\n",
       "</tr>\n",
       "<tr>\n",
       "  <th>Df Model:</th>              <td>    12</td>      <th>                     </th>     <td> </td>    \n",
       "</tr>\n",
       "<tr>\n",
       "  <th>Covariance Type:</th>      <td>nonrobust</td>    <th>                     </th>     <td> </td>    \n",
       "</tr>\n",
       "</table>\n",
       "<table class=\"simpletable\">\n",
       "<tr>\n",
       "            <td></td>              <th>coef</th>     <th>std err</th>      <th>t</th>      <th>P>|t|</th>  <th>[0.025</th>    <th>0.975]</th>  \n",
       "</tr>\n",
       "<tr>\n",
       "  <th>const</th>                <td>  104.3904</td> <td>   14.105</td> <td>    7.401</td> <td> 0.000</td> <td>   76.741</td> <td>  132.040</td>\n",
       "</tr>\n",
       "<tr>\n",
       "  <th>fixed acidity</th>        <td>    0.0851</td> <td>    0.016</td> <td>    5.396</td> <td> 0.000</td> <td>    0.054</td> <td>    0.116</td>\n",
       "</tr>\n",
       "<tr>\n",
       "  <th>volatile acidity</th>     <td>   -1.4924</td> <td>    0.081</td> <td>  -18.345</td> <td> 0.000</td> <td>   -1.652</td> <td>   -1.333</td>\n",
       "</tr>\n",
       "<tr>\n",
       "  <th>citric acid</th>          <td>   -0.0626</td> <td>    0.080</td> <td>   -0.786</td> <td> 0.432</td> <td>   -0.219</td> <td>    0.094</td>\n",
       "</tr>\n",
       "<tr>\n",
       "  <th>residual sugar</th>       <td>    0.0624</td> <td>    0.006</td> <td>   10.522</td> <td> 0.000</td> <td>    0.051</td> <td>    0.074</td>\n",
       "</tr>\n",
       "<tr>\n",
       "  <th>chlorides</th>            <td>   -0.7573</td> <td>    0.334</td> <td>   -2.264</td> <td> 0.024</td> <td>   -1.413</td> <td>   -0.102</td>\n",
       "</tr>\n",
       "<tr>\n",
       "  <th>free sulfur dioxide</th>  <td>    0.0049</td> <td>    0.001</td> <td>    6.443</td> <td> 0.000</td> <td>    0.003</td> <td>    0.006</td>\n",
       "</tr>\n",
       "<tr>\n",
       "  <th>total sulfur dioxide</th> <td>   -0.0014</td> <td>    0.000</td> <td>   -4.333</td> <td> 0.000</td> <td>   -0.002</td> <td>   -0.001</td>\n",
       "</tr>\n",
       "<tr>\n",
       "  <th>density</th>              <td> -103.9096</td> <td>   14.336</td> <td>   -7.248</td> <td> 0.000</td> <td> -132.013</td> <td>  -75.806</td>\n",
       "</tr>\n",
       "<tr>\n",
       "  <th>pH</th>                   <td>    0.4988</td> <td>    0.091</td> <td>    5.506</td> <td> 0.000</td> <td>    0.321</td> <td>    0.676</td>\n",
       "</tr>\n",
       "<tr>\n",
       "  <th>sulphates</th>            <td>    0.7217</td> <td>    0.076</td> <td>    9.466</td> <td> 0.000</td> <td>    0.572</td> <td>    0.871</td>\n",
       "</tr>\n",
       "<tr>\n",
       "  <th>alcohol</th>              <td>    0.2227</td> <td>    0.018</td> <td>   12.320</td> <td> 0.000</td> <td>    0.187</td> <td>    0.258</td>\n",
       "</tr>\n",
       "<tr>\n",
       "  <th>red_wine</th>             <td>    0.3613</td> <td>    0.057</td> <td>    6.367</td> <td> 0.000</td> <td>    0.250</td> <td>    0.473</td>\n",
       "</tr>\n",
       "</table>\n",
       "<table class=\"simpletable\">\n",
       "<tr>\n",
       "  <th>Omnibus:</th>       <td>140.992</td> <th>  Durbin-Watson:     </th> <td>   1.648</td>\n",
       "</tr>\n",
       "<tr>\n",
       "  <th>Prob(Omnibus):</th> <td> 0.000</td>  <th>  Jarque-Bera (JB):  </th> <td> 313.985</td>\n",
       "</tr>\n",
       "<tr>\n",
       "  <th>Skew:</th>          <td> 0.016</td>  <th>  Prob(JB):          </th> <td>6.59e-69</td>\n",
       "</tr>\n",
       "<tr>\n",
       "  <th>Kurtosis:</th>      <td> 4.077</td>  <th>  Cond. No.          </th> <td>2.96e+05</td>\n",
       "</tr>\n",
       "</table><br/><br/>Notes:<br/>[1] Standard Errors assume that the covariance matrix of the errors is correctly specified.<br/>[2] The condition number is large, 2.96e+05. This might indicate that there are<br/>strong multicollinearity or other numerical problems."
      ],
      "text/plain": [
       "<class 'statsmodels.iolib.summary.Summary'>\n",
       "\"\"\"\n",
       "                            OLS Regression Results                            \n",
       "==============================================================================\n",
       "Dep. Variable:                quality   R-squared:                       0.297\n",
       "Model:                            OLS   Adj. R-squared:                  0.295\n",
       "Method:                 Least Squares   F-statistic:                     227.8\n",
       "Date:                Tue, 07 Feb 2023   Prob (F-statistic):               0.00\n",
       "Time:                        15:21:47   Log-Likelihood:                -7195.2\n",
       "No. Observations:                6497   AIC:                         1.442e+04\n",
       "Df Residuals:                    6484   BIC:                         1.450e+04\n",
       "Df Model:                          12                                         \n",
       "Covariance Type:            nonrobust                                         \n",
       "========================================================================================\n",
       "                           coef    std err          t      P>|t|      [0.025      0.975]\n",
       "----------------------------------------------------------------------------------------\n",
       "const                  104.3904     14.105      7.401      0.000      76.741     132.040\n",
       "fixed acidity            0.0851      0.016      5.396      0.000       0.054       0.116\n",
       "volatile acidity        -1.4924      0.081    -18.345      0.000      -1.652      -1.333\n",
       "citric acid             -0.0626      0.080     -0.786      0.432      -0.219       0.094\n",
       "residual sugar           0.0624      0.006     10.522      0.000       0.051       0.074\n",
       "chlorides               -0.7573      0.334     -2.264      0.024      -1.413      -0.102\n",
       "free sulfur dioxide      0.0049      0.001      6.443      0.000       0.003       0.006\n",
       "total sulfur dioxide    -0.0014      0.000     -4.333      0.000      -0.002      -0.001\n",
       "density               -103.9096     14.336     -7.248      0.000    -132.013     -75.806\n",
       "pH                       0.4988      0.091      5.506      0.000       0.321       0.676\n",
       "sulphates                0.7217      0.076      9.466      0.000       0.572       0.871\n",
       "alcohol                  0.2227      0.018     12.320      0.000       0.187       0.258\n",
       "red_wine                 0.3613      0.057      6.367      0.000       0.250       0.473\n",
       "==============================================================================\n",
       "Omnibus:                      140.992   Durbin-Watson:                   1.648\n",
       "Prob(Omnibus):                  0.000   Jarque-Bera (JB):              313.985\n",
       "Skew:                           0.016   Prob(JB):                     6.59e-69\n",
       "Kurtosis:                       4.077   Cond. No.                     2.96e+05\n",
       "==============================================================================\n",
       "\n",
       "Notes:\n",
       "[1] Standard Errors assume that the covariance matrix of the errors is correctly specified.\n",
       "[2] The condition number is large, 2.96e+05. This might indicate that there are\n",
       "strong multicollinearity or other numerical problems.\n",
       "\"\"\""
      ]
     },
     "execution_count": 34,
     "metadata": {},
     "output_type": "execute_result"
    }
   ],
=======
   "outputs": [],
>>>>>>> 39a24f39e7670a747a516f7b274acf55726ec935
   "source": [
    "model.summary()"
   ]
  },
  {
   "cell_type": "markdown",
   "metadata": {
    "heading_collapsed": true,
    "slideshow": {
     "slide_type": "slide"
    }
   },
   "source": [
    "# Scaling - The Missing & Helpful Step"
   ]
  },
  {
   "cell_type": "markdown",
   "metadata": {
    "hidden": true,
    "slideshow": {
     "slide_type": "fragment"
    }
   },
   "source": [
    "When you looked at the summary after we did the linear regression, you might have noticed something interesting.\n",
    "\n",
    "Observing the coefficients, you might notice there are two relatively large coefficients and nearly rest are less than 1."
   ]
  },
  {
   "cell_type": "markdown",
   "metadata": {
    "heading_collapsed": true,
    "hidden": true,
    "slideshow": {
     "slide_type": "slide"
    }
   },
   "source": [
    "## What's Going on Here?"
   ]
  },
  {
   "cell_type": "markdown",
   "metadata": {
    "hidden": true,
    "slideshow": {
     "slide_type": "fragment"
    }
   },
   "source": [
    "In a word, it's useful to have all of our variables be on the same scale, so that the resulting coefficients are easier to interpret. If the scales of the variables are very different one from another, then some of the coefficients may end up on very large or very tiny scales."
   ]
  },
  {
   "cell_type": "markdown",
   "metadata": {
    "hidden": true,
    "slideshow": {
     "slide_type": "fragment"
    }
   },
   "source": [
    "This happens since the coefficients will effectively attempt to \"shrink\" or \"expand\" the features before factoring their importance to the model."
   ]
  },
  {
   "cell_type": "markdown",
   "metadata": {
    "hidden": true,
    "slideshow": {
     "slide_type": "fragment"
    }
   },
   "source": [
    "![](images/shrinkinator.jpeg)"
   ]
  },
  {
   "cell_type": "markdown",
   "metadata": {
    "hidden": true,
    "slideshow": {
     "slide_type": "fragment"
    }
   },
   "source": [
    "This can make it more difficult for interpretation and identifying coefficients with the most \"effect\" on the prediction."
   ]
  },
  {
   "cell_type": "markdown",
   "metadata": {
    "hidden": true,
    "slideshow": {
     "slide_type": "fragment"
    }
   },
   "source": [
    "For more on this, see [this post](https://stats.stackexchange.com/questions/32649/some-of-my-predictors-are-on-very-different-scales-do-i-need-to-transform-them)."
   ]
  },
  {
   "cell_type": "markdown",
   "metadata": {
    "heading_collapsed": true,
    "hidden": true,
    "slideshow": {
     "slide_type": "slide"
    }
   },
   "source": [
    "## A Solution: Standard Scaling"
   ]
  },
  {
   "cell_type": "markdown",
   "metadata": {
    "hidden": true,
    "slideshow": {
     "slide_type": "fragment"
    }
   },
   "source": [
    "One solution is to *scale* our features. There are a few ways to do this but we'll focus on **standard scaling**."
   ]
  },
  {
   "cell_type": "markdown",
   "metadata": {
    "hidden": true,
    "slideshow": {
     "slide_type": "fragment"
    }
   },
   "source": [
    "When we do **standard scaling**, we're really scaling it to be the features' respective $z$-scores."
   ]
  },
  {
   "cell_type": "markdown",
   "metadata": {
    "hidden": true,
    "slideshow": {
     "slide_type": "fragment"
    }
   },
   "source": [
    "Benefits:\n",
    "\n",
    "- This tends to make values relatively small (mean value is at $0$ and one standard deviation $\\sigma$ from the mean is $1$).\n",
    "- Easier interpretation: larger coefficients tend to be more influential"
   ]
  },
  {
   "cell_type": "markdown",
   "metadata": {
    "slideshow": {
     "slide_type": "slide"
    }
   },
   "source": [
    "Let's take a moment on this last point. Recall our interpretation of the linear regression coefficients (or betas): Suppose the coefficient for some predictor $x_1$ in a linear model is $\\beta_1$. That's then to say that for a one-unit increase in the value of $x_1$, the model predicts an increase in the target of $\\beta_1$ units.\n",
    "\n",
    "But let's now focus on this idea of *units*. Suppose I build a model of liver tumor size (mm) that includes body mass (kg) and fingernail length ($\\mu$m) as predictive features. And suppose further that the coefficients I find after fitting the model are:\n",
    "\n",
    "- body mass: 0.1\n",
    "- fingernail length: 0.1\n",
    "\n",
    "Now: Which variable is more important to predicting liver tumor size? The coefficients have the same value, but they have very different interpretations in this context. The first coefficient tells us that, for every *kilogram* increase of body mass, I should expect an increase in liver tumor size of 0.1 mm. The second coefficient tells us that, for every *micron* increase of fingernal length, I should expect an increase in liver tumor size of 0.1 mm. Since microns are so small, fingernail length is likely more important than body mass.\n",
    "\n",
    "Another thing to keep in mind here is that scaling recasts the values of a variable in terms of that variable's *standard deviation*. And so variables with greater spreads of values will typically be more important than variables with smaller spreads. (A variable with no spread can't explain much of anything!)\n",
    "\n",
    "We can remove much of the guess work about which variables are more important by standardizing, since that **puts all variables on the same scale and in units of their standard deviations**.\n",
    "\n",
    "We just have to remember to keep in mind this transformation when *interpreting* our coefficients. So suppose our variables' standard deviations are something like\n",
    "\n",
    "- body mass: 20 kg\n",
    "- fingernail length: 3000 $\\mu$m\n",
    "\n",
    "And suppose that after scaling we get coefficients that look like this:\n",
    "\n",
    "- body mass: 2\n",
    "- fingernail length: 300\n",
    "\n",
    "Then we can say that for every increase in body mass of 20 kg, we can expect an increase in liver tumor size of 2 mm, and for every increase in fingernail length of 3000 $\\mu$m, we can expect an increase in liver tumor size of 300 mm. And now these coefficients are comparable in the sense that they both reflect the variables' underlying spreads and distributions.\n",
    "\n",
    "For more on this topic, see also [this blog post](https://www.analyticsvidhya.com/blog/2021/03/standardized-vs-unstandardized-regression-coefficient/)."
   ]
  },
  {
   "cell_type": "markdown",
   "metadata": {
    "hidden": true,
    "slideshow": {
     "slide_type": "fragment"
    }
   },
   "source": [
    "Next time, let's *scale* our columns as $z$-scores first. "
   ]
  },
  {
   "cell_type": "markdown",
   "metadata": {
    "heading_collapsed": true,
    "hidden": true,
    "slideshow": {
     "slide_type": "slide"
    }
   },
   "source": [
    "##  Redoing with Standard Scaling"
   ]
  },
  {
   "cell_type": "markdown",
   "metadata": {
    "hidden": true,
    "slideshow": {
     "slide_type": "fragment"
    }
   },
   "source": [
    "Let's try standard scaling the model with our wine dataset now."
   ]
  },
  {
   "cell_type": "code",
<<<<<<< HEAD
   "execution_count": 35,
=======
   "execution_count": null,
>>>>>>> 39a24f39e7670a747a516f7b274acf55726ec935
   "metadata": {
    "hidden": true,
    "slideshow": {
     "slide_type": "fragment"
    }
   },
   "outputs": [],
   "source": [
    "# We'll include all the columns for now.\n",
    "\n",
    "wine_preds_scaled = (wine_preds - wine_preds.mean()) / np.std(wine_preds)"
   ]
  },
  {
   "cell_type": "code",
<<<<<<< HEAD
   "execution_count": 36,
=======
   "execution_count": null,
>>>>>>> 39a24f39e7670a747a516f7b274acf55726ec935
   "metadata": {
    "hidden": true,
    "scrolled": true,
    "slideshow": {
     "slide_type": "fragment"
    }
   },
<<<<<<< HEAD
   "outputs": [
    {
     "data": {
      "text/html": [
       "<div>\n",
       "<style scoped>\n",
       "    .dataframe tbody tr th:only-of-type {\n",
       "        vertical-align: middle;\n",
       "    }\n",
       "\n",
       "    .dataframe tbody tr th {\n",
       "        vertical-align: top;\n",
       "    }\n",
       "\n",
       "    .dataframe thead th {\n",
       "        text-align: right;\n",
       "    }\n",
       "</style>\n",
       "<table border=\"1\" class=\"dataframe\">\n",
       "  <thead>\n",
       "    <tr style=\"text-align: right;\">\n",
       "      <th></th>\n",
       "      <th>fixed acidity</th>\n",
       "      <th>volatile acidity</th>\n",
       "      <th>citric acid</th>\n",
       "      <th>residual sugar</th>\n",
       "      <th>chlorides</th>\n",
       "      <th>free sulfur dioxide</th>\n",
       "      <th>total sulfur dioxide</th>\n",
       "      <th>density</th>\n",
       "      <th>pH</th>\n",
       "      <th>sulphates</th>\n",
       "      <th>alcohol</th>\n",
       "      <th>red_wine</th>\n",
       "    </tr>\n",
       "  </thead>\n",
       "  <tbody>\n",
       "    <tr>\n",
       "      <th>0</th>\n",
       "      <td>0.142473</td>\n",
       "      <td>2.188833</td>\n",
       "      <td>-2.192833</td>\n",
       "      <td>-0.744778</td>\n",
       "      <td>0.569958</td>\n",
       "      <td>-1.100140</td>\n",
       "      <td>-1.446359</td>\n",
       "      <td>1.034993</td>\n",
       "      <td>1.813090</td>\n",
       "      <td>0.193097</td>\n",
       "      <td>-0.915464</td>\n",
       "      <td>1.750190</td>\n",
       "    </tr>\n",
       "    <tr>\n",
       "      <th>1</th>\n",
       "      <td>0.451036</td>\n",
       "      <td>3.282235</td>\n",
       "      <td>-2.192833</td>\n",
       "      <td>-0.597640</td>\n",
       "      <td>1.197975</td>\n",
       "      <td>-0.311320</td>\n",
       "      <td>-0.862469</td>\n",
       "      <td>0.701486</td>\n",
       "      <td>-0.115073</td>\n",
       "      <td>0.999579</td>\n",
       "      <td>-0.580068</td>\n",
       "      <td>1.750190</td>\n",
       "    </tr>\n",
       "    <tr>\n",
       "      <th>2</th>\n",
       "      <td>0.451036</td>\n",
       "      <td>2.553300</td>\n",
       "      <td>-1.917553</td>\n",
       "      <td>-0.660699</td>\n",
       "      <td>1.026697</td>\n",
       "      <td>-0.874763</td>\n",
       "      <td>-1.092486</td>\n",
       "      <td>0.768188</td>\n",
       "      <td>0.258120</td>\n",
       "      <td>0.797958</td>\n",
       "      <td>-0.580068</td>\n",
       "      <td>1.750190</td>\n",
       "    </tr>\n",
       "    <tr>\n",
       "      <th>3</th>\n",
       "      <td>3.073817</td>\n",
       "      <td>-0.362438</td>\n",
       "      <td>1.661085</td>\n",
       "      <td>-0.744778</td>\n",
       "      <td>0.541412</td>\n",
       "      <td>-0.762074</td>\n",
       "      <td>-0.986324</td>\n",
       "      <td>1.101694</td>\n",
       "      <td>-0.363868</td>\n",
       "      <td>0.327510</td>\n",
       "      <td>-0.580068</td>\n",
       "      <td>1.750190</td>\n",
       "    </tr>\n",
       "    <tr>\n",
       "      <th>4</th>\n",
       "      <td>0.142473</td>\n",
       "      <td>2.188833</td>\n",
       "      <td>-2.192833</td>\n",
       "      <td>-0.744778</td>\n",
       "      <td>0.569958</td>\n",
       "      <td>-1.100140</td>\n",
       "      <td>-1.446359</td>\n",
       "      <td>1.034993</td>\n",
       "      <td>1.813090</td>\n",
       "      <td>0.193097</td>\n",
       "      <td>-0.915464</td>\n",
       "      <td>1.750190</td>\n",
       "    </tr>\n",
       "    <tr>\n",
       "      <th>...</th>\n",
       "      <td>...</td>\n",
       "      <td>...</td>\n",
       "      <td>...</td>\n",
       "      <td>...</td>\n",
       "      <td>...</td>\n",
       "      <td>...</td>\n",
       "      <td>...</td>\n",
       "      <td>...</td>\n",
       "      <td>...</td>\n",
       "      <td>...</td>\n",
       "      <td>...</td>\n",
       "      <td>...</td>\n",
       "    </tr>\n",
       "    <tr>\n",
       "      <th>6492</th>\n",
       "      <td>-0.783214</td>\n",
       "      <td>-0.787650</td>\n",
       "      <td>-0.197054</td>\n",
       "      <td>-0.807837</td>\n",
       "      <td>-0.486252</td>\n",
       "      <td>-0.367664</td>\n",
       "      <td>-0.420128</td>\n",
       "      <td>-1.186161</td>\n",
       "      <td>0.320319</td>\n",
       "      <td>-0.210144</td>\n",
       "      <td>0.593818</td>\n",
       "      <td>-0.571367</td>\n",
       "    </tr>\n",
       "    <tr>\n",
       "      <th>6493</th>\n",
       "      <td>-0.474652</td>\n",
       "      <td>-0.119460</td>\n",
       "      <td>0.284686</td>\n",
       "      <td>0.537425</td>\n",
       "      <td>-0.257883</td>\n",
       "      <td>1.491697</td>\n",
       "      <td>0.924588</td>\n",
       "      <td>0.067824</td>\n",
       "      <td>-0.426067</td>\n",
       "      <td>-0.478971</td>\n",
       "      <td>-0.747766</td>\n",
       "      <td>-0.571367</td>\n",
       "    </tr>\n",
       "    <tr>\n",
       "      <th>6494</th>\n",
       "      <td>-0.551792</td>\n",
       "      <td>-0.605417</td>\n",
       "      <td>-0.885253</td>\n",
       "      <td>-0.891916</td>\n",
       "      <td>-0.429160</td>\n",
       "      <td>-0.029599</td>\n",
       "      <td>-0.083949</td>\n",
       "      <td>-0.719251</td>\n",
       "      <td>-1.421248</td>\n",
       "      <td>-0.478971</td>\n",
       "      <td>-0.915464</td>\n",
       "      <td>-0.571367</td>\n",
       "    </tr>\n",
       "    <tr>\n",
       "      <th>6495</th>\n",
       "      <td>-1.323198</td>\n",
       "      <td>-0.301694</td>\n",
       "      <td>-0.128234</td>\n",
       "      <td>-0.912936</td>\n",
       "      <td>-0.971538</td>\n",
       "      <td>-0.593041</td>\n",
       "      <td>-0.101642</td>\n",
       "      <td>-2.003251</td>\n",
       "      <td>0.755710</td>\n",
       "      <td>-1.016626</td>\n",
       "      <td>1.935402</td>\n",
       "      <td>-0.571367</td>\n",
       "    </tr>\n",
       "    <tr>\n",
       "      <th>6496</th>\n",
       "      <td>-0.937495</td>\n",
       "      <td>-0.787650</td>\n",
       "      <td>0.422326</td>\n",
       "      <td>-0.975995</td>\n",
       "      <td>-1.028631</td>\n",
       "      <td>-0.480353</td>\n",
       "      <td>-0.313966</td>\n",
       "      <td>-1.763127</td>\n",
       "      <td>0.258120</td>\n",
       "      <td>-1.419867</td>\n",
       "      <td>1.096912</td>\n",
       "      <td>-0.571367</td>\n",
       "    </tr>\n",
       "  </tbody>\n",
       "</table>\n",
       "<p>6497 rows × 12 columns</p>\n",
       "</div>"
      ],
      "text/plain": [
       "      fixed acidity  volatile acidity  citric acid  residual sugar  chlorides  \\\n",
       "0          0.142473          2.188833    -2.192833       -0.744778   0.569958   \n",
       "1          0.451036          3.282235    -2.192833       -0.597640   1.197975   \n",
       "2          0.451036          2.553300    -1.917553       -0.660699   1.026697   \n",
       "3          3.073817         -0.362438     1.661085       -0.744778   0.541412   \n",
       "4          0.142473          2.188833    -2.192833       -0.744778   0.569958   \n",
       "...             ...               ...          ...             ...        ...   \n",
       "6492      -0.783214         -0.787650    -0.197054       -0.807837  -0.486252   \n",
       "6493      -0.474652         -0.119460     0.284686        0.537425  -0.257883   \n",
       "6494      -0.551792         -0.605417    -0.885253       -0.891916  -0.429160   \n",
       "6495      -1.323198         -0.301694    -0.128234       -0.912936  -0.971538   \n",
       "6496      -0.937495         -0.787650     0.422326       -0.975995  -1.028631   \n",
       "\n",
       "      free sulfur dioxide  total sulfur dioxide   density        pH  \\\n",
       "0               -1.100140             -1.446359  1.034993  1.813090   \n",
       "1               -0.311320             -0.862469  0.701486 -0.115073   \n",
       "2               -0.874763             -1.092486  0.768188  0.258120   \n",
       "3               -0.762074             -0.986324  1.101694 -0.363868   \n",
       "4               -1.100140             -1.446359  1.034993  1.813090   \n",
       "...                   ...                   ...       ...       ...   \n",
       "6492            -0.367664             -0.420128 -1.186161  0.320319   \n",
       "6493             1.491697              0.924588  0.067824 -0.426067   \n",
       "6494            -0.029599             -0.083949 -0.719251 -1.421248   \n",
       "6495            -0.593041             -0.101642 -2.003251  0.755710   \n",
       "6496            -0.480353             -0.313966 -1.763127  0.258120   \n",
       "\n",
       "      sulphates   alcohol  red_wine  \n",
       "0      0.193097 -0.915464  1.750190  \n",
       "1      0.999579 -0.580068  1.750190  \n",
       "2      0.797958 -0.580068  1.750190  \n",
       "3      0.327510 -0.580068  1.750190  \n",
       "4      0.193097 -0.915464  1.750190  \n",
       "...         ...       ...       ...  \n",
       "6492  -0.210144  0.593818 -0.571367  \n",
       "6493  -0.478971 -0.747766 -0.571367  \n",
       "6494  -0.478971 -0.915464 -0.571367  \n",
       "6495  -1.016626  1.935402 -0.571367  \n",
       "6496  -1.419867  1.096912 -0.571367  \n",
       "\n",
       "[6497 rows x 12 columns]"
      ]
     },
     "execution_count": 36,
     "metadata": {},
     "output_type": "execute_result"
    }
   ],
=======
   "outputs": [],
>>>>>>> 39a24f39e7670a747a516f7b274acf55726ec935
   "source": [
    "wine_preds_scaled"
   ]
  },
  {
   "cell_type": "code",
<<<<<<< HEAD
   "execution_count": 37,
=======
   "execution_count": null,
>>>>>>> 39a24f39e7670a747a516f7b274acf55726ec935
   "metadata": {
    "hidden": true,
    "scrolled": true,
    "slideshow": {
     "slide_type": "slide"
    }
   },
<<<<<<< HEAD
   "outputs": [
    {
     "data": {
      "text/html": [
       "<table class=\"simpletable\">\n",
       "<caption>OLS Regression Results</caption>\n",
       "<tr>\n",
       "  <th>Dep. Variable:</th>         <td>quality</td>     <th>  R-squared:         </th> <td>   0.297</td> \n",
       "</tr>\n",
       "<tr>\n",
       "  <th>Model:</th>                   <td>OLS</td>       <th>  Adj. R-squared:    </th> <td>   0.295</td> \n",
       "</tr>\n",
       "<tr>\n",
       "  <th>Method:</th>             <td>Least Squares</td>  <th>  F-statistic:       </th> <td>   227.8</td> \n",
       "</tr>\n",
       "<tr>\n",
       "  <th>Date:</th>             <td>Tue, 07 Feb 2023</td> <th>  Prob (F-statistic):</th>  <td>  0.00</td>  \n",
       "</tr>\n",
       "<tr>\n",
       "  <th>Time:</th>                 <td>15:21:47</td>     <th>  Log-Likelihood:    </th> <td> -7195.2</td> \n",
       "</tr>\n",
       "<tr>\n",
       "  <th>No. Observations:</th>      <td>  6497</td>      <th>  AIC:               </th> <td>1.442e+04</td>\n",
       "</tr>\n",
       "<tr>\n",
       "  <th>Df Residuals:</th>          <td>  6484</td>      <th>  BIC:               </th> <td>1.450e+04</td>\n",
       "</tr>\n",
       "<tr>\n",
       "  <th>Df Model:</th>              <td>    12</td>      <th>                     </th>     <td> </td>    \n",
       "</tr>\n",
       "<tr>\n",
       "  <th>Covariance Type:</th>      <td>nonrobust</td>    <th>                     </th>     <td> </td>    \n",
       "</tr>\n",
       "</table>\n",
       "<table class=\"simpletable\">\n",
       "<tr>\n",
       "            <td></td>              <th>coef</th>     <th>std err</th>      <th>t</th>      <th>P>|t|</th>  <th>[0.025</th>    <th>0.975]</th>  \n",
       "</tr>\n",
       "<tr>\n",
       "  <th>const</th>                <td>    5.8184</td> <td>    0.009</td> <td>  639.726</td> <td> 0.000</td> <td>    5.801</td> <td>    5.836</td>\n",
       "</tr>\n",
       "<tr>\n",
       "  <th>fixed acidity</th>        <td>    0.1103</td> <td>    0.020</td> <td>    5.396</td> <td> 0.000</td> <td>    0.070</td> <td>    0.150</td>\n",
       "</tr>\n",
       "<tr>\n",
       "  <th>volatile acidity</th>     <td>   -0.2457</td> <td>    0.013</td> <td>  -18.345</td> <td> 0.000</td> <td>   -0.272</td> <td>   -0.219</td>\n",
       "</tr>\n",
       "<tr>\n",
       "  <th>citric acid</th>          <td>   -0.0091</td> <td>    0.012</td> <td>   -0.786</td> <td> 0.432</td> <td>   -0.032</td> <td>    0.014</td>\n",
       "</tr>\n",
       "<tr>\n",
       "  <th>residual sugar</th>       <td>    0.2970</td> <td>    0.028</td> <td>   10.522</td> <td> 0.000</td> <td>    0.242</td> <td>    0.352</td>\n",
       "</tr>\n",
       "<tr>\n",
       "  <th>chlorides</th>            <td>   -0.0265</td> <td>    0.012</td> <td>   -2.264</td> <td> 0.024</td> <td>   -0.049</td> <td>   -0.004</td>\n",
       "</tr>\n",
       "<tr>\n",
       "  <th>free sulfur dioxide</th>  <td>    0.0876</td> <td>    0.014</td> <td>    6.443</td> <td> 0.000</td> <td>    0.061</td> <td>    0.114</td>\n",
       "</tr>\n",
       "<tr>\n",
       "  <th>total sulfur dioxide</th> <td>   -0.0793</td> <td>    0.018</td> <td>   -4.333</td> <td> 0.000</td> <td>   -0.115</td> <td>   -0.043</td>\n",
       "</tr>\n",
       "<tr>\n",
       "  <th>density</th>              <td>   -0.3116</td> <td>    0.043</td> <td>   -7.248</td> <td> 0.000</td> <td>   -0.396</td> <td>   -0.227</td>\n",
       "</tr>\n",
       "<tr>\n",
       "  <th>pH</th>                   <td>    0.0802</td> <td>    0.015</td> <td>    5.506</td> <td> 0.000</td> <td>    0.052</td> <td>    0.109</td>\n",
       "</tr>\n",
       "<tr>\n",
       "  <th>sulphates</th>            <td>    0.1074</td> <td>    0.011</td> <td>    9.466</td> <td> 0.000</td> <td>    0.085</td> <td>    0.130</td>\n",
       "</tr>\n",
       "<tr>\n",
       "  <th>alcohol</th>              <td>    0.2656</td> <td>    0.022</td> <td>   12.320</td> <td> 0.000</td> <td>    0.223</td> <td>    0.308</td>\n",
       "</tr>\n",
       "<tr>\n",
       "  <th>red_wine</th>             <td>    0.1556</td> <td>    0.024</td> <td>    6.367</td> <td> 0.000</td> <td>    0.108</td> <td>    0.204</td>\n",
       "</tr>\n",
       "</table>\n",
       "<table class=\"simpletable\">\n",
       "<tr>\n",
       "  <th>Omnibus:</th>       <td>140.992</td> <th>  Durbin-Watson:     </th> <td>   1.648</td>\n",
       "</tr>\n",
       "<tr>\n",
       "  <th>Prob(Omnibus):</th> <td> 0.000</td>  <th>  Jarque-Bera (JB):  </th> <td> 313.985</td>\n",
       "</tr>\n",
       "<tr>\n",
       "  <th>Skew:</th>          <td> 0.016</td>  <th>  Prob(JB):          </th> <td>6.59e-69</td>\n",
       "</tr>\n",
       "<tr>\n",
       "  <th>Kurtosis:</th>      <td> 4.077</td>  <th>  Cond. No.          </th> <td>    12.6</td>\n",
       "</tr>\n",
       "</table><br/><br/>Notes:<br/>[1] Standard Errors assume that the covariance matrix of the errors is correctly specified."
      ],
      "text/plain": [
       "<class 'statsmodels.iolib.summary.Summary'>\n",
       "\"\"\"\n",
       "                            OLS Regression Results                            \n",
       "==============================================================================\n",
       "Dep. Variable:                quality   R-squared:                       0.297\n",
       "Model:                            OLS   Adj. R-squared:                  0.295\n",
       "Method:                 Least Squares   F-statistic:                     227.8\n",
       "Date:                Tue, 07 Feb 2023   Prob (F-statistic):               0.00\n",
       "Time:                        15:21:47   Log-Likelihood:                -7195.2\n",
       "No. Observations:                6497   AIC:                         1.442e+04\n",
       "Df Residuals:                    6484   BIC:                         1.450e+04\n",
       "Df Model:                          12                                         \n",
       "Covariance Type:            nonrobust                                         \n",
       "========================================================================================\n",
       "                           coef    std err          t      P>|t|      [0.025      0.975]\n",
       "----------------------------------------------------------------------------------------\n",
       "const                    5.8184      0.009    639.726      0.000       5.801       5.836\n",
       "fixed acidity            0.1103      0.020      5.396      0.000       0.070       0.150\n",
       "volatile acidity        -0.2457      0.013    -18.345      0.000      -0.272      -0.219\n",
       "citric acid             -0.0091      0.012     -0.786      0.432      -0.032       0.014\n",
       "residual sugar           0.2970      0.028     10.522      0.000       0.242       0.352\n",
       "chlorides               -0.0265      0.012     -2.264      0.024      -0.049      -0.004\n",
       "free sulfur dioxide      0.0876      0.014      6.443      0.000       0.061       0.114\n",
       "total sulfur dioxide    -0.0793      0.018     -4.333      0.000      -0.115      -0.043\n",
       "density                 -0.3116      0.043     -7.248      0.000      -0.396      -0.227\n",
       "pH                       0.0802      0.015      5.506      0.000       0.052       0.109\n",
       "sulphates                0.1074      0.011      9.466      0.000       0.085       0.130\n",
       "alcohol                  0.2656      0.022     12.320      0.000       0.223       0.308\n",
       "red_wine                 0.1556      0.024      6.367      0.000       0.108       0.204\n",
       "==============================================================================\n",
       "Omnibus:                      140.992   Durbin-Watson:                   1.648\n",
       "Prob(Omnibus):                  0.000   Jarque-Bera (JB):              313.985\n",
       "Skew:                           0.016   Prob(JB):                     6.59e-69\n",
       "Kurtosis:                       4.077   Cond. No.                         12.6\n",
       "==============================================================================\n",
       "\n",
       "Notes:\n",
       "[1] Standard Errors assume that the covariance matrix of the errors is correctly specified.\n",
       "\"\"\""
      ]
     },
     "execution_count": 37,
     "metadata": {},
     "output_type": "execute_result"
    }
   ],
=======
   "outputs": [],
>>>>>>> 39a24f39e7670a747a516f7b274acf55726ec935
   "source": [
    "predictors = sm.add_constant(wine_preds_scaled)\n",
    "model = sm.OLS(wine_target, predictors).fit()\n",
    "model.summary()"
   ]
  },
  {
   "cell_type": "markdown",
   "metadata": {
    "hidden": true,
    "slideshow": {
     "slide_type": "slide"
    }
   },
   "source": [
    "> Check how well this model did with the one before scaling. Does it perform any differently?"
   ]
  },
  {
   "cell_type": "markdown",
   "metadata": {
    "heading_collapsed": true,
    "hidden": true,
    "slideshow": {
     "slide_type": "slide"
    }
   },
   "source": [
    "## 🧠 **Knowledge Check**"
   ]
  },
  {
   "cell_type": "markdown",
   "metadata": {
    "hidden": true,
    "slideshow": {
     "slide_type": "fragment"
    }
   },
   "source": [
    "> After standard scaling, what would it mean when all the $x_i$ are all $0$?"
   ]
  },
  {
   "cell_type": "markdown",
   "metadata": {
    "heading_collapsed": true,
    "hidden": true,
    "slideshow": {
     "slide_type": "slide"
    }
   },
   "source": [
    "## 🧠 **Knowledge Check**"
   ]
  },
  {
   "cell_type": "markdown",
   "metadata": {
    "heading_collapsed": true,
    "hidden": true,
    "slideshow": {
     "slide_type": "fragment"
    }
   },
   "source": [
    "### Follow-Up"
   ]
  },
  {
   "cell_type": "markdown",
   "metadata": {
    "hidden": true,
    "slideshow": {
     "slide_type": "fragment"
    }
   },
   "source": [
    "> What does this mean for the constant term $\\hat{\\beta}_0$? Could we check this?"
   ]
  },
  {
   "cell_type": "code",
<<<<<<< HEAD
   "execution_count": 38,
=======
   "execution_count": null,
>>>>>>> 39a24f39e7670a747a516f7b274acf55726ec935
   "metadata": {
    "hidden": true,
    "slideshow": {
     "slide_type": "fragment"
    }
   },
   "outputs": [],
   "source": [
    "#Check\n"
   ]
  },
  {
   "cell_type": "markdown",
   "metadata": {
    "heading_collapsed": true,
    "slideshow": {
     "slide_type": "slide"
    }
   },
   "source": [
    "# Multiple Regression in Scikit-Learn"
   ]
  },
  {
   "cell_type": "markdown",
   "metadata": {
    "hidden": true,
    "slideshow": {
     "slide_type": "fragment"
    }
   },
   "source": [
    "> It's great that we tried out multiple linear regression with `statsmodels`; now let's try it with `sklearn`!"
   ]
  },
  {
   "cell_type": "markdown",
   "metadata": {
    "heading_collapsed": true,
    "hidden": true,
    "slideshow": {
     "slide_type": "slide"
    }
   },
   "source": [
    "## Scale the Data"
   ]
  },
  {
   "cell_type": "code",
<<<<<<< HEAD
   "execution_count": 39,
=======
   "execution_count": null,
>>>>>>> 39a24f39e7670a747a516f7b274acf55726ec935
   "metadata": {
    "hidden": true,
    "slideshow": {
     "slide_type": "fragment"
    }
   },
   "outputs": [],
   "source": [
    "# Let's create a StandardScaler object to scale our data for us.\n",
    "ss = StandardScaler()"
   ]
  },
  {
   "cell_type": "code",
<<<<<<< HEAD
   "execution_count": 40,
=======
   "execution_count": null,
>>>>>>> 39a24f39e7670a747a516f7b274acf55726ec935
   "metadata": {
    "hidden": true,
    "slideshow": {
     "slide_type": "fragment"
    }
   },
   "outputs": [],
   "source": [
    "# Now we'll apply it to our data by using the .fit() and .transform() methods.\n",
    "ss.fit(wine_preds)\n",
    "\n",
    "wine_preds_st_scaled = ss.transform(wine_preds)"
   ]
  },
  {
   "cell_type": "code",
<<<<<<< HEAD
   "execution_count": 41,
=======
   "execution_count": null,
>>>>>>> 39a24f39e7670a747a516f7b274acf55726ec935
   "metadata": {
    "slideshow": {
     "slide_type": "fragment"
    }
   },
<<<<<<< HEAD
   "outputs": [
    {
     "data": {
      "text/plain": [
       "array([[ 0.14247327,  2.18883292, -2.19283252, ...,  0.19309677,\n",
       "        -0.91546416,  1.75018984],\n",
       "       [ 0.45103572,  3.28223494, -2.19283252, ...,  0.99957862,\n",
       "        -0.58006813,  1.75018984],\n",
       "       [ 0.45103572,  2.55330026, -1.91755268, ...,  0.79795816,\n",
       "        -0.58006813,  1.75018984],\n",
       "       ...,\n",
       "       [-0.55179227, -0.6054167 , -0.88525328, ..., -0.47897144,\n",
       "        -0.91546416, -0.57136659],\n",
       "       [-1.32319841, -0.30169391, -0.12823371, ..., -1.016626  ,\n",
       "         1.9354021 , -0.57136659],\n",
       "       [-0.93749534, -0.78765037,  0.42232597, ..., -1.41986693,\n",
       "         1.09691202, -0.57136659]])"
      ]
     },
     "execution_count": 41,
     "metadata": {},
     "output_type": "execute_result"
    }
   ],
=======
   "outputs": [],
>>>>>>> 39a24f39e7670a747a516f7b274acf55726ec935
   "source": [
    "wine_preds_st_scaled"
   ]
  },
  {
   "cell_type": "code",
<<<<<<< HEAD
   "execution_count": 42,
=======
   "execution_count": null,
>>>>>>> 39a24f39e7670a747a516f7b274acf55726ec935
   "metadata": {
    "hidden": true,
    "slideshow": {
     "slide_type": "slide"
    }
   },
<<<<<<< HEAD
   "outputs": [
    {
     "data": {
      "text/plain": [
       "True"
      ]
     },
     "execution_count": 42,
     "metadata": {},
     "output_type": "execute_result"
    }
   ],
=======
   "outputs": [],
>>>>>>> 39a24f39e7670a747a516f7b274acf55726ec935
   "source": [
    "# Check that the scaling worked about the same as when we did it by hand\n",
    "np.allclose(wine_preds_st_scaled, wine_preds_scaled)"
   ]
  },
  {
   "cell_type": "code",
<<<<<<< HEAD
   "execution_count": 43,
   "metadata": {
    "hidden": true,
    "slideshow": {
     "slide_type": "fragment"
    }
   },
   "outputs": [
    {
     "data": {
      "text/html": [
       "<div>\n",
       "<style scoped>\n",
       "    .dataframe tbody tr th:only-of-type {\n",
       "        vertical-align: middle;\n",
       "    }\n",
       "\n",
       "    .dataframe tbody tr th {\n",
       "        vertical-align: top;\n",
       "    }\n",
       "\n",
       "    .dataframe thead th {\n",
       "        text-align: right;\n",
       "    }\n",
       "</style>\n",
       "<table border=\"1\" class=\"dataframe\">\n",
       "  <thead>\n",
       "    <tr style=\"text-align: right;\">\n",
       "      <th></th>\n",
       "      <th>fixed acidity</th>\n",
       "      <th>volatile acidity</th>\n",
       "      <th>citric acid</th>\n",
       "      <th>residual sugar</th>\n",
       "      <th>chlorides</th>\n",
       "      <th>free sulfur dioxide</th>\n",
       "      <th>total sulfur dioxide</th>\n",
       "      <th>density</th>\n",
       "      <th>pH</th>\n",
       "      <th>sulphates</th>\n",
       "      <th>alcohol</th>\n",
       "      <th>red_wine</th>\n",
       "    </tr>\n",
       "  </thead>\n",
       "  <tbody>\n",
       "    <tr>\n",
       "      <th>0</th>\n",
       "      <td>0.142473</td>\n",
       "      <td>2.188833</td>\n",
       "      <td>-2.192833</td>\n",
       "      <td>-0.744778</td>\n",
       "      <td>0.569958</td>\n",
       "      <td>-1.100140</td>\n",
       "      <td>-1.446359</td>\n",
       "      <td>1.034993</td>\n",
       "      <td>1.813090</td>\n",
       "      <td>0.193097</td>\n",
       "      <td>-0.915464</td>\n",
       "      <td>1.75019</td>\n",
       "    </tr>\n",
       "    <tr>\n",
       "      <th>1</th>\n",
       "      <td>0.451036</td>\n",
       "      <td>3.282235</td>\n",
       "      <td>-2.192833</td>\n",
       "      <td>-0.597640</td>\n",
       "      <td>1.197975</td>\n",
       "      <td>-0.311320</td>\n",
       "      <td>-0.862469</td>\n",
       "      <td>0.701486</td>\n",
       "      <td>-0.115073</td>\n",
       "      <td>0.999579</td>\n",
       "      <td>-0.580068</td>\n",
       "      <td>1.75019</td>\n",
       "    </tr>\n",
       "    <tr>\n",
       "      <th>2</th>\n",
       "      <td>0.451036</td>\n",
       "      <td>2.553300</td>\n",
       "      <td>-1.917553</td>\n",
       "      <td>-0.660699</td>\n",
       "      <td>1.026697</td>\n",
       "      <td>-0.874763</td>\n",
       "      <td>-1.092486</td>\n",
       "      <td>0.768188</td>\n",
       "      <td>0.258120</td>\n",
       "      <td>0.797958</td>\n",
       "      <td>-0.580068</td>\n",
       "      <td>1.75019</td>\n",
       "    </tr>\n",
       "    <tr>\n",
       "      <th>3</th>\n",
       "      <td>3.073817</td>\n",
       "      <td>-0.362438</td>\n",
       "      <td>1.661085</td>\n",
       "      <td>-0.744778</td>\n",
       "      <td>0.541412</td>\n",
       "      <td>-0.762074</td>\n",
       "      <td>-0.986324</td>\n",
       "      <td>1.101694</td>\n",
       "      <td>-0.363868</td>\n",
       "      <td>0.327510</td>\n",
       "      <td>-0.580068</td>\n",
       "      <td>1.75019</td>\n",
       "    </tr>\n",
       "    <tr>\n",
       "      <th>4</th>\n",
       "      <td>0.142473</td>\n",
       "      <td>2.188833</td>\n",
       "      <td>-2.192833</td>\n",
       "      <td>-0.744778</td>\n",
       "      <td>0.569958</td>\n",
       "      <td>-1.100140</td>\n",
       "      <td>-1.446359</td>\n",
       "      <td>1.034993</td>\n",
       "      <td>1.813090</td>\n",
       "      <td>0.193097</td>\n",
       "      <td>-0.915464</td>\n",
       "      <td>1.75019</td>\n",
       "    </tr>\n",
       "  </tbody>\n",
       "</table>\n",
       "</div>"
      ],
      "text/plain": [
       "   fixed acidity  volatile acidity  citric acid  residual sugar  chlorides  \\\n",
       "0       0.142473          2.188833    -2.192833       -0.744778   0.569958   \n",
       "1       0.451036          3.282235    -2.192833       -0.597640   1.197975   \n",
       "2       0.451036          2.553300    -1.917553       -0.660699   1.026697   \n",
       "3       3.073817         -0.362438     1.661085       -0.744778   0.541412   \n",
       "4       0.142473          2.188833    -2.192833       -0.744778   0.569958   \n",
       "\n",
       "   free sulfur dioxide  total sulfur dioxide   density        pH  sulphates  \\\n",
       "0            -1.100140             -1.446359  1.034993  1.813090   0.193097   \n",
       "1            -0.311320             -0.862469  0.701486 -0.115073   0.999579   \n",
       "2            -0.874763             -1.092486  0.768188  0.258120   0.797958   \n",
       "3            -0.762074             -0.986324  1.101694 -0.363868   0.327510   \n",
       "4            -1.100140             -1.446359  1.034993  1.813090   0.193097   \n",
       "\n",
       "    alcohol  red_wine  \n",
       "0 -0.915464   1.75019  \n",
       "1 -0.580068   1.75019  \n",
       "2 -0.580068   1.75019  \n",
       "3 -0.580068   1.75019  \n",
       "4 -0.915464   1.75019  "
      ]
     },
     "execution_count": 43,
     "metadata": {},
     "output_type": "execute_result"
    }
   ],
=======
   "execution_count": null,
   "metadata": {
    "hidden": true,
    "slideshow": {
     "slide_type": "fragment"
    }
   },
   "outputs": [],
>>>>>>> 39a24f39e7670a747a516f7b274acf55726ec935
   "source": [
    "wine_preds_scaled.head()"
   ]
  },
  {
   "cell_type": "markdown",
   "metadata": {
    "heading_collapsed": true,
    "hidden": true,
    "slideshow": {
     "slide_type": "slide"
    }
   },
   "source": [
    "## Fit the Model"
   ]
  },
  {
   "cell_type": "markdown",
   "metadata": {
    "hidden": true,
    "slideshow": {
     "slide_type": "fragment"
    }
   },
   "source": [
    "Now we can fit a `LinearRegression` object to our training data!"
   ]
  },
  {
   "cell_type": "code",
<<<<<<< HEAD
   "execution_count": 44,
=======
   "execution_count": null,
>>>>>>> 39a24f39e7670a747a516f7b274acf55726ec935
   "metadata": {
    "hidden": true,
    "slideshow": {
     "slide_type": "fragment"
    }
   },
<<<<<<< HEAD
   "outputs": [
    {
     "data": {
      "text/plain": [
       "LinearRegression()"
      ]
     },
     "execution_count": 44,
     "metadata": {},
     "output_type": "execute_result"
    }
   ],
=======
   "outputs": [],
>>>>>>> 39a24f39e7670a747a516f7b274acf55726ec935
   "source": [
    "# Now we can fit a LinearRegression object to our training data!\n",
    "\n",
    "lr = LinearRegression()\n",
    "lr.fit(wine_preds_st_scaled, wine_target)"
   ]
  },
  {
   "cell_type": "code",
<<<<<<< HEAD
   "execution_count": 45,
=======
   "execution_count": null,
>>>>>>> 39a24f39e7670a747a516f7b274acf55726ec935
   "metadata": {
    "cell_style": "center",
    "hidden": true,
    "slideshow": {
     "slide_type": "fragment"
    }
   },
<<<<<<< HEAD
   "outputs": [
    {
     "data": {
      "text/plain": [
       "array([ 0.11027401, -0.24568548, -0.00909927,  0.29704168, -0.02652718,\n",
       "        0.08762284, -0.07927578, -0.311567  ,  0.08018737,  0.10739154,\n",
       "        0.26556038,  0.155642  ])"
      ]
     },
     "execution_count": 45,
     "metadata": {},
     "output_type": "execute_result"
    }
   ],
=======
   "outputs": [],
>>>>>>> 39a24f39e7670a747a516f7b274acf55726ec935
   "source": [
    "# We can use the .coef_ attribute to recover the results\n",
    "# of the regression.\n",
    "\n",
    "lr.coef_"
   ]
  },
  {
   "cell_type": "code",
<<<<<<< HEAD
   "execution_count": 46,
=======
   "execution_count": null,
>>>>>>> 39a24f39e7670a747a516f7b274acf55726ec935
   "metadata": {
    "cell_style": "split",
    "hidden": true,
    "slideshow": {
     "slide_type": "fragment"
    }
   },
<<<<<<< HEAD
   "outputs": [
    {
     "data": {
      "text/plain": [
       "5.818377712790517"
      ]
     },
     "execution_count": 46,
     "metadata": {},
     "output_type": "execute_result"
    }
   ],
=======
   "outputs": [],
>>>>>>> 39a24f39e7670a747a516f7b274acf55726ec935
   "source": [
    "lr.intercept_"
   ]
  },
  {
   "cell_type": "code",
<<<<<<< HEAD
   "execution_count": 47,
=======
   "execution_count": null,
>>>>>>> 39a24f39e7670a747a516f7b274acf55726ec935
   "metadata": {
    "cell_style": "split",
    "hidden": true,
    "slideshow": {
     "slide_type": "fragment"
    }
   },
<<<<<<< HEAD
   "outputs": [
    {
     "data": {
      "text/plain": [
       "0.29653465192890527"
      ]
     },
     "execution_count": 47,
     "metadata": {},
     "output_type": "execute_result"
    }
   ],
=======
   "outputs": [],
>>>>>>> 39a24f39e7670a747a516f7b274acf55726ec935
   "source": [
    "lr.score(wine_preds_st_scaled, wine_target)"
   ]
  },
  {
   "cell_type": "code",
<<<<<<< HEAD
   "execution_count": 48,
=======
   "execution_count": null,
>>>>>>> 39a24f39e7670a747a516f7b274acf55726ec935
   "metadata": {
    "hidden": true,
    "slideshow": {
     "slide_type": "fragment"
    }
   },
<<<<<<< HEAD
   "outputs": [
    {
     "data": {
      "text/plain": [
       "array([4.9711381 , 4.91138099, 5.03013256, ..., 5.3914881 , 6.45904385,\n",
       "       6.24475934])"
      ]
     },
     "execution_count": 48,
     "metadata": {},
     "output_type": "execute_result"
    }
   ],
=======
   "outputs": [],
>>>>>>> 39a24f39e7670a747a516f7b274acf55726ec935
   "source": [
    "y_hat = lr.predict(wine_preds_st_scaled)\n",
    "y_hat"
   ]
  },
  {
   "cell_type": "markdown",
   "metadata": {
    "hidden": true,
    "slideshow": {
     "slide_type": "fragment"
    }
   },
   "source": [
    "All that's left is to evaluate our model to see how well it did!"
   ]
  },
  {
   "cell_type": "markdown",
   "metadata": {
    "heading_collapsed": true,
    "hidden": true,
    "slideshow": {
     "slide_type": "slide"
    }
   },
   "source": [
    "## Evaluate Performance"
   ]
  },
  {
   "cell_type": "markdown",
   "metadata": {
    "heading_collapsed": true,
    "hidden": true,
    "slideshow": {
     "slide_type": "fragment"
    }
   },
   "source": [
    "### Observing Residuals"
   ]
  },
  {
   "cell_type": "markdown",
   "metadata": {
    "hidden": true,
    "slideshow": {
     "slide_type": "fragment"
    }
   },
   "source": [
    "We can check the residuals like we would for a simple linear regression model."
   ]
  },
  {
   "cell_type": "code",
<<<<<<< HEAD
   "execution_count": 49,
=======
   "execution_count": null,
>>>>>>> 39a24f39e7670a747a516f7b274acf55726ec935
   "metadata": {
    "hidden": true,
    "slideshow": {
     "slide_type": "fragment"
    }
   },
<<<<<<< HEAD
   "outputs": [
    {
     "data": {
      "image/png": "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\n",
      "text/plain": [
       "<Figure size 432x288 with 1 Axes>"
      ]
     },
     "metadata": {
      "needs_background": "light"
     },
     "output_type": "display_data"
    }
   ],
=======
   "outputs": [],
>>>>>>> 39a24f39e7670a747a516f7b274acf55726ec935
   "source": [
    "y_hat = lr.predict(wine_preds_st_scaled)\n",
    "resid = (wine_target - y_hat)\n",
    "\n",
    "fig, ax = plt.subplots()\n",
    "ax.scatter(x=range(y_hat.shape[0]),y=resid, alpha=0.1);"
   ]
  },
  {
   "cell_type": "markdown",
   "metadata": {
    "heading_collapsed": true,
    "hidden": true,
    "slideshow": {
     "slide_type": "slide"
    }
   },
   "source": [
    "### Sklearn Metrics"
   ]
  },
  {
   "cell_type": "markdown",
   "metadata": {
    "hidden": true,
    "slideshow": {
     "slide_type": "fragment"
    }
   },
   "source": [
    "The metrics module in sklearn has a number of metrics that we can use to measure the accuracy of our model, including the $R^2$ score, the mean absolute error and the mean squared error. Note that the default 'score' on our model object is the $R^2$ score. Let's go back to our wine dataset:"
   ]
  },
  {
   "cell_type": "code",
<<<<<<< HEAD
   "execution_count": 50,
=======
   "execution_count": null,
>>>>>>> 39a24f39e7670a747a516f7b274acf55726ec935
   "metadata": {
    "hidden": true,
    "slideshow": {
     "slide_type": "fragment"
    }
   },
<<<<<<< HEAD
   "outputs": [
    {
     "data": {
      "text/plain": [
       "0.29653465192890527"
      ]
     },
     "execution_count": 50,
     "metadata": {},
     "output_type": "execute_result"
    }
   ],
=======
   "outputs": [],
>>>>>>> 39a24f39e7670a747a516f7b274acf55726ec935
   "source": [
    "metrics.r2_score(wine_target, y_hat) #lr.predict(wine_preds_st_scaled))"
   ]
  },
  {
   "cell_type": "code",
<<<<<<< HEAD
   "execution_count": 51,
=======
   "execution_count": null,
>>>>>>> 39a24f39e7670a747a516f7b274acf55726ec935
   "metadata": {
    "hidden": true,
    "slideshow": {
     "slide_type": "fragment"
    }
   },
<<<<<<< HEAD
   "outputs": [
    {
     "data": {
      "text/plain": [
       "0.568537539040229"
      ]
     },
     "execution_count": 51,
     "metadata": {},
     "output_type": "execute_result"
    }
   ],
=======
   "outputs": [],
>>>>>>> 39a24f39e7670a747a516f7b274acf55726ec935
   "source": [
    "metrics.mean_absolute_error(wine_target, lr.predict(wine_preds_st_scaled))"
   ]
  },
  {
   "cell_type": "code",
<<<<<<< HEAD
   "execution_count": 52,
=======
   "execution_count": null,
>>>>>>> 39a24f39e7670a747a516f7b274acf55726ec935
   "metadata": {
    "hidden": true,
    "slideshow": {
     "slide_type": "fragment"
    }
   },
<<<<<<< HEAD
   "outputs": [
    {
     "data": {
      "text/plain": [
       "0.7323676381358274"
      ]
     },
     "execution_count": 52,
     "metadata": {},
     "output_type": "execute_result"
    }
   ],
=======
   "outputs": [],
>>>>>>> 39a24f39e7670a747a516f7b274acf55726ec935
   "source": [
    "metrics.mean_squared_error(wine_target, lr.predict(wine_preds_st_scaled), squared = False)"
   ]
  }
 ],
 "metadata": {
  "celltoolbar": "Slideshow",
  "kernelspec": {
<<<<<<< HEAD
   "display_name": "Python (learn-env)",
   "language": "python",
   "name": "learn-env"
=======
   "display_name": "dplearn",
   "language": "python",
   "name": "dplearn"
>>>>>>> 39a24f39e7670a747a516f7b274acf55726ec935
  },
  "language_info": {
   "codemirror_mode": {
    "name": "ipython",
    "version": 3
   },
   "file_extension": ".py",
   "mimetype": "text/x-python",
   "name": "python",
   "nbconvert_exporter": "python",
   "pygments_lexer": "ipython3",
<<<<<<< HEAD
   "version": "3.8.5"
=======
   "version": "3.10.8"
>>>>>>> 39a24f39e7670a747a516f7b274acf55726ec935
  },
  "toc": {
   "base_numbering": 1,
   "nav_menu": {},
   "number_sections": true,
   "sideBar": true,
   "skip_h1_title": false,
   "title_cell": "Table of Contents",
   "title_sidebar": "TOC",
   "toc_cell": true,
   "toc_position": {
    "height": "calc(100% - 180px)",
    "left": "10px",
    "top": "150px",
    "width": "302px"
   },
   "toc_section_display": true,
   "toc_window_display": true
  }
 },
 "nbformat": 4,
 "nbformat_minor": 2
}
