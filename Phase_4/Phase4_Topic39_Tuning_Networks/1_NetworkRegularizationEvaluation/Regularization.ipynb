{
 "cells": [
  {
   "cell_type": "markdown",
   "metadata": {
    "slideshow": {
     "slide_type": "slide"
    }
   },
   "source": [
    "<div style=\"color:white;\n",
    "           display:fill;\n",
    "           border-radius:5px;\n",
    "           background-color:#5642C5;\n",
    "           font-size:200%;\n",
    "           font-family:Arial;letter-spacing:0.5px\">\n",
    "\n",
    "<p width = 20%, style=\"padding: 10px;\n",
    "              color:white;\">\n",
    "Neural Networks: Regularization\n",
    "</p>\n",
    "</div>\n",
    "\n",
    "Data Science Cohort Live NYC March 2023\n",
    "<p>Phase 4: Topic 39</p>\n",
    "<br>\n",
    "<br>\n",
    "\n",
    "<div align = \"right\">\n",
    "<img src=\"Images/flatiron-school-logo.png\" align = \"right\" width=\"200\"/>\n",
    "</div>\n",
    "    \n",
    "    "
   ]
  },
  {
   "cell_type": "code",
   "execution_count": 1,
   "metadata": {
    "slideshow": {
     "slide_type": "skip"
    }
   },
   "outputs": [
    {
     "name": "stderr",
     "output_type": "stream",
     "text": [
      "2023-03-20 16:46:39.317294: I tensorflow/core/platform/cpu_feature_guard.cc:193] This TensorFlow binary is optimized with oneAPI Deep Neural Network Library (oneDNN) to use the following CPU instructions in performance-critical operations:  SSE4.1 SSE4.2\n",
      "To enable them in other operations, rebuild TensorFlow with the appropriate compiler flags.\n"
     ]
    }
   ],
   "source": [
    "from sklearn.datasets import load_sample_images\n",
    "from sklearn.datasets import load_digits\n",
    "from sklearn.model_selection import train_test_split, cross_val_score\n",
    "from sklearn.preprocessing import OneHotEncoder\n",
    "from sklearn.metrics import accuracy_score, confusion_matrix\n",
    "import matplotlib.pyplot as plt\n",
    "import matplotlib.image as mpimg\n",
    "import numpy as np\n",
    "import pandas as pd\n",
    "from sklearn.metrics import ConfusionMatrixDisplay\n",
    "import seaborn as sns\n",
    "\n",
    "from tensorflow.keras import datasets\n",
    "from tensorflow.keras.models import Sequential\n",
    "from tensorflow.keras.layers import Dense, Dropout\n",
    "from tensorflow.keras.callbacks import EarlyStopping\n",
    "from tensorflow.keras.utils import to_categorical\n",
    "from tensorflow.keras.layers import Flatten # takes 2D input and turns into 1D array\n",
    "\n",
    "import os\n",
    "import sys\n",
    "module_path = os.path.abspath(os.path.join(os.pardir, os.pardir))\n",
    "if module_path not in sys.path:\n",
    "    sys.path.append(module_path)\n",
    "    \n",
    "%load_ext autoreload\n",
    "%autoreload 2"
   ]
  },
  {
   "cell_type": "markdown",
   "metadata": {
    "slideshow": {
     "slide_type": "slide"
    }
   },
   "source": [
    "### Things to remember:\n"
   ]
  },
  {
   "cell_type": "markdown",
   "metadata": {
    "slideshow": {
     "slide_type": "fragment"
    }
   },
   "source": [
    "## STEPS ##\n",
    "\n",
    "1. Load Data\n",
    "2. Define Keras Model\n",
    "3. Compile Keras Model\n",
    "4. Fit Keras Model\n",
    "5. Evaluate Keras Model\n",
    "6. Make Predictions"
   ]
  },
  {
   "cell_type": "markdown",
   "metadata": {
    "slideshow": {
     "slide_type": "slide"
    }
   },
   "source": [
    "\n",
    "- The data and labels in `fit()` need to be numpy arrays, not `pandas` dfs.\n",
    "- Scaling your data will have a large impact on your model.\n",
    "   > For our traditional input features, we would use a scaler object. For images, as long as the minimum value is 0, we can simply divide through by the maximum pixel intensity."
   ]
  },
  {
   "cell_type": "markdown",
   "metadata": {
    "slideshow": {
     "slide_type": "slide"
    }
   },
   "source": [
    "#### Regularization\n",
    "- Retain complexity of neural network: many weights to learn interesting relationships\n",
    "- Make our weights less susceptible to overfitting\n",
    "\n",
    "**Getting neural networks to perform really well**"
   ]
  },
  {
   "cell_type": "markdown",
   "metadata": {
    "slideshow": {
     "slide_type": "slide"
    }
   },
   "source": [
    "In neural networks, two main forms of regularization:\n",
    "- L2 Regularization (something familiar)\n",
    "- Dropout Regularization (something a little new)"
   ]
  },
  {
   "cell_type": "markdown",
   "metadata": {
    "slideshow": {
     "slide_type": "slide"
    }
   },
   "source": [
    "**L2 Regularization**\n",
    "\n",
    "- Add penalty on weight **matrices**.\n",
    "$$ J \\rightarrow J' $$\n",
    "$$ J = \\sum_{i=1}^m \\frac{1}{m}L(y_i, \\hat{y}_i) $$\n",
    "$$ J' = \\sum_{i=1}^m \\frac{1}{m}L(y_i, \\hat{y}_i) + \\frac{\\lambda}{2} \\sum_{l=1}^L \\lVert  W^{[l]}   \\rVert_F^2 $$"
   ]
  },
  {
   "cell_type": "markdown",
   "metadata": {
    "slideshow": {
     "slide_type": "fragment"
    }
   },
   "source": [
    "where $F$ denotes the Frobenius norm."
   ]
  },
  {
   "cell_type": "markdown",
   "metadata": {
    "cell_style": "center",
    "slideshow": {
     "slide_type": "slide"
    }
   },
   "source": [
    "Frobenius norm is square root of sum of of element-wise square:\n",
    "i.e. \n",
    "$$ \\lVert  A   \\rVert_F = \\sqrt{\\sum_{i,j} A_{ij}^2 }$$"
   ]
  },
  {
   "cell_type": "code",
   "execution_count": 2,
   "metadata": {
    "slideshow": {
     "slide_type": "fragment"
    }
   },
   "outputs": [],
   "source": [
    "import numpy as np\n",
    "from numpy.linalg import norm"
   ]
  },
  {
   "cell_type": "code",
   "execution_count": 3,
   "metadata": {
    "cell_style": "split",
    "slideshow": {
     "slide_type": "fragment"
    }
   },
   "outputs": [
    {
     "data": {
      "text/plain": [
       "array([[1, 2],\n",
       "       [0, 3]])"
      ]
     },
     "execution_count": 3,
     "metadata": {},
     "output_type": "execute_result"
    }
   ],
   "source": [
    "A = np.array([[1,2],[0,3]])\n",
    "A"
   ]
  },
  {
   "cell_type": "code",
   "execution_count": 4,
   "metadata": {
    "cell_style": "split",
    "slideshow": {
     "slide_type": "fragment"
    }
   },
   "outputs": [
    {
     "data": {
      "text/plain": [
       "3.7416573867739413"
      ]
     },
     "execution_count": 4,
     "metadata": {},
     "output_type": "execute_result"
    }
   ],
   "source": [
    "norm(A, 'fro')"
   ]
  },
  {
   "cell_type": "code",
   "execution_count": 5,
   "metadata": {
    "cell_style": "split",
    "slideshow": {
     "slide_type": "fragment"
    }
   },
   "outputs": [
    {
     "data": {
      "text/plain": [
       "3.7416573867739413"
      ]
     },
     "execution_count": 5,
     "metadata": {},
     "output_type": "execute_result"
    }
   ],
   "source": [
    "np.sqrt(1**2 + 0**2 + 2**2 + 3**2)"
   ]
  },
  {
   "cell_type": "markdown",
   "metadata": {
    "cell_style": "center",
    "slideshow": {
     "slide_type": "slide"
    }
   },
   "source": [
    "Modiied objective functon:\n",
    "\n",
    "$$ J' = \\sum_{i=1}^m \\frac{1}{m}L(y_i, \\hat{y}_i) + \\frac{\\lambda}{2} \\sum_{l=1}^L \\lVert  W^{[l]}   \\rVert_F^2 $$"
   ]
  },
  {
   "cell_type": "markdown",
   "metadata": {
    "cell_style": "center",
    "slideshow": {
     "slide_type": "fragment"
    }
   },
   "source": [
    "Regularization serves to penalize any particular weight from being too large:\n",
    "- smoothens/redistributes weights for each weight matrix\n",
    "- aids in generalization"
   ]
  },
  {
   "cell_type": "markdown",
   "metadata": {
    "cell_style": "center",
    "slideshow": {
     "slide_type": "slide"
    }
   },
   "source": [
    "L2 regularization: often known as weight decay\n",
    "- Perspective: gradient descent\n",
    "$$ J' = \\sum_{i=1}^m \\frac{1}{m}L(y_i, \\hat{y}_i) + \\frac{\\lambda}{2} \\sum_{l=1}^L \\lVert  W^{[l]}   \\rVert_F^2 $$\n",
    "$$ W^{[l]} \\rightarrow W^{[l]} - \\alpha \\frac{\\partial J'}{\\partial W^{[l]}} $$ "
   ]
  },
  {
   "cell_type": "markdown",
   "metadata": {
    "cell_style": "center",
    "slideshow": {
     "slide_type": "slide"
    }
   },
   "source": [
    "$$ J = \\sum_{i=1}^m \\frac{1}{m}L(y_i, \\hat{y}_i) $$\n",
    "$$ W^{[l]} \\rightarrow \\Big(W^{[l]}  - \\alpha \\frac{\\lambda}{2 m}  W^{[l]} \\Big) - \\alpha \\frac{\\partial J}{\\partial W^{[l]}}$$ \n",
    "\n",
    "- At each iteration regularization tries to reduce magnitude of weight matrix."
   ]
  },
  {
   "cell_type": "markdown",
   "metadata": {
    "slideshow": {
     "slide_type": "slide"
    }
   },
   "source": [
    "#### Implementing L2 regularization in Keras"
   ]
  },
  {
   "cell_type": "code",
   "execution_count": 6,
   "metadata": {
    "slideshow": {
     "slide_type": "fragment"
    }
   },
   "outputs": [],
   "source": [
    "# creates keras regularizer object\n",
    "from tensorflow.keras.regularizers import l2"
   ]
  },
  {
   "cell_type": "markdown",
   "metadata": {
    "cell_style": "center",
    "slideshow": {
     "slide_type": "slide"
    }
   },
   "source": [
    "L2 regularizer object takes in $\\lambda$ parameter as argument"
   ]
  },
  {
   "cell_type": "code",
   "execution_count": 7,
   "metadata": {
    "cell_style": "center",
    "slideshow": {
     "slide_type": "fragment"
    }
   },
   "outputs": [],
   "source": [
    "reg = l2(3e-3) # 1e-5 to .1"
   ]
  },
  {
   "cell_type": "markdown",
   "metadata": {
    "cell_style": "center",
    "slideshow": {
     "slide_type": "slide"
    }
   },
   "source": [
    "Implementing regularization to weights in Keras:\n",
    "- Dense(kernel_regularizer = __)\n",
    "- takes in string ('l2') or regularizer object"
   ]
  },
  {
   "cell_type": "markdown",
   "metadata": {
    "cell_style": "center",
    "slideshow": {
     "slide_type": "fragment"
    }
   },
   "source": [
    "Less common but also used:\n",
    "\n",
    "- can apply regularization to bias terms \n",
    "- Dense(bias_regularizer = __)"
   ]
  },
  {
   "cell_type": "code",
   "execution_count": 8,
   "metadata": {
    "slideshow": {
     "slide_type": "slide"
    }
   },
   "outputs": [],
   "source": [
    "# load in the data\n",
    "(x_train, y_train), (x_test, y_test) = datasets.mnist.load_data()\n",
    "\n",
    "x_train = x_train/255 # normalization\n",
    "x_test = x_test/255\n",
    "\n",
    "# Keras requires multi-class labels to be one-hot encoded\n",
    "y_tr_one_hot = to_categorical(y_train)\n",
    "y_tt_one_hot = to_categorical(y_test)"
   ]
  },
  {
   "cell_type": "code",
   "execution_count": 9,
   "metadata": {
    "slideshow": {
     "slide_type": "slide"
    }
   },
   "outputs": [
    {
     "name": "stderr",
     "output_type": "stream",
     "text": [
      "2023-03-20 16:46:42.255099: I tensorflow/core/platform/cpu_feature_guard.cc:193] This TensorFlow binary is optimized with oneAPI Deep Neural Network Library (oneDNN) to use the following CPU instructions in performance-critical operations:  SSE4.1 SSE4.2\n",
      "To enable them in other operations, rebuild TensorFlow with the appropriate compiler flags.\n"
     ]
    }
   ],
   "source": [
    "model_images = Sequential()\n",
    "model_images.add(Flatten(input_shape=(28, 28))) # flattens each 28x28 image into a vector\n",
    "model_images.add(Dense(32, activation='relu', kernel_regularizer = reg)) # take in regularizer\n",
    "model_images.add(Dense(8, activation='relu', kernel_regularizer = reg))\n",
    "model_images.add(Dense(10, activation='softmax')) # number of units = number of target classes"
   ]
  },
  {
   "cell_type": "code",
   "execution_count": 10,
   "metadata": {
    "slideshow": {
     "slide_type": "fragment"
    }
   },
   "outputs": [],
   "source": [
    "model_images.compile(optimizer='Adam', loss='categorical_crossentropy', metrics=['accuracy'] )"
   ]
  },
  {
   "cell_type": "code",
   "execution_count": 11,
   "metadata": {
    "scrolled": false,
    "slideshow": {
     "slide_type": "slide"
    }
   },
   "outputs": [
    {
     "name": "stdout",
     "output_type": "stream",
     "text": [
      "Epoch 1/50\n",
      "1500/1500 [==============================] - 2s 1ms/step - loss: 0.6721 - accuracy: 0.8554 - val_loss: 0.4459 - val_accuracy: 0.9240\n",
      "Epoch 2/50\n",
      "1500/1500 [==============================] - 2s 1ms/step - loss: 0.4254 - accuracy: 0.9260 - val_loss: 0.3785 - val_accuracy: 0.9411\n",
      "Epoch 3/50\n",
      "1500/1500 [==============================] - 1s 997us/step - loss: 0.3823 - accuracy: 0.9357 - val_loss: 0.3616 - val_accuracy: 0.9443\n",
      "Epoch 4/50\n",
      "1500/1500 [==============================] - 1s 998us/step - loss: 0.3563 - accuracy: 0.9421 - val_loss: 0.3284 - val_accuracy: 0.9491\n",
      "Epoch 5/50\n",
      "1500/1500 [==============================] - 1s 999us/step - loss: 0.3371 - accuracy: 0.9460 - val_loss: 0.3224 - val_accuracy: 0.9496\n",
      "Epoch 6/50\n",
      "1500/1500 [==============================] - 1s 995us/step - loss: 0.3227 - accuracy: 0.9489 - val_loss: 0.3071 - val_accuracy: 0.9513\n",
      "Epoch 7/50\n",
      "1500/1500 [==============================] - 1s 993us/step - loss: 0.3114 - accuracy: 0.9505 - val_loss: 0.2958 - val_accuracy: 0.9542\n",
      "Epoch 8/50\n",
      "1500/1500 [==============================] - 1s 998us/step - loss: 0.3010 - accuracy: 0.9518 - val_loss: 0.2899 - val_accuracy: 0.9528\n",
      "Epoch 9/50\n",
      "1500/1500 [==============================] - 1s 996us/step - loss: 0.2918 - accuracy: 0.9538 - val_loss: 0.2858 - val_accuracy: 0.9552\n",
      "Epoch 10/50\n",
      "1500/1500 [==============================] - 1s 995us/step - loss: 0.2843 - accuracy: 0.9544 - val_loss: 0.2929 - val_accuracy: 0.9504\n",
      "Epoch 11/50\n",
      "1500/1500 [==============================] - 2s 1ms/step - loss: 0.2773 - accuracy: 0.9567 - val_loss: 0.2865 - val_accuracy: 0.9507\n",
      "Epoch 12/50\n",
      "1500/1500 [==============================] - 2s 1ms/step - loss: 0.2717 - accuracy: 0.9564 - val_loss: 0.2682 - val_accuracy: 0.9578\n",
      "Epoch 13/50\n",
      "1500/1500 [==============================] - 2s 1ms/step - loss: 0.2677 - accuracy: 0.9566 - val_loss: 0.2672 - val_accuracy: 0.9568\n",
      "Epoch 14/50\n",
      "1500/1500 [==============================] - 2s 1ms/step - loss: 0.2628 - accuracy: 0.9577 - val_loss: 0.2505 - val_accuracy: 0.9597\n",
      "Epoch 15/50\n",
      "1500/1500 [==============================] - 2s 1ms/step - loss: 0.2584 - accuracy: 0.9585 - val_loss: 0.2566 - val_accuracy: 0.9571\n",
      "Epoch 16/50\n",
      "1500/1500 [==============================] - 2s 1ms/step - loss: 0.2556 - accuracy: 0.9586 - val_loss: 0.2509 - val_accuracy: 0.9597\n",
      "Epoch 17/50\n",
      "1500/1500 [==============================] - 1s 995us/step - loss: 0.2524 - accuracy: 0.9582 - val_loss: 0.2480 - val_accuracy: 0.9585\n",
      "Epoch 18/50\n",
      "1500/1500 [==============================] - 2s 1ms/step - loss: 0.2503 - accuracy: 0.9586 - val_loss: 0.2761 - val_accuracy: 0.9496\n",
      "Epoch 19/50\n",
      "1500/1500 [==============================] - 1s 999us/step - loss: 0.2460 - accuracy: 0.9593 - val_loss: 0.2516 - val_accuracy: 0.9579\n",
      "Epoch 20/50\n",
      "1500/1500 [==============================] - 2s 1ms/step - loss: 0.2438 - accuracy: 0.9590 - val_loss: 0.2520 - val_accuracy: 0.9550\n",
      "Epoch 21/50\n",
      "1500/1500 [==============================] - 1s 999us/step - loss: 0.2411 - accuracy: 0.9598 - val_loss: 0.2509 - val_accuracy: 0.9573\n",
      "Epoch 22/50\n",
      "1500/1500 [==============================] - 1s 996us/step - loss: 0.2398 - accuracy: 0.9588 - val_loss: 0.2374 - val_accuracy: 0.9605\n",
      "Epoch 23/50\n",
      "1500/1500 [==============================] - 1s 998us/step - loss: 0.2371 - accuracy: 0.9603 - val_loss: 0.2442 - val_accuracy: 0.9583\n",
      "Epoch 24/50\n",
      "1500/1500 [==============================] - 1s 996us/step - loss: 0.2366 - accuracy: 0.9594 - val_loss: 0.2495 - val_accuracy: 0.9558\n",
      "Epoch 25/50\n",
      "1500/1500 [==============================] - 2s 1ms/step - loss: 0.2334 - accuracy: 0.9608 - val_loss: 0.2330 - val_accuracy: 0.9585\n",
      "Epoch 26/50\n",
      "1500/1500 [==============================] - 2s 1ms/step - loss: 0.2315 - accuracy: 0.9613 - val_loss: 0.2294 - val_accuracy: 0.9629\n",
      "Epoch 27/50\n",
      "1500/1500 [==============================] - 2s 1ms/step - loss: 0.2297 - accuracy: 0.9614 - val_loss: 0.2354 - val_accuracy: 0.9605\n",
      "Epoch 28/50\n",
      "1500/1500 [==============================] - 2s 1ms/step - loss: 0.2282 - accuracy: 0.9611 - val_loss: 0.2439 - val_accuracy: 0.9539\n",
      "Epoch 29/50\n",
      "1500/1500 [==============================] - 1s 999us/step - loss: 0.2283 - accuracy: 0.9603 - val_loss: 0.2359 - val_accuracy: 0.9568\n",
      "Epoch 30/50\n",
      "1500/1500 [==============================] - 2s 1ms/step - loss: 0.2253 - accuracy: 0.9612 - val_loss: 0.2376 - val_accuracy: 0.9581\n",
      "Epoch 31/50\n",
      "1500/1500 [==============================] - 1s 996us/step - loss: 0.2234 - accuracy: 0.9627 - val_loss: 0.2209 - val_accuracy: 0.9633\n",
      "Epoch 32/50\n",
      "1500/1500 [==============================] - 1s 995us/step - loss: 0.2235 - accuracy: 0.9613 - val_loss: 0.2285 - val_accuracy: 0.9607\n",
      "Epoch 33/50\n",
      "1500/1500 [==============================] - 2s 1ms/step - loss: 0.2228 - accuracy: 0.9609 - val_loss: 0.2230 - val_accuracy: 0.9613\n",
      "Epoch 34/50\n",
      "1500/1500 [==============================] - 2s 1ms/step - loss: 0.2195 - accuracy: 0.9623 - val_loss: 0.2272 - val_accuracy: 0.9605\n",
      "Epoch 35/50\n",
      "1500/1500 [==============================] - 2s 1ms/step - loss: 0.2185 - accuracy: 0.9626 - val_loss: 0.2329 - val_accuracy: 0.9588\n",
      "Epoch 36/50\n",
      "1500/1500 [==============================] - 2s 1ms/step - loss: 0.2203 - accuracy: 0.9611 - val_loss: 0.2236 - val_accuracy: 0.9612\n",
      "Epoch 37/50\n",
      "1500/1500 [==============================] - 2s 1ms/step - loss: 0.2186 - accuracy: 0.9623 - val_loss: 0.2259 - val_accuracy: 0.9622\n",
      "Epoch 38/50\n",
      "1500/1500 [==============================] - 2s 1ms/step - loss: 0.2156 - accuracy: 0.9625 - val_loss: 0.2153 - val_accuracy: 0.9632\n",
      "Epoch 39/50\n",
      "1500/1500 [==============================] - 2s 1ms/step - loss: 0.2156 - accuracy: 0.9625 - val_loss: 0.2285 - val_accuracy: 0.9612\n",
      "Epoch 40/50\n",
      "1500/1500 [==============================] - 2s 1ms/step - loss: 0.2167 - accuracy: 0.9622 - val_loss: 0.2138 - val_accuracy: 0.9626\n",
      "Epoch 41/50\n",
      "1500/1500 [==============================] - 2s 1ms/step - loss: 0.2139 - accuracy: 0.9636 - val_loss: 0.2152 - val_accuracy: 0.9621\n",
      "Epoch 42/50\n",
      "1500/1500 [==============================] - 2s 1ms/step - loss: 0.2126 - accuracy: 0.9630 - val_loss: 0.2120 - val_accuracy: 0.9621\n",
      "Epoch 43/50\n",
      "1500/1500 [==============================] - 2s 1ms/step - loss: 0.2145 - accuracy: 0.9629 - val_loss: 0.2161 - val_accuracy: 0.9610\n",
      "Epoch 44/50\n",
      "1500/1500 [==============================] - 2s 1ms/step - loss: 0.2109 - accuracy: 0.9627 - val_loss: 0.2242 - val_accuracy: 0.9592\n",
      "Epoch 45/50\n",
      "1500/1500 [==============================] - 2s 1ms/step - loss: 0.2101 - accuracy: 0.9644 - val_loss: 0.2456 - val_accuracy: 0.9547\n",
      "Epoch 46/50\n",
      "1500/1500 [==============================] - 2s 1ms/step - loss: 0.2099 - accuracy: 0.9641 - val_loss: 0.2288 - val_accuracy: 0.9570\n",
      "Epoch 47/50\n",
      "1500/1500 [==============================] - 2s 1ms/step - loss: 0.2110 - accuracy: 0.9638 - val_loss: 0.2174 - val_accuracy: 0.9630\n",
      "Epoch 48/50\n",
      "1500/1500 [==============================] - 2s 1ms/step - loss: 0.2074 - accuracy: 0.9647 - val_loss: 0.2142 - val_accuracy: 0.9622\n",
      "Epoch 49/50\n",
      "1500/1500 [==============================] - 2s 1ms/step - loss: 0.2108 - accuracy: 0.9641 - val_loss: 0.2116 - val_accuracy: 0.9628\n",
      "Epoch 50/50\n",
      "1500/1500 [==============================] - 2s 1ms/step - loss: 0.2072 - accuracy: 0.9641 - val_loss: 0.2164 - val_accuracy: 0.9620\n"
     ]
    }
   ],
   "source": [
    "# verbose=1 allows you to see the output.\n",
    "# To see only the metrics at the end of each epoch, set verbose=2.\n",
    "history_mnist = model_images.fit(x_train, y_tr_one_hot, epochs=50, batch_size= 32, validation_split = 0.2)"
   ]
  },
  {
   "cell_type": "code",
   "execution_count": 12,
   "metadata": {
    "cell_style": "center",
    "slideshow": {
     "slide_type": "slide"
    }
   },
   "outputs": [
    {
     "name": "stdout",
     "output_type": "stream",
     "text": [
      "313/313 [==============================] - 0s 523us/step\n"
     ]
    },
    {
     "data": {
      "text/plain": [
       "array([[7.3507783e-07, 3.4999073e-06, 1.4438697e-03, ..., 9.9748319e-01,\n",
       "        4.6400237e-05, 4.8368165e-04],\n",
       "       [2.2815761e-06, 2.5553198e-04, 9.9391729e-01, ..., 1.4373872e-05,\n",
       "        9.0791706e-05, 5.9390652e-11],\n",
       "       [1.9558463e-05, 9.7846907e-01, 8.5620964e-03, ..., 3.4090406e-03,\n",
       "        4.2080777e-03, 2.1437283e-05],\n",
       "       ...,\n",
       "       [9.3019166e-09, 2.2932151e-07, 9.4258333e-08, ..., 1.7074395e-05,\n",
       "        1.7784878e-05, 1.2986072e-03],\n",
       "       [2.0118370e-05, 9.6313270e-06, 1.1992304e-05, ..., 2.6395185e-07,\n",
       "        9.7832419e-03, 2.3810500e-05],\n",
       "       [7.0036323e-05, 6.5369794e-09, 7.5359392e-05, ..., 1.2693608e-09,\n",
       "        2.2284308e-07, 5.5362981e-09]], dtype=float32)"
      ]
     },
     "execution_count": 12,
     "metadata": {},
     "output_type": "execute_result"
    }
   ],
   "source": [
    "# probability for each class\n",
    "y_proba = model_images.predict(x_test)\n",
    "y_proba"
   ]
  },
  {
   "cell_type": "code",
   "execution_count": 13,
   "metadata": {
    "cell_style": "center",
    "slideshow": {
     "slide_type": "fragment"
    }
   },
   "outputs": [
    {
     "name": "stdout",
     "output_type": "stream",
     "text": [
      "313/313 - 0s - loss: 0.2128 - accuracy: 0.9622 - 250ms/epoch - 800us/step\n"
     ]
    },
    {
     "data": {
      "text/plain": [
       "[0.21277892589569092, 0.9621999859809875]"
      ]
     },
     "execution_count": 13,
     "metadata": {},
     "output_type": "execute_result"
    }
   ],
   "source": [
    "model_images.evaluate(x_test, y_tt_one_hot, verbose = 2)"
   ]
  },
  {
   "cell_type": "code",
   "execution_count": 14,
   "metadata": {
    "cell_style": "center",
    "slideshow": {
     "slide_type": "slide"
    }
   },
   "outputs": [
    {
     "data": {
      "image/png": "[encoded data removed]",
      "text/plain": [
       "<Figure size 640x480 with 1 Axes>"
      ]
     },
     "metadata": {},
     "output_type": "display_data"
    }
   ],
   "source": [
    "train_mnist_history = pd.DataFrame(history_mnist.history)\n",
    "train_mnist_history.index.name = 'epochs'\n",
    "\n",
    "col_list = ['loss', 'val_loss']\n",
    "train_mnist_history[col_list].plot()\n",
    "plt.ylabel('Categorical cross entropy')\n",
    "plt.title('Training loss history')\n",
    "plt.show()"
   ]
  },
  {
   "cell_type": "code",
   "execution_count": 15,
   "metadata": {
    "cell_style": "split",
    "slideshow": {
     "slide_type": "slide"
    }
   },
   "outputs": [
    {
     "data": {
      "image/png": "[encoded data removed]",
      "text/plain": [
       "<Figure size 640x480 with 1 Axes>"
      ]
     },
     "metadata": {},
     "output_type": "display_data"
    }
   ],
   "source": [
    "col_list = ['accuracy', 'val_accuracy']\n",
    "train_mnist_history[col_list].plot()\n",
    "plt.ylabel('Accuracy')\n",
    "plt.title('Training loss history')\n",
    "plt.show()"
   ]
  },
  {
   "cell_type": "markdown",
   "metadata": {
    "cell_style": "split",
    "slideshow": {
     "slide_type": "fragment"
    }
   },
   "source": [
    "Better validation accuracy:\n",
    "- 94.5\\% to 96.3\\% with regularization\n",
    "- no overfitting"
   ]
  },
  {
   "cell_type": "code",
   "execution_count": 16,
   "metadata": {
    "slideshow": {
     "slide_type": "slide"
    }
   },
   "outputs": [
    {
     "data": {
      "text/plain": [
       "array([7, 2, 1, ..., 4, 5, 6])"
      ]
     },
     "execution_count": 16,
     "metadata": {},
     "output_type": "execute_result"
    }
   ],
   "source": [
    "# argmax axis = -1 gets the column index of maximum probability for each row.\n",
    "# column index corresponds to digit classes (numbers 0 -9)\n",
    "predicted = np.argmax(y_proba, axis=-1)\n",
    "predicted"
   ]
  },
  {
   "cell_type": "code",
   "execution_count": 17,
   "metadata": {
    "cell_style": "center",
    "scrolled": true,
    "slideshow": {
     "slide_type": "slide"
    }
   },
   "outputs": [
    {
     "data": {
      "image/png": "[encoded data removed]",
      "text/plain": [
       "<Figure size 640x480 with 2 Axes>"
      ]
     },
     "metadata": {},
     "output_type": "display_data"
    }
   ],
   "source": [
    "cm_digits = confusion_matrix(y_test, predicted)\n",
    "disp = ConfusionMatrixDisplay(\n",
    "    confusion_matrix=cm_digits)\n",
    "\n",
    "disp.plot(cmap=plt.cm.Blues)\n",
    "plt.show()"
   ]
  },
  {
   "cell_type": "markdown",
   "metadata": {
    "slideshow": {
     "slide_type": "slide"
    }
   },
   "source": [
    "Regularization: \n",
    "- key component to training deeper networks (tend to overfit without regularization)\n",
    "- learn higher order features, but don't overtrain on specifics."
   ]
  },
  {
   "cell_type": "code",
   "execution_count": 18,
   "metadata": {
    "slideshow": {
     "slide_type": "fragment"
    }
   },
   "outputs": [],
   "source": [
    "deepermodel_images = Sequential()\n",
    "deepermodel_images.add(Flatten(input_shape=(28, 28))) # flattens each 28x28 image into a vector\n",
    "deepermodel_images.add(Dense(32, activation='relu', kernel_regularizer = reg)) # take in regularizer\n",
    "deepermodel_images.add(Dense(16, activation='relu', kernel_regularizer = reg)) # add another layer\n",
    "deepermodel_images.add(Dense(16, activation='relu', kernel_regularizer = reg)) # add another layer\n",
    "deepermodel_images.add(Dense(10, activation='relu', kernel_regularizer = reg))\n",
    "deepermodel_images.add(Dense(10, activation='softmax')) # number of units = number of target classes\n",
    "\n",
    "deepermodel_images.compile(optimizer='Adam', loss='categorical_crossentropy', metrics=['accuracy'] )"
   ]
  },
  {
   "cell_type": "code",
   "execution_count": 19,
   "metadata": {
    "slideshow": {
     "slide_type": "slide"
    }
   },
   "outputs": [
    {
     "name": "stdout",
     "output_type": "stream",
     "text": [
      "Epoch 1/200\n",
      "1500/1500 [==============================] - 2s 1ms/step - loss: 0.7627 - accuracy: 0.8460 - val_loss: 0.5199 - val_accuracy: 0.9248\n",
      "Epoch 2/200\n",
      "1500/1500 [==============================] - 2s 1ms/step - loss: 0.5007 - accuracy: 0.9227 - val_loss: 0.4482 - val_accuracy: 0.9404\n",
      "Epoch 3/200\n",
      "1500/1500 [==============================] - 2s 1ms/step - loss: 0.4419 - accuracy: 0.9355 - val_loss: 0.4062 - val_accuracy: 0.9449\n",
      "Epoch 4/200\n",
      "1500/1500 [==============================] - 2s 1ms/step - loss: 0.4113 - accuracy: 0.9421 - val_loss: 0.3847 - val_accuracy: 0.9507\n",
      "Epoch 5/200\n",
      "1500/1500 [==============================] - 2s 1ms/step - loss: 0.3906 - accuracy: 0.9453 - val_loss: 0.3784 - val_accuracy: 0.9467\n",
      "Epoch 6/200\n",
      "1500/1500 [==============================] - 2s 1ms/step - loss: 0.3736 - accuracy: 0.9488 - val_loss: 0.3688 - val_accuracy: 0.9504\n",
      "Epoch 7/200\n",
      "1500/1500 [==============================] - 2s 1ms/step - loss: 0.3629 - accuracy: 0.9503 - val_loss: 0.3507 - val_accuracy: 0.9545\n",
      "Epoch 8/200\n",
      "1500/1500 [==============================] - 2s 1ms/step - loss: 0.3504 - accuracy: 0.9527 - val_loss: 0.3363 - val_accuracy: 0.9570\n",
      "Epoch 9/200\n",
      "1500/1500 [==============================] - 2s 1ms/step - loss: 0.3401 - accuracy: 0.9547 - val_loss: 0.3229 - val_accuracy: 0.9613\n",
      "Epoch 10/200\n",
      "1500/1500 [==============================] - 2s 1ms/step - loss: 0.3326 - accuracy: 0.9556 - val_loss: 0.3281 - val_accuracy: 0.9569\n",
      "Epoch 11/200\n",
      "1500/1500 [==============================] - 2s 1ms/step - loss: 0.3263 - accuracy: 0.9570 - val_loss: 0.3392 - val_accuracy: 0.9523\n",
      "Epoch 12/200\n",
      "1500/1500 [==============================] - 2s 1ms/step - loss: 0.3219 - accuracy: 0.9564 - val_loss: 0.3400 - val_accuracy: 0.9525\n",
      "Epoch 13/200\n",
      "1500/1500 [==============================] - 2s 1ms/step - loss: 0.3164 - accuracy: 0.9572 - val_loss: 0.3134 - val_accuracy: 0.9605\n",
      "Epoch 14/200\n",
      "1500/1500 [==============================] - 2s 1ms/step - loss: 0.3101 - accuracy: 0.9582 - val_loss: 0.3316 - val_accuracy: 0.9553\n",
      "Epoch 15/200\n",
      "1500/1500 [==============================] - 2s 1ms/step - loss: 0.3074 - accuracy: 0.9597 - val_loss: 0.3068 - val_accuracy: 0.9602\n",
      "Epoch 16/200\n",
      "1500/1500 [==============================] - 2s 1ms/step - loss: 0.3011 - accuracy: 0.9607 - val_loss: 0.3023 - val_accuracy: 0.9594\n",
      "Epoch 17/200\n",
      "1500/1500 [==============================] - 2s 1ms/step - loss: 0.2995 - accuracy: 0.9597 - val_loss: 0.3128 - val_accuracy: 0.9561\n",
      "Epoch 18/200\n",
      "1500/1500 [==============================] - 2s 1ms/step - loss: 0.2951 - accuracy: 0.9607 - val_loss: 0.3047 - val_accuracy: 0.9578\n",
      "Epoch 19/200\n",
      "1500/1500 [==============================] - 2s 1ms/step - loss: 0.2906 - accuracy: 0.9609 - val_loss: 0.2827 - val_accuracy: 0.9634\n",
      "Epoch 20/200\n",
      "1500/1500 [==============================] - 2s 1ms/step - loss: 0.2896 - accuracy: 0.9611 - val_loss: 0.2837 - val_accuracy: 0.9618\n",
      "Epoch 21/200\n",
      "1500/1500 [==============================] - 2s 1ms/step - loss: 0.2856 - accuracy: 0.9616 - val_loss: 0.2860 - val_accuracy: 0.9607\n",
      "Epoch 22/200\n",
      "1500/1500 [==============================] - 2s 1ms/step - loss: 0.2831 - accuracy: 0.9615 - val_loss: 0.2869 - val_accuracy: 0.9623\n",
      "Epoch 23/200\n",
      "1500/1500 [==============================] - 2s 1ms/step - loss: 0.2827 - accuracy: 0.9619 - val_loss: 0.2810 - val_accuracy: 0.9624\n",
      "Epoch 24/200\n",
      "1500/1500 [==============================] - 2s 1ms/step - loss: 0.2800 - accuracy: 0.9614 - val_loss: 0.2778 - val_accuracy: 0.9638\n",
      "Epoch 25/200\n",
      "1500/1500 [==============================] - 2s 1ms/step - loss: 0.2751 - accuracy: 0.9630 - val_loss: 0.2917 - val_accuracy: 0.9567\n",
      "Epoch 26/200\n",
      "1500/1500 [==============================] - 2s 1ms/step - loss: 0.2760 - accuracy: 0.9631 - val_loss: 0.2976 - val_accuracy: 0.9544\n",
      "Epoch 27/200\n",
      "1500/1500 [==============================] - 2s 1ms/step - loss: 0.2740 - accuracy: 0.9622 - val_loss: 0.2826 - val_accuracy: 0.9588\n",
      "Epoch 28/200\n",
      "1500/1500 [==============================] - 2s 1ms/step - loss: 0.2705 - accuracy: 0.9628 - val_loss: 0.2755 - val_accuracy: 0.9620\n",
      "Epoch 29/200\n",
      "1500/1500 [==============================] - 2s 1ms/step - loss: 0.2702 - accuracy: 0.9628 - val_loss: 0.2854 - val_accuracy: 0.9564\n",
      "Epoch 30/200\n",
      "1500/1500 [==============================] - 2s 1ms/step - loss: 0.2674 - accuracy: 0.9640 - val_loss: 0.2675 - val_accuracy: 0.9632\n",
      "Epoch 31/200\n",
      "1500/1500 [==============================] - 2s 1ms/step - loss: 0.2667 - accuracy: 0.9629 - val_loss: 0.2734 - val_accuracy: 0.9632\n",
      "Epoch 32/200\n",
      "1500/1500 [==============================] - 2s 1ms/step - loss: 0.2645 - accuracy: 0.9637 - val_loss: 0.2967 - val_accuracy: 0.9508\n",
      "Epoch 33/200\n",
      "1500/1500 [==============================] - 2s 1ms/step - loss: 0.2629 - accuracy: 0.9644 - val_loss: 0.2768 - val_accuracy: 0.9606\n",
      "Epoch 34/200\n",
      "1500/1500 [==============================] - 2s 1ms/step - loss: 0.2651 - accuracy: 0.9631 - val_loss: 0.2733 - val_accuracy: 0.9608\n",
      "Epoch 35/200\n",
      "1500/1500 [==============================] - 2s 1ms/step - loss: 0.2619 - accuracy: 0.9631 - val_loss: 0.2660 - val_accuracy: 0.9635\n",
      "Epoch 36/200\n",
      "1500/1500 [==============================] - 2s 1ms/step - loss: 0.2599 - accuracy: 0.9642 - val_loss: 0.2587 - val_accuracy: 0.9642\n",
      "Epoch 37/200\n",
      "1500/1500 [==============================] - 2s 1ms/step - loss: 0.2601 - accuracy: 0.9646 - val_loss: 0.2729 - val_accuracy: 0.9600\n",
      "Epoch 38/200\n",
      "1500/1500 [==============================] - 2s 1ms/step - loss: 0.2573 - accuracy: 0.9639 - val_loss: 0.2743 - val_accuracy: 0.9572\n",
      "Epoch 39/200\n",
      "1500/1500 [==============================] - 2s 1ms/step - loss: 0.2571 - accuracy: 0.9644 - val_loss: 0.2546 - val_accuracy: 0.9635\n",
      "Epoch 40/200\n",
      "1500/1500 [==============================] - 2s 1ms/step - loss: 0.2547 - accuracy: 0.9653 - val_loss: 0.2668 - val_accuracy: 0.9616\n",
      "Epoch 41/200\n",
      "1500/1500 [==============================] - 2s 1ms/step - loss: 0.2545 - accuracy: 0.9643 - val_loss: 0.2591 - val_accuracy: 0.9646\n",
      "Epoch 42/200\n",
      "1500/1500 [==============================] - 2s 1ms/step - loss: 0.2543 - accuracy: 0.9645 - val_loss: 0.2615 - val_accuracy: 0.9621\n",
      "Epoch 43/200\n",
      "1500/1500 [==============================] - 2s 1ms/step - loss: 0.2519 - accuracy: 0.9642 - val_loss: 0.2724 - val_accuracy: 0.9598\n",
      "Epoch 44/200\n",
      "1500/1500 [==============================] - 2s 1ms/step - loss: 0.2536 - accuracy: 0.9649 - val_loss: 0.2632 - val_accuracy: 0.9620\n",
      "Epoch 45/200\n",
      "1500/1500 [==============================] - 2s 1ms/step - loss: 0.2518 - accuracy: 0.9650 - val_loss: 0.2498 - val_accuracy: 0.9663\n",
      "Epoch 46/200\n",
      "1500/1500 [==============================] - 2s 1ms/step - loss: 0.2511 - accuracy: 0.9651 - val_loss: 0.2506 - val_accuracy: 0.9643\n",
      "Epoch 47/200\n",
      "1500/1500 [==============================] - 2s 1ms/step - loss: 0.2501 - accuracy: 0.9644 - val_loss: 0.2565 - val_accuracy: 0.9633\n",
      "Epoch 48/200\n",
      "1500/1500 [==============================] - 2s 1ms/step - loss: 0.2499 - accuracy: 0.9654 - val_loss: 0.2727 - val_accuracy: 0.9563\n",
      "Epoch 49/200\n",
      "1500/1500 [==============================] - 2s 1ms/step - loss: 0.2474 - accuracy: 0.9655 - val_loss: 0.2542 - val_accuracy: 0.9628\n",
      "Epoch 50/200\n",
      "1500/1500 [==============================] - 2s 1ms/step - loss: 0.2482 - accuracy: 0.9646 - val_loss: 0.2539 - val_accuracy: 0.9631\n",
      "Epoch 51/200\n",
      "1500/1500 [==============================] - 2s 1ms/step - loss: 0.2488 - accuracy: 0.9643 - val_loss: 0.2523 - val_accuracy: 0.9647\n",
      "Epoch 52/200\n",
      "1500/1500 [==============================] - 2s 1ms/step - loss: 0.2443 - accuracy: 0.9659 - val_loss: 0.2566 - val_accuracy: 0.9612\n",
      "Epoch 53/200\n",
      "1500/1500 [==============================] - 2s 1ms/step - loss: 0.2446 - accuracy: 0.9649 - val_loss: 0.2519 - val_accuracy: 0.9647\n",
      "Epoch 54/200\n",
      "1500/1500 [==============================] - 2s 1ms/step - loss: 0.2464 - accuracy: 0.9645 - val_loss: 0.2461 - val_accuracy: 0.9660\n",
      "Epoch 55/200\n",
      "1500/1500 [==============================] - 2s 1ms/step - loss: 0.2437 - accuracy: 0.9657 - val_loss: 0.2634 - val_accuracy: 0.9581\n",
      "Epoch 56/200\n",
      "1500/1500 [==============================] - 2s 1ms/step - loss: 0.2441 - accuracy: 0.9648 - val_loss: 0.2411 - val_accuracy: 0.9659\n",
      "Epoch 57/200\n",
      "1500/1500 [==============================] - 2s 1ms/step - loss: 0.2419 - accuracy: 0.9659 - val_loss: 0.2456 - val_accuracy: 0.9638\n",
      "Epoch 58/200\n",
      "1500/1500 [==============================] - 2s 1ms/step - loss: 0.2430 - accuracy: 0.9642 - val_loss: 0.2673 - val_accuracy: 0.9594\n",
      "Epoch 59/200\n",
      "1500/1500 [==============================] - 2s 1ms/step - loss: 0.2401 - accuracy: 0.9663 - val_loss: 0.2671 - val_accuracy: 0.9576\n",
      "Epoch 60/200\n",
      "1500/1500 [==============================] - 2s 1ms/step - loss: 0.2413 - accuracy: 0.9651 - val_loss: 0.2584 - val_accuracy: 0.9608\n",
      "Epoch 61/200\n",
      "1500/1500 [==============================] - 2s 1ms/step - loss: 0.2411 - accuracy: 0.9650 - val_loss: 0.2464 - val_accuracy: 0.9642\n",
      "Epoch 62/200\n",
      "1500/1500 [==============================] - 2s 1ms/step - loss: 0.2423 - accuracy: 0.9645 - val_loss: 0.2481 - val_accuracy: 0.9638\n",
      "Epoch 63/200\n",
      "1500/1500 [==============================] - 2s 1ms/step - loss: 0.2401 - accuracy: 0.9654 - val_loss: 0.2496 - val_accuracy: 0.9622\n",
      "Epoch 64/200\n",
      "1500/1500 [==============================] - 2s 1ms/step - loss: 0.2376 - accuracy: 0.9668 - val_loss: 0.2483 - val_accuracy: 0.9632\n",
      "Epoch 65/200\n",
      "1500/1500 [==============================] - 2s 1ms/step - loss: 0.2367 - accuracy: 0.9666 - val_loss: 0.2538 - val_accuracy: 0.9620\n",
      "Epoch 66/200\n",
      "1500/1500 [==============================] - 2s 1ms/step - loss: 0.2363 - accuracy: 0.9662 - val_loss: 0.2653 - val_accuracy: 0.9578\n",
      "Epoch 67/200\n",
      "1500/1500 [==============================] - 2s 1ms/step - loss: 0.2385 - accuracy: 0.9659 - val_loss: 0.2493 - val_accuracy: 0.9643\n",
      "Epoch 68/200\n",
      "1500/1500 [==============================] - 2s 1ms/step - loss: 0.2385 - accuracy: 0.9667 - val_loss: 0.2675 - val_accuracy: 0.9592\n",
      "Epoch 69/200\n",
      "1500/1500 [==============================] - 2s 1ms/step - loss: 0.2356 - accuracy: 0.9670 - val_loss: 0.2427 - val_accuracy: 0.9654\n",
      "Epoch 70/200\n",
      "1500/1500 [==============================] - 2s 1ms/step - loss: 0.2368 - accuracy: 0.9661 - val_loss: 0.2411 - val_accuracy: 0.9629\n",
      "Epoch 71/200\n",
      "1500/1500 [==============================] - 2s 1ms/step - loss: 0.2356 - accuracy: 0.9652 - val_loss: 0.2433 - val_accuracy: 0.9647\n",
      "Epoch 72/200\n",
      "1500/1500 [==============================] - 2s 1ms/step - loss: 0.2367 - accuracy: 0.9654 - val_loss: 0.2653 - val_accuracy: 0.9558\n",
      "Epoch 73/200\n",
      "1500/1500 [==============================] - 2s 1ms/step - loss: 0.2345 - accuracy: 0.9664 - val_loss: 0.2554 - val_accuracy: 0.9590\n",
      "Epoch 74/200\n",
      "1500/1500 [==============================] - 2s 1ms/step - loss: 0.2340 - accuracy: 0.9674 - val_loss: 0.2368 - val_accuracy: 0.9671\n",
      "Epoch 75/200\n",
      "1500/1500 [==============================] - 2s 1ms/step - loss: 0.2325 - accuracy: 0.9667 - val_loss: 0.2480 - val_accuracy: 0.9620\n",
      "Epoch 76/200\n",
      "1500/1500 [==============================] - 2s 1ms/step - loss: 0.2334 - accuracy: 0.9665 - val_loss: 0.2525 - val_accuracy: 0.9617\n",
      "Epoch 77/200\n",
      "1500/1500 [==============================] - 2s 1ms/step - loss: 0.2337 - accuracy: 0.9666 - val_loss: 0.2445 - val_accuracy: 0.9645\n",
      "Epoch 78/200\n",
      "1500/1500 [==============================] - 2s 1ms/step - loss: 0.2345 - accuracy: 0.9660 - val_loss: 0.2548 - val_accuracy: 0.9582\n",
      "Epoch 79/200\n",
      "1500/1500 [==============================] - 2s 1ms/step - loss: 0.2309 - accuracy: 0.9671 - val_loss: 0.2553 - val_accuracy: 0.9578\n",
      "Epoch 80/200\n",
      "1500/1500 [==============================] - 2s 1ms/step - loss: 0.2328 - accuracy: 0.9659 - val_loss: 0.2478 - val_accuracy: 0.9600\n",
      "Epoch 81/200\n",
      "1500/1500 [==============================] - 2s 1ms/step - loss: 0.2325 - accuracy: 0.9665 - val_loss: 0.2389 - val_accuracy: 0.9648\n",
      "Epoch 82/200\n",
      "1500/1500 [==============================] - 2s 1ms/step - loss: 0.2312 - accuracy: 0.9664 - val_loss: 0.2610 - val_accuracy: 0.9577\n",
      "Epoch 83/200\n",
      "1500/1500 [==============================] - 2s 1ms/step - loss: 0.2322 - accuracy: 0.9665 - val_loss: 0.2408 - val_accuracy: 0.9636\n",
      "Epoch 84/200\n",
      "1500/1500 [==============================] - 2s 1ms/step - loss: 0.2323 - accuracy: 0.9662 - val_loss: 0.2447 - val_accuracy: 0.9652\n",
      "Epoch 85/200\n",
      "1500/1500 [==============================] - 2s 1ms/step - loss: 0.2293 - accuracy: 0.9673 - val_loss: 0.2417 - val_accuracy: 0.9628\n",
      "Epoch 86/200\n",
      "1500/1500 [==============================] - 2s 1ms/step - loss: 0.2331 - accuracy: 0.9656 - val_loss: 0.2528 - val_accuracy: 0.9589\n",
      "Epoch 87/200\n",
      "1500/1500 [==============================] - 2s 1ms/step - loss: 0.2280 - accuracy: 0.9674 - val_loss: 0.2415 - val_accuracy: 0.9630\n",
      "Epoch 88/200\n",
      "1500/1500 [==============================] - 2s 1ms/step - loss: 0.2321 - accuracy: 0.9663 - val_loss: 0.2299 - val_accuracy: 0.9678\n",
      "Epoch 89/200\n",
      "1500/1500 [==============================] - 2s 1ms/step - loss: 0.2299 - accuracy: 0.9662 - val_loss: 0.2366 - val_accuracy: 0.9661\n",
      "Epoch 90/200\n",
      "1500/1500 [==============================] - 2s 1ms/step - loss: 0.2307 - accuracy: 0.9662 - val_loss: 0.2443 - val_accuracy: 0.9622\n",
      "Epoch 91/200\n",
      "1500/1500 [==============================] - 2s 1ms/step - loss: 0.2295 - accuracy: 0.9667 - val_loss: 0.2540 - val_accuracy: 0.9589\n",
      "Epoch 92/200\n",
      "1500/1500 [==============================] - 2s 1ms/step - loss: 0.2305 - accuracy: 0.9661 - val_loss: 0.2499 - val_accuracy: 0.9611\n",
      "Epoch 93/200\n",
      "1500/1500 [==============================] - 2s 1ms/step - loss: 0.2295 - accuracy: 0.9669 - val_loss: 0.2542 - val_accuracy: 0.9582\n",
      "Epoch 94/200\n",
      "1500/1500 [==============================] - 2s 1ms/step - loss: 0.2293 - accuracy: 0.9664 - val_loss: 0.2337 - val_accuracy: 0.9671\n",
      "Epoch 95/200\n",
      "1500/1500 [==============================] - 2s 1ms/step - loss: 0.2260 - accuracy: 0.9671 - val_loss: 0.2521 - val_accuracy: 0.9605\n",
      "Epoch 96/200\n",
      "1500/1500 [==============================] - 2s 1ms/step - loss: 0.2291 - accuracy: 0.9664 - val_loss: 0.2322 - val_accuracy: 0.9651\n",
      "Epoch 97/200\n",
      "1500/1500 [==============================] - 2s 1ms/step - loss: 0.2277 - accuracy: 0.9669 - val_loss: 0.2384 - val_accuracy: 0.9629\n",
      "Epoch 98/200\n",
      "1500/1500 [==============================] - 2s 1ms/step - loss: 0.2282 - accuracy: 0.9672 - val_loss: 0.2302 - val_accuracy: 0.9656\n",
      "Epoch 99/200\n",
      "1500/1500 [==============================] - 2s 1ms/step - loss: 0.2268 - accuracy: 0.9672 - val_loss: 0.2347 - val_accuracy: 0.9650\n",
      "Epoch 100/200\n",
      "1500/1500 [==============================] - 2s 1ms/step - loss: 0.2274 - accuracy: 0.9668 - val_loss: 0.2385 - val_accuracy: 0.9645\n",
      "Epoch 101/200\n",
      "1500/1500 [==============================] - 2s 1ms/step - loss: 0.2281 - accuracy: 0.9665 - val_loss: 0.2462 - val_accuracy: 0.9612\n",
      "Epoch 102/200\n",
      "1500/1500 [==============================] - 2s 1ms/step - loss: 0.2264 - accuracy: 0.9667 - val_loss: 0.2421 - val_accuracy: 0.9626\n",
      "Epoch 103/200\n",
      "1500/1500 [==============================] - 2s 1ms/step - loss: 0.2261 - accuracy: 0.9669 - val_loss: 0.2308 - val_accuracy: 0.9665\n",
      "Epoch 104/200\n",
      "1500/1500 [==============================] - 2s 1ms/step - loss: 0.2280 - accuracy: 0.9661 - val_loss: 0.2359 - val_accuracy: 0.9649\n",
      "Epoch 105/200\n",
      "1500/1500 [==============================] - 2s 1ms/step - loss: 0.2272 - accuracy: 0.9667 - val_loss: 0.2385 - val_accuracy: 0.9642\n",
      "Epoch 106/200\n",
      "1500/1500 [==============================] - 2s 1ms/step - loss: 0.2267 - accuracy: 0.9667 - val_loss: 0.2436 - val_accuracy: 0.9599\n",
      "Epoch 107/200\n",
      "1500/1500 [==============================] - 2s 1ms/step - loss: 0.2254 - accuracy: 0.9670 - val_loss: 0.2435 - val_accuracy: 0.9601\n",
      "Epoch 108/200\n",
      "1500/1500 [==============================] - 2s 1ms/step - loss: 0.2263 - accuracy: 0.9669 - val_loss: 0.2303 - val_accuracy: 0.9671\n",
      "Epoch 109/200\n",
      "1500/1500 [==============================] - 2s 1ms/step - loss: 0.2266 - accuracy: 0.9667 - val_loss: 0.2357 - val_accuracy: 0.9649\n",
      "Epoch 110/200\n",
      "1500/1500 [==============================] - 2s 1ms/step - loss: 0.2238 - accuracy: 0.9672 - val_loss: 0.2332 - val_accuracy: 0.9647\n",
      "Epoch 111/200\n",
      "1500/1500 [==============================] - 2s 1ms/step - loss: 0.2247 - accuracy: 0.9668 - val_loss: 0.2666 - val_accuracy: 0.9545\n",
      "Epoch 112/200\n",
      "1500/1500 [==============================] - 2s 1ms/step - loss: 0.2257 - accuracy: 0.9672 - val_loss: 0.2362 - val_accuracy: 0.9632\n",
      "Epoch 113/200\n"
     ]
    },
    {
     "name": "stdout",
     "output_type": "stream",
     "text": [
      "1500/1500 [==============================] - 2s 1ms/step - loss: 0.2257 - accuracy: 0.9665 - val_loss: 0.2274 - val_accuracy: 0.9671\n",
      "Epoch 114/200\n",
      "1500/1500 [==============================] - 2s 1ms/step - loss: 0.2253 - accuracy: 0.9678 - val_loss: 0.2293 - val_accuracy: 0.9677\n",
      "Epoch 115/200\n",
      "1500/1500 [==============================] - 2s 1ms/step - loss: 0.2251 - accuracy: 0.9672 - val_loss: 0.2349 - val_accuracy: 0.9643\n",
      "Epoch 116/200\n",
      "1500/1500 [==============================] - 2s 1ms/step - loss: 0.2243 - accuracy: 0.9675 - val_loss: 0.2485 - val_accuracy: 0.9583\n",
      "Epoch 117/200\n",
      "1500/1500 [==============================] - 2s 1ms/step - loss: 0.2262 - accuracy: 0.9654 - val_loss: 0.2351 - val_accuracy: 0.9643\n",
      "Epoch 118/200\n",
      "1500/1500 [==============================] - 2s 1ms/step - loss: 0.2223 - accuracy: 0.9680 - val_loss: 0.2453 - val_accuracy: 0.9607\n",
      "Epoch 119/200\n",
      "1500/1500 [==============================] - 2s 1ms/step - loss: 0.2249 - accuracy: 0.9673 - val_loss: 0.2402 - val_accuracy: 0.9634\n",
      "Epoch 120/200\n",
      "1500/1500 [==============================] - 2s 1ms/step - loss: 0.2233 - accuracy: 0.9675 - val_loss: 0.2456 - val_accuracy: 0.9617\n",
      "Epoch 121/200\n",
      "1500/1500 [==============================] - 2s 1ms/step - loss: 0.2233 - accuracy: 0.9674 - val_loss: 0.2300 - val_accuracy: 0.9658\n",
      "Epoch 122/200\n",
      "1500/1500 [==============================] - 2s 1ms/step - loss: 0.2239 - accuracy: 0.9676 - val_loss: 0.2506 - val_accuracy: 0.9588\n",
      "Epoch 123/200\n",
      "1500/1500 [==============================] - 2s 1ms/step - loss: 0.2251 - accuracy: 0.9658 - val_loss: 0.2366 - val_accuracy: 0.9644\n",
      "Epoch 124/200\n",
      "1500/1500 [==============================] - 2s 1ms/step - loss: 0.2200 - accuracy: 0.9677 - val_loss: 0.2415 - val_accuracy: 0.9620\n",
      "Epoch 125/200\n",
      "1500/1500 [==============================] - 2s 1ms/step - loss: 0.2219 - accuracy: 0.9678 - val_loss: 0.2435 - val_accuracy: 0.9608\n",
      "Epoch 126/200\n",
      "1500/1500 [==============================] - 2s 1ms/step - loss: 0.2230 - accuracy: 0.9680 - val_loss: 0.2349 - val_accuracy: 0.9637\n",
      "Epoch 127/200\n",
      "1500/1500 [==============================] - 2s 1ms/step - loss: 0.2207 - accuracy: 0.9681 - val_loss: 0.2462 - val_accuracy: 0.9614\n",
      "Epoch 128/200\n",
      "1500/1500 [==============================] - 2s 1ms/step - loss: 0.2250 - accuracy: 0.9665 - val_loss: 0.2547 - val_accuracy: 0.9597\n",
      "Epoch 129/200\n",
      "1500/1500 [==============================] - 2s 1ms/step - loss: 0.2233 - accuracy: 0.9675 - val_loss: 0.2288 - val_accuracy: 0.9650\n",
      "Epoch 130/200\n",
      "1500/1500 [==============================] - 2s 1ms/step - loss: 0.2206 - accuracy: 0.9668 - val_loss: 0.2326 - val_accuracy: 0.9654\n",
      "Epoch 131/200\n",
      "1500/1500 [==============================] - 2s 1ms/step - loss: 0.2215 - accuracy: 0.9665 - val_loss: 0.2374 - val_accuracy: 0.9642\n",
      "Epoch 132/200\n",
      "1500/1500 [==============================] - 2s 1ms/step - loss: 0.2217 - accuracy: 0.9677 - val_loss: 0.2322 - val_accuracy: 0.9654\n",
      "Epoch 133/200\n",
      "1500/1500 [==============================] - 2s 1ms/step - loss: 0.2227 - accuracy: 0.9659 - val_loss: 0.2299 - val_accuracy: 0.9668\n",
      "Epoch 134/200\n",
      "1500/1500 [==============================] - 2s 1ms/step - loss: 0.2213 - accuracy: 0.9670 - val_loss: 0.2355 - val_accuracy: 0.9624\n",
      "Epoch 135/200\n",
      "1500/1500 [==============================] - 2s 1ms/step - loss: 0.2199 - accuracy: 0.9675 - val_loss: 0.2357 - val_accuracy: 0.9618\n",
      "Epoch 136/200\n",
      "1500/1500 [==============================] - 2s 1ms/step - loss: 0.2214 - accuracy: 0.9668 - val_loss: 0.2494 - val_accuracy: 0.9601\n",
      "Epoch 137/200\n",
      "1500/1500 [==============================] - 2s 1ms/step - loss: 0.2204 - accuracy: 0.9677 - val_loss: 0.2364 - val_accuracy: 0.9629\n",
      "Epoch 138/200\n",
      "1500/1500 [==============================] - 2s 1ms/step - loss: 0.2208 - accuracy: 0.9671 - val_loss: 0.2500 - val_accuracy: 0.9577\n",
      "Epoch 139/200\n",
      "1500/1500 [==============================] - 2s 1ms/step - loss: 0.2219 - accuracy: 0.9671 - val_loss: 0.2437 - val_accuracy: 0.9622\n",
      "Epoch 140/200\n",
      "1500/1500 [==============================] - 2s 1ms/step - loss: 0.2222 - accuracy: 0.9663 - val_loss: 0.2400 - val_accuracy: 0.9635\n",
      "Epoch 141/200\n",
      "1500/1500 [==============================] - 2s 1ms/step - loss: 0.2202 - accuracy: 0.9673 - val_loss: 0.2299 - val_accuracy: 0.9643\n",
      "Epoch 142/200\n",
      "1500/1500 [==============================] - 2s 1ms/step - loss: 0.2206 - accuracy: 0.9669 - val_loss: 0.2446 - val_accuracy: 0.9603\n",
      "Epoch 143/200\n",
      "1500/1500 [==============================] - 2s 1ms/step - loss: 0.2210 - accuracy: 0.9671 - val_loss: 0.2478 - val_accuracy: 0.9588\n",
      "Epoch 144/200\n",
      "1500/1500 [==============================] - 2s 1ms/step - loss: 0.2214 - accuracy: 0.9667 - val_loss: 0.2378 - val_accuracy: 0.9628\n",
      "Epoch 145/200\n",
      "1500/1500 [==============================] - 2s 1ms/step - loss: 0.2196 - accuracy: 0.9674 - val_loss: 0.2208 - val_accuracy: 0.9679\n",
      "Epoch 146/200\n",
      "1500/1500 [==============================] - 2s 1ms/step - loss: 0.2197 - accuracy: 0.9672 - val_loss: 0.2263 - val_accuracy: 0.9655\n",
      "Epoch 147/200\n",
      "1500/1500 [==============================] - 2s 1ms/step - loss: 0.2198 - accuracy: 0.9674 - val_loss: 0.2314 - val_accuracy: 0.9637\n",
      "Epoch 148/200\n",
      "1500/1500 [==============================] - 2s 1ms/step - loss: 0.2214 - accuracy: 0.9668 - val_loss: 0.2345 - val_accuracy: 0.9646\n",
      "Epoch 149/200\n",
      "1500/1500 [==============================] - 2s 1ms/step - loss: 0.2190 - accuracy: 0.9677 - val_loss: 0.2314 - val_accuracy: 0.9652\n",
      "Epoch 150/200\n",
      "1500/1500 [==============================] - 2s 1ms/step - loss: 0.2196 - accuracy: 0.9675 - val_loss: 0.2463 - val_accuracy: 0.9595\n",
      "Epoch 151/200\n",
      "1500/1500 [==============================] - 2s 1ms/step - loss: 0.2213 - accuracy: 0.9672 - val_loss: 0.2263 - val_accuracy: 0.9668\n",
      "Epoch 152/200\n",
      "1500/1500 [==============================] - 2s 1ms/step - loss: 0.2203 - accuracy: 0.9673 - val_loss: 0.2424 - val_accuracy: 0.9609\n",
      "Epoch 153/200\n",
      "1500/1500 [==============================] - 2s 1ms/step - loss: 0.2184 - accuracy: 0.9676 - val_loss: 0.2526 - val_accuracy: 0.9573\n",
      "Epoch 154/200\n",
      "1500/1500 [==============================] - 2s 1ms/step - loss: 0.2202 - accuracy: 0.9672 - val_loss: 0.2568 - val_accuracy: 0.9566\n",
      "Epoch 155/200\n",
      "1500/1500 [==============================] - 2s 1ms/step - loss: 0.2163 - accuracy: 0.9686 - val_loss: 0.2451 - val_accuracy: 0.9594\n",
      "Epoch 156/200\n",
      "1500/1500 [==============================] - 2s 1ms/step - loss: 0.2179 - accuracy: 0.9678 - val_loss: 0.2252 - val_accuracy: 0.9668\n",
      "Epoch 157/200\n",
      "1500/1500 [==============================] - 2s 1ms/step - loss: 0.2168 - accuracy: 0.9687 - val_loss: 0.2467 - val_accuracy: 0.9610\n",
      "Epoch 158/200\n",
      "1500/1500 [==============================] - 2s 1ms/step - loss: 0.2184 - accuracy: 0.9678 - val_loss: 0.2328 - val_accuracy: 0.9614\n",
      "Epoch 159/200\n",
      "1500/1500 [==============================] - 2s 1ms/step - loss: 0.2195 - accuracy: 0.9675 - val_loss: 0.2553 - val_accuracy: 0.9549\n",
      "Epoch 160/200\n",
      "1500/1500 [==============================] - 2s 1ms/step - loss: 0.2203 - accuracy: 0.9672 - val_loss: 0.2346 - val_accuracy: 0.9650\n",
      "Epoch 161/200\n",
      "1500/1500 [==============================] - 2s 1ms/step - loss: 0.2185 - accuracy: 0.9673 - val_loss: 0.2267 - val_accuracy: 0.9655\n",
      "Epoch 162/200\n",
      "1500/1500 [==============================] - 2s 1ms/step - loss: 0.2168 - accuracy: 0.9683 - val_loss: 0.2235 - val_accuracy: 0.9650\n",
      "Epoch 163/200\n",
      "1500/1500 [==============================] - 2s 1ms/step - loss: 0.2186 - accuracy: 0.9675 - val_loss: 0.2621 - val_accuracy: 0.9523\n",
      "Epoch 164/200\n",
      "1500/1500 [==============================] - 2s 1ms/step - loss: 0.2181 - accuracy: 0.9682 - val_loss: 0.2514 - val_accuracy: 0.9574\n",
      "Epoch 165/200\n",
      "1500/1500 [==============================] - 2s 1ms/step - loss: 0.2199 - accuracy: 0.9664 - val_loss: 0.2338 - val_accuracy: 0.9653\n",
      "Epoch 166/200\n",
      "1500/1500 [==============================] - 2s 1ms/step - loss: 0.2187 - accuracy: 0.9673 - val_loss: 0.2415 - val_accuracy: 0.9612\n",
      "Epoch 167/200\n",
      "1500/1500 [==============================] - 2s 1ms/step - loss: 0.2178 - accuracy: 0.9673 - val_loss: 0.2402 - val_accuracy: 0.9608\n",
      "Epoch 168/200\n",
      "1500/1500 [==============================] - 2s 1ms/step - loss: 0.2174 - accuracy: 0.9682 - val_loss: 0.2287 - val_accuracy: 0.9649\n"
     ]
    },
    {
     "name": "stdout",
     "output_type": "stream",
     "text": [
      "Epoch 169/200\n",
      "1500/1500 [==============================] - 2s 1ms/step - loss: 0.2156 - accuracy: 0.9696 - val_loss: 0.2379 - val_accuracy: 0.9629\n",
      "Epoch 170/200\n",
      "1500/1500 [==============================] - 2s 1ms/step - loss: 0.2157 - accuracy: 0.9687 - val_loss: 0.2338 - val_accuracy: 0.9628\n",
      "Epoch 171/200\n",
      "1500/1500 [==============================] - 2s 1ms/step - loss: 0.2162 - accuracy: 0.9685 - val_loss: 0.2257 - val_accuracy: 0.9672\n",
      "Epoch 172/200\n",
      "1500/1500 [==============================] - 2s 1ms/step - loss: 0.2185 - accuracy: 0.9677 - val_loss: 0.2360 - val_accuracy: 0.9632\n",
      "Epoch 173/200\n",
      "1500/1500 [==============================] - 2s 1ms/step - loss: 0.2172 - accuracy: 0.9672 - val_loss: 0.2275 - val_accuracy: 0.9665\n",
      "Epoch 174/200\n",
      "1500/1500 [==============================] - 2s 1ms/step - loss: 0.2178 - accuracy: 0.9676 - val_loss: 0.2365 - val_accuracy: 0.9621\n",
      "Epoch 175/200\n",
      "1500/1500 [==============================] - 2s 1ms/step - loss: 0.2178 - accuracy: 0.9672 - val_loss: 0.2415 - val_accuracy: 0.9601\n",
      "Epoch 176/200\n",
      "1500/1500 [==============================] - 2s 1ms/step - loss: 0.2176 - accuracy: 0.9682 - val_loss: 0.2287 - val_accuracy: 0.9654\n",
      "Epoch 177/200\n",
      "1500/1500 [==============================] - 2s 1ms/step - loss: 0.2166 - accuracy: 0.9684 - val_loss: 0.2352 - val_accuracy: 0.9625\n",
      "Epoch 178/200\n",
      "1500/1500 [==============================] - 2s 1ms/step - loss: 0.2181 - accuracy: 0.9668 - val_loss: 0.2271 - val_accuracy: 0.9649\n",
      "Epoch 179/200\n",
      "1500/1500 [==============================] - 2s 1ms/step - loss: 0.2171 - accuracy: 0.9682 - val_loss: 0.2341 - val_accuracy: 0.9633\n",
      "Epoch 180/200\n",
      "1500/1500 [==============================] - 2s 1ms/step - loss: 0.2167 - accuracy: 0.9676 - val_loss: 0.2856 - val_accuracy: 0.9482\n",
      "Epoch 181/200\n",
      "1500/1500 [==============================] - 2s 1ms/step - loss: 0.2178 - accuracy: 0.9680 - val_loss: 0.2339 - val_accuracy: 0.9619\n",
      "Epoch 182/200\n",
      "1500/1500 [==============================] - 2s 1ms/step - loss: 0.2140 - accuracy: 0.9687 - val_loss: 0.2313 - val_accuracy: 0.9622\n",
      "Epoch 183/200\n",
      "1500/1500 [==============================] - 2s 1ms/step - loss: 0.2184 - accuracy: 0.9679 - val_loss: 0.2505 - val_accuracy: 0.9595\n",
      "Epoch 184/200\n",
      "1500/1500 [==============================] - 2s 1ms/step - loss: 0.2170 - accuracy: 0.9685 - val_loss: 0.2340 - val_accuracy: 0.9647\n",
      "Epoch 185/200\n",
      "1500/1500 [==============================] - 2s 1ms/step - loss: 0.2187 - accuracy: 0.9677 - val_loss: 0.2361 - val_accuracy: 0.9639\n",
      "Epoch 186/200\n",
      "1500/1500 [==============================] - 2s 1ms/step - loss: 0.2179 - accuracy: 0.9668 - val_loss: 0.2206 - val_accuracy: 0.9668\n",
      "Epoch 187/200\n",
      "1500/1500 [==============================] - 2s 1ms/step - loss: 0.2143 - accuracy: 0.9676 - val_loss: 0.2298 - val_accuracy: 0.9632\n",
      "Epoch 188/200\n",
      "1500/1500 [==============================] - 2s 1ms/step - loss: 0.2178 - accuracy: 0.9672 - val_loss: 0.2450 - val_accuracy: 0.9595\n",
      "Epoch 189/200\n",
      "1500/1500 [==============================] - 2s 1ms/step - loss: 0.2159 - accuracy: 0.9676 - val_loss: 0.2240 - val_accuracy: 0.9662\n",
      "Epoch 190/200\n",
      "1500/1500 [==============================] - 2s 1ms/step - loss: 0.2163 - accuracy: 0.9680 - val_loss: 0.2384 - val_accuracy: 0.9614\n",
      "Epoch 191/200\n",
      "1500/1500 [==============================] - 2s 1ms/step - loss: 0.2159 - accuracy: 0.9680 - val_loss: 0.2367 - val_accuracy: 0.9647\n",
      "Epoch 192/200\n",
      "1500/1500 [==============================] - 2s 1ms/step - loss: 0.2151 - accuracy: 0.9681 - val_loss: 0.2427 - val_accuracy: 0.9613\n",
      "Epoch 193/200\n",
      "1500/1500 [==============================] - 2s 1ms/step - loss: 0.2170 - accuracy: 0.9679 - val_loss: 0.2318 - val_accuracy: 0.9646\n",
      "Epoch 194/200\n",
      "1500/1500 [==============================] - 2s 1ms/step - loss: 0.2158 - accuracy: 0.9675 - val_loss: 0.2268 - val_accuracy: 0.9660\n",
      "Epoch 195/200\n",
      "1500/1500 [==============================] - 2s 1ms/step - loss: 0.2170 - accuracy: 0.9676 - val_loss: 0.2336 - val_accuracy: 0.9647\n",
      "Epoch 196/200\n",
      "1500/1500 [==============================] - 2s 1ms/step - loss: 0.2172 - accuracy: 0.9671 - val_loss: 0.2253 - val_accuracy: 0.9658\n",
      "Epoch 197/200\n",
      "1500/1500 [==============================] - 2s 1ms/step - loss: 0.2125 - accuracy: 0.9697 - val_loss: 0.2293 - val_accuracy: 0.9657\n",
      "Epoch 198/200\n",
      "1500/1500 [==============================] - 2s 1ms/step - loss: 0.2134 - accuracy: 0.9683 - val_loss: 0.2239 - val_accuracy: 0.9670\n",
      "Epoch 199/200\n",
      "1500/1500 [==============================] - 2s 1ms/step - loss: 0.2163 - accuracy: 0.9673 - val_loss: 0.2314 - val_accuracy: 0.9641\n",
      "Epoch 200/200\n",
      "1500/1500 [==============================] - 2s 1ms/step - loss: 0.2142 - accuracy: 0.9684 - val_loss: 0.2246 - val_accuracy: 0.9653\n"
     ]
    }
   ],
   "source": [
    "# will take a while\n",
    "history_deepermnist = deepermodel_images.fit(x_train, y_tr_one_hot, epochs=200, batch_size= 32, validation_split = 0.2)"
   ]
  },
  {
   "cell_type": "code",
   "execution_count": 20,
   "metadata": {
    "cell_style": "split",
    "slideshow": {
     "slide_type": "slide"
    }
   },
   "outputs": [
    {
     "name": "stdout",
     "output_type": "stream",
     "text": [
      "313/313 - 0s - loss: 0.2221 - accuracy: 0.9663 - 265ms/epoch - 846us/step\n"
     ]
    },
    {
     "data": {
      "text/plain": [
       "[0.22214950621128082, 0.9663000106811523]"
      ]
     },
     "execution_count": 20,
     "metadata": {},
     "output_type": "execute_result"
    }
   ],
   "source": [
    "#evaluate test accuracy\n",
    "deepermodel_images.evaluate(x_test, y_tt_one_hot, verbose = 2)"
   ]
  },
  {
   "cell_type": "code",
   "execution_count": 21,
   "metadata": {
    "cell_style": "split",
    "slideshow": {
     "slide_type": "fragment"
    }
   },
   "outputs": [
    {
     "data": {
      "image/png": "[encoded data removed]",
      "text/plain": [
       "<Figure size 640x480 with 1 Axes>"
      ]
     },
     "metadata": {},
     "output_type": "display_data"
    }
   ],
   "source": [
    "train_deepmnist_history = pd.DataFrame(history_deepermnist.history)\n",
    "train_deepmnist_history.index.name = 'epochs'\n",
    "\n",
    "col_list = ['loss', 'val_loss']\n",
    "train_deepmnist_history[col_list].plot()\n",
    "plt.ylabel('Categorical cross entropy')\n",
    "plt.title('Training loss history')\n",
    "plt.show()"
   ]
  },
  {
   "cell_type": "code",
   "execution_count": 22,
   "metadata": {
    "cell_style": "split",
    "slideshow": {
     "slide_type": "slide"
    }
   },
   "outputs": [
    {
     "data": {
      "image/png": "[encoded data removed]",
      "text/plain": [
       "<Figure size 640x480 with 1 Axes>"
      ]
     },
     "metadata": {},
     "output_type": "display_data"
    }
   ],
   "source": [
    "col_list = ['accuracy', 'val_accuracy']\n",
    "train_deepmnist_history[col_list].plot()\n",
    "plt.ylabel('Accuracy')\n",
    "plt.title('Training loss history')\n",
    "plt.show()"
   ]
  },
  {
   "cell_type": "markdown",
   "metadata": {
    "cell_style": "split",
    "slideshow": {
     "slide_type": "fragment"
    }
   },
   "source": [
    "Not overfitting even while adding much more complexity:\n",
    "- in this case, not gaining much either"
   ]
  },
  {
   "cell_type": "markdown",
   "metadata": {
    "cell_style": "split",
    "slideshow": {
     "slide_type": "fragment"
    }
   },
   "source": [
    "To do better:\n",
    "- try a different regularization technique\n",
    "- may need to think harder about network architecture"
   ]
  },
  {
   "cell_type": "markdown",
   "metadata": {
    "cell_style": "center",
    "slideshow": {
     "slide_type": "slide"
    }
   },
   "source": [
    "#### Dropout Regularization\n",
    "- Architecture based strategy.\n",
    "\n",
    "On each forward/backprop iteration:\n",
    "- given layer with dropout\n",
    "- shut off activations to randomly selected nodes in layer"
   ]
  },
  {
   "cell_type": "markdown",
   "metadata": {
    "cell_style": "split",
    "slideshow": {
     "slide_type": "slide"
    }
   },
   "source": [
    "![drop_out](images/drop_out.png)"
   ]
  },
  {
   "cell_type": "markdown",
   "metadata": {
    "cell_style": "split",
    "slideshow": {
     "slide_type": "fragment"
    }
   },
   "source": [
    "<img src = \"Images/dropout_network.gif\" >"
   ]
  },
  {
   "cell_type": "markdown",
   "metadata": {
    "cell_style": "center",
    "slideshow": {
     "slide_type": "fragment"
    }
   },
   "source": [
    "- Set $p^{[l]}$  uniform probability of node dropout for given layer\n",
    "- each train cycle: kills different activations"
   ]
  },
  {
   "cell_type": "markdown",
   "metadata": {
    "cell_style": "center",
    "slideshow": {
     "slide_type": "fragment"
    }
   },
   "source": [
    "Dead nodes dont contribute to weight updates in backprop."
   ]
  },
  {
   "cell_type": "markdown",
   "metadata": {
    "cell_style": "center",
    "slideshow": {
     "slide_type": "fragment"
    }
   },
   "source": [
    "after many train cycles: have learned weights:\n",
    "- contributions from many different networks learning different things"
   ]
  },
  {
   "cell_type": "markdown",
   "metadata": {
    "cell_style": "split",
    "slideshow": {
     "slide_type": "slide"
    }
   },
   "source": [
    "<img src = \"Images/Deeper_network.jpg\">"
   ]
  },
  {
   "cell_type": "markdown",
   "metadata": {
    "cell_style": "split",
    "slideshow": {
     "slide_type": "fragment"
    }
   },
   "source": [
    "Validation/test phase:\n",
    "- use all nodes and learned weights.\n",
    "- make prediction."
   ]
  },
  {
   "cell_type": "markdown",
   "metadata": {
    "cell_style": "center",
    "slideshow": {
     "slide_type": "slide"
    }
   },
   "source": [
    "**Why it works as regularization**\n",
    "- network learns not to trust in any one subset of weights: unlikely any particular weight subset gets too big.\n",
    "- distributes weights in way that is robust to network noise (random dropout): generalizes well. "
   ]
  },
  {
   "cell_type": "markdown",
   "metadata": {
    "slideshow": {
     "slide_type": "slide"
    }
   },
   "source": [
    "#### Dropout in Keras\n",
    "\n",
    "- Simply add it as though it were a layer. It will apply to the immediately preceding layer."
   ]
  },
  {
   "cell_type": "code",
   "execution_count": 23,
   "metadata": {
    "slideshow": {
     "slide_type": "fragment"
    }
   },
   "outputs": [],
   "source": [
    "from tensorflow.keras.layers import Dropout"
   ]
  },
  {
   "cell_type": "markdown",
   "metadata": {
    "cell_style": "center",
    "slideshow": {
     "slide_type": "slide"
    }
   },
   "source": [
    "Dropout() takes in the dropout probability as a constructor argument:\n",
    "- Dropout($p$) after some of the hidden layers.\n",
    "- $p \\in [0.2, 0.5]$ as good range to try."
   ]
  },
  {
   "cell_type": "code",
   "execution_count": 24,
   "metadata": {
    "slideshow": {
     "slide_type": "subslide"
    }
   },
   "outputs": [],
   "source": [
    "from tensorflow.keras.optimizers import Adam\n",
    "opt = Adam(learning_rate=0.003, beta_1=0.9, beta_2=0.999, epsilon=1e-07)"
   ]
  },
  {
   "cell_type": "markdown",
   "metadata": {
    "slideshow": {
     "slide_type": "slide"
    }
   },
   "source": [
    "**Define model**"
   ]
  },
  {
   "cell_type": "code",
   "execution_count": 25,
   "metadata": {
    "cell_style": "split",
    "slideshow": {
     "slide_type": "fragment"
    }
   },
   "outputs": [],
   "source": [
    "model = Sequential()\n",
    "model.add(Flatten(input_shape=(28, 28)))\n",
    "model.add(Dense(20, activation='relu'))\n",
    "model.add(Dropout(0.2)) # dropout on previous activations\n",
    "model.add(Dense(12, activation='relu'))\n",
    "model.add(Dense(12, activation='relu'))\n",
    "model.add(Dropout(0.1)) # dropout\n",
    "model.add(Dense(12, activation='relu'))\n",
    "model.add(Dense(8, activation='relu'))\n",
    "model.add(Dense(10, activation ='softmax'))\n",
    "\n",
    "# compile model\n",
    "model.compile(optimizer=opt, \n",
    "              loss='categorical_crossentropy',\n",
    "              metrics=['accuracy'])"
   ]
  },
  {
   "cell_type": "markdown",
   "metadata": {
    "cell_style": "split",
    "slideshow": {
     "slide_type": "fragment"
    }
   },
   "source": [
    "Some tips:\n",
    "- Dropout earlier in network or inputs. Don't put on final layers.\n",
    "- Try faster learning rates in optimizer"
   ]
  },
  {
   "cell_type": "code",
   "execution_count": 26,
   "metadata": {
    "scrolled": true,
    "slideshow": {
     "slide_type": "slide"
    }
   },
   "outputs": [
    {
     "name": "stdout",
     "output_type": "stream",
     "text": [
      "Epoch 1/200\n",
      "1500/1500 - 2s - loss: 0.8781 - accuracy: 0.6969 - val_loss: 0.4095 - val_accuracy: 0.8823 - 2s/epoch - 1ms/step\n",
      "Epoch 2/200\n",
      "1500/1500 - 1s - loss: 0.5581 - accuracy: 0.8336 - val_loss: 0.3251 - val_accuracy: 0.9099 - 1s/epoch - 882us/step\n",
      "Epoch 3/200\n",
      "1500/1500 - 1s - loss: 0.5026 - accuracy: 0.8512 - val_loss: 0.3162 - val_accuracy: 0.9172 - 1s/epoch - 881us/step\n",
      "Epoch 4/200\n",
      "1500/1500 - 1s - loss: 0.4740 - accuracy: 0.8604 - val_loss: 0.3119 - val_accuracy: 0.9128 - 1s/epoch - 879us/step\n",
      "Epoch 5/200\n",
      "1500/1500 - 1s - loss: 0.4560 - accuracy: 0.8644 - val_loss: 0.2709 - val_accuracy: 0.9242 - 1s/epoch - 880us/step\n",
      "Epoch 6/200\n",
      "1500/1500 - 1s - loss: 0.4379 - accuracy: 0.8708 - val_loss: 0.2616 - val_accuracy: 0.9257 - 1s/epoch - 881us/step\n",
      "Epoch 7/200\n",
      "1500/1500 - 1s - loss: 0.4264 - accuracy: 0.8761 - val_loss: 0.2548 - val_accuracy: 0.9292 - 1s/epoch - 880us/step\n",
      "Epoch 8/200\n",
      "1500/1500 - 1s - loss: 0.4146 - accuracy: 0.8788 - val_loss: 0.2659 - val_accuracy: 0.9241 - 1s/epoch - 882us/step\n",
      "Epoch 9/200\n",
      "1500/1500 - 1s - loss: 0.3997 - accuracy: 0.8815 - val_loss: 0.2690 - val_accuracy: 0.9227 - 1s/epoch - 879us/step\n",
      "Epoch 10/200\n",
      "1500/1500 - 1s - loss: 0.3927 - accuracy: 0.8849 - val_loss: 0.2694 - val_accuracy: 0.9242 - 1s/epoch - 884us/step\n",
      "Epoch 11/200\n",
      "1500/1500 - 1s - loss: 0.3859 - accuracy: 0.8881 - val_loss: 0.2398 - val_accuracy: 0.9333 - 1s/epoch - 883us/step\n",
      "Epoch 12/200\n",
      "1500/1500 - 1s - loss: 0.3836 - accuracy: 0.8887 - val_loss: 0.2410 - val_accuracy: 0.9323 - 1s/epoch - 877us/step\n",
      "Epoch 13/200\n",
      "1500/1500 - 1s - loss: 0.3707 - accuracy: 0.8928 - val_loss: 0.2432 - val_accuracy: 0.9290 - 1s/epoch - 883us/step\n",
      "Epoch 14/200\n",
      "1500/1500 - 1s - loss: 0.3708 - accuracy: 0.8930 - val_loss: 0.2404 - val_accuracy: 0.9334 - 1s/epoch - 879us/step\n",
      "Epoch 15/200\n",
      "1500/1500 - 1s - loss: 0.3579 - accuracy: 0.8977 - val_loss: 0.2352 - val_accuracy: 0.9364 - 1s/epoch - 932us/step\n",
      "Epoch 16/200\n",
      "1500/1500 - 1s - loss: 0.3596 - accuracy: 0.8964 - val_loss: 0.2345 - val_accuracy: 0.9343 - 1s/epoch - 879us/step\n",
      "Epoch 17/200\n",
      "1500/1500 - 1s - loss: 0.3577 - accuracy: 0.8974 - val_loss: 0.2620 - val_accuracy: 0.9283 - 1s/epoch - 880us/step\n",
      "Epoch 18/200\n",
      "1500/1500 - 1s - loss: 0.3586 - accuracy: 0.8971 - val_loss: 0.2408 - val_accuracy: 0.9324 - 1s/epoch - 880us/step\n",
      "Epoch 19/200\n",
      "1500/1500 - 1s - loss: 0.3507 - accuracy: 0.9012 - val_loss: 0.2362 - val_accuracy: 0.9357 - 1s/epoch - 882us/step\n",
      "Epoch 20/200\n",
      "1500/1500 - 1s - loss: 0.3518 - accuracy: 0.8994 - val_loss: 0.2343 - val_accuracy: 0.9362 - 1s/epoch - 880us/step\n",
      "Epoch 21/200\n",
      "1500/1500 - 1s - loss: 0.3443 - accuracy: 0.9023 - val_loss: 0.2355 - val_accuracy: 0.9341 - 1s/epoch - 880us/step\n",
      "Epoch 22/200\n",
      "1500/1500 - 1s - loss: 0.3447 - accuracy: 0.9011 - val_loss: 0.2469 - val_accuracy: 0.9291 - 1s/epoch - 880us/step\n",
      "Epoch 23/200\n",
      "1500/1500 - 1s - loss: 0.3369 - accuracy: 0.9050 - val_loss: 0.2352 - val_accuracy: 0.9356 - 1s/epoch - 882us/step\n",
      "Epoch 24/200\n",
      "1500/1500 - 1s - loss: 0.3426 - accuracy: 0.9030 - val_loss: 0.2137 - val_accuracy: 0.9431 - 1s/epoch - 884us/step\n",
      "Epoch 25/200\n",
      "1500/1500 - 1s - loss: 0.3361 - accuracy: 0.9046 - val_loss: 0.2275 - val_accuracy: 0.9362 - 1s/epoch - 877us/step\n",
      "Epoch 26/200\n",
      "1500/1500 - 1s - loss: 0.3402 - accuracy: 0.9019 - val_loss: 0.2189 - val_accuracy: 0.9416 - 1s/epoch - 886us/step\n",
      "Epoch 27/200\n",
      "1500/1500 - 1s - loss: 0.3275 - accuracy: 0.9060 - val_loss: 0.2241 - val_accuracy: 0.9411 - 1s/epoch - 878us/step\n",
      "Epoch 28/200\n",
      "1500/1500 - 1s - loss: 0.3320 - accuracy: 0.9077 - val_loss: 0.2242 - val_accuracy: 0.9398 - 1s/epoch - 881us/step\n",
      "Epoch 29/200\n",
      "1500/1500 - 1s - loss: 0.3275 - accuracy: 0.9076 - val_loss: 0.2283 - val_accuracy: 0.9381 - 1s/epoch - 879us/step\n",
      "Epoch 30/200\n",
      "1500/1500 - 1s - loss: 0.3229 - accuracy: 0.9069 - val_loss: 0.2202 - val_accuracy: 0.9402 - 1s/epoch - 879us/step\n",
      "Epoch 31/200\n",
      "1500/1500 - 1s - loss: 0.3264 - accuracy: 0.9082 - val_loss: 0.2229 - val_accuracy: 0.9387 - 1s/epoch - 881us/step\n",
      "Epoch 32/200\n",
      "1500/1500 - 1s - loss: 0.3230 - accuracy: 0.9081 - val_loss: 0.2191 - val_accuracy: 0.9408 - 1s/epoch - 880us/step\n",
      "Epoch 33/200\n",
      "1500/1500 - 1s - loss: 0.3211 - accuracy: 0.9102 - val_loss: 0.2130 - val_accuracy: 0.9423 - 1s/epoch - 879us/step\n",
      "Epoch 34/200\n",
      "1500/1500 - 1s - loss: 0.3170 - accuracy: 0.9105 - val_loss: 0.2098 - val_accuracy: 0.9424 - 1s/epoch - 880us/step\n",
      "Epoch 35/200\n",
      "1500/1500 - 1s - loss: 0.3138 - accuracy: 0.9119 - val_loss: 0.2268 - val_accuracy: 0.9399 - 1s/epoch - 879us/step\n",
      "Epoch 36/200\n",
      "1500/1500 - 1s - loss: 0.3117 - accuracy: 0.9107 - val_loss: 0.2100 - val_accuracy: 0.9442 - 1s/epoch - 877us/step\n",
      "Epoch 37/200\n",
      "1500/1500 - 1s - loss: 0.3177 - accuracy: 0.9103 - val_loss: 0.2163 - val_accuracy: 0.9425 - 1s/epoch - 882us/step\n",
      "Epoch 38/200\n",
      "1500/1500 - 1s - loss: 0.3197 - accuracy: 0.9088 - val_loss: 0.2131 - val_accuracy: 0.9394 - 1s/epoch - 877us/step\n",
      "Epoch 39/200\n",
      "1500/1500 - 1s - loss: 0.3130 - accuracy: 0.9098 - val_loss: 0.2155 - val_accuracy: 0.9422 - 1s/epoch - 880us/step\n",
      "Epoch 40/200\n",
      "1500/1500 - 1s - loss: 0.3130 - accuracy: 0.9122 - val_loss: 0.2096 - val_accuracy: 0.9436 - 1s/epoch - 878us/step\n",
      "Epoch 41/200\n",
      "1500/1500 - 1s - loss: 0.3154 - accuracy: 0.9106 - val_loss: 0.2129 - val_accuracy: 0.9429 - 1s/epoch - 880us/step\n",
      "Epoch 42/200\n",
      "1500/1500 - 1s - loss: 0.3107 - accuracy: 0.9121 - val_loss: 0.2170 - val_accuracy: 0.9414 - 1s/epoch - 881us/step\n",
      "Epoch 43/200\n",
      "1500/1500 - 1s - loss: 0.3131 - accuracy: 0.9117 - val_loss: 0.2154 - val_accuracy: 0.9424 - 1s/epoch - 880us/step\n",
      "Epoch 44/200\n",
      "1500/1500 - 1s - loss: 0.3165 - accuracy: 0.9108 - val_loss: 0.2128 - val_accuracy: 0.9426 - 1s/epoch - 877us/step\n",
      "Epoch 45/200\n",
      "1500/1500 - 1s - loss: 0.3056 - accuracy: 0.9118 - val_loss: 0.2150 - val_accuracy: 0.9410 - 1s/epoch - 879us/step\n",
      "Epoch 46/200\n",
      "1500/1500 - 1s - loss: 0.3068 - accuracy: 0.9134 - val_loss: 0.2223 - val_accuracy: 0.9398 - 1s/epoch - 880us/step\n",
      "Epoch 47/200\n",
      "1500/1500 - 1s - loss: 0.3048 - accuracy: 0.9129 - val_loss: 0.2127 - val_accuracy: 0.9424 - 1s/epoch - 878us/step\n",
      "Epoch 48/200\n",
      "1500/1500 - 1s - loss: 0.3032 - accuracy: 0.9144 - val_loss: 0.2062 - val_accuracy: 0.9438 - 1s/epoch - 879us/step\n",
      "Epoch 49/200\n",
      "1500/1500 - 1s - loss: 0.3075 - accuracy: 0.9133 - val_loss: 0.2059 - val_accuracy: 0.9463 - 1s/epoch - 878us/step\n",
      "Epoch 50/200\n",
      "1500/1500 - 1s - loss: 0.3036 - accuracy: 0.9136 - val_loss: 0.2209 - val_accuracy: 0.9400 - 1s/epoch - 879us/step\n",
      "Epoch 51/200\n",
      "1500/1500 - 1s - loss: 0.3029 - accuracy: 0.9146 - val_loss: 0.2152 - val_accuracy: 0.9435 - 1s/epoch - 881us/step\n",
      "Epoch 52/200\n",
      "1500/1500 - 1s - loss: 0.3018 - accuracy: 0.9134 - val_loss: 0.2202 - val_accuracy: 0.9432 - 1s/epoch - 879us/step\n",
      "Epoch 53/200\n",
      "1500/1500 - 1s - loss: 0.3004 - accuracy: 0.9137 - val_loss: 0.2091 - val_accuracy: 0.9457 - 1s/epoch - 883us/step\n",
      "Epoch 54/200\n",
      "1500/1500 - 1s - loss: 0.3076 - accuracy: 0.9141 - val_loss: 0.2013 - val_accuracy: 0.9461 - 1s/epoch - 879us/step\n",
      "Epoch 55/200\n",
      "1500/1500 - 1s - loss: 0.2988 - accuracy: 0.9152 - val_loss: 0.2203 - val_accuracy: 0.9420 - 1s/epoch - 880us/step\n",
      "Epoch 56/200\n",
      "1500/1500 - 1s - loss: 0.2992 - accuracy: 0.9149 - val_loss: 0.2258 - val_accuracy: 0.9384 - 1s/epoch - 879us/step\n",
      "Epoch 57/200\n",
      "1500/1500 - 1s - loss: 0.2988 - accuracy: 0.9162 - val_loss: 0.2119 - val_accuracy: 0.9448 - 1s/epoch - 879us/step\n",
      "Epoch 58/200\n",
      "1500/1500 - 1s - loss: 0.2962 - accuracy: 0.9172 - val_loss: 0.2052 - val_accuracy: 0.9468 - 1s/epoch - 880us/step\n",
      "Epoch 59/200\n",
      "1500/1500 - 1s - loss: 0.2970 - accuracy: 0.9174 - val_loss: 0.2078 - val_accuracy: 0.9438 - 1s/epoch - 877us/step\n",
      "Epoch 60/200\n",
      "1500/1500 - 1s - loss: 0.2914 - accuracy: 0.9181 - val_loss: 0.2230 - val_accuracy: 0.9408 - 1s/epoch - 878us/step\n",
      "Epoch 61/200\n",
      "1500/1500 - 1s - loss: 0.2951 - accuracy: 0.9161 - val_loss: 0.2152 - val_accuracy: 0.9419 - 1s/epoch - 886us/step\n",
      "Epoch 62/200\n",
      "1500/1500 - 1s - loss: 0.2955 - accuracy: 0.9162 - val_loss: 0.2126 - val_accuracy: 0.9448 - 1s/epoch - 883us/step\n",
      "Epoch 63/200\n",
      "1500/1500 - 1s - loss: 0.2892 - accuracy: 0.9206 - val_loss: 0.2160 - val_accuracy: 0.9443 - 1s/epoch - 880us/step\n",
      "Epoch 64/200\n",
      "1500/1500 - 1s - loss: 0.2945 - accuracy: 0.9166 - val_loss: 0.2084 - val_accuracy: 0.9436 - 1s/epoch - 880us/step\n",
      "Epoch 65/200\n"
     ]
    },
    {
     "name": "stdout",
     "output_type": "stream",
     "text": [
      "1500/1500 - 1s - loss: 0.2948 - accuracy: 0.9184 - val_loss: 0.2122 - val_accuracy: 0.9424 - 1s/epoch - 879us/step\n",
      "Epoch 66/200\n",
      "1500/1500 - 1s - loss: 0.2932 - accuracy: 0.9185 - val_loss: 0.2062 - val_accuracy: 0.9462 - 1s/epoch - 881us/step\n",
      "Epoch 67/200\n",
      "1500/1500 - 1s - loss: 0.2919 - accuracy: 0.9183 - val_loss: 0.2148 - val_accuracy: 0.9434 - 1s/epoch - 877us/step\n",
      "Epoch 68/200\n",
      "1500/1500 - 1s - loss: 0.2993 - accuracy: 0.9147 - val_loss: 0.2199 - val_accuracy: 0.9408 - 1s/epoch - 881us/step\n",
      "Epoch 69/200\n",
      "1500/1500 - 1s - loss: 0.2931 - accuracy: 0.9165 - val_loss: 0.2149 - val_accuracy: 0.9431 - 1s/epoch - 878us/step\n",
      "Epoch 70/200\n",
      "1500/1500 - 1s - loss: 0.2899 - accuracy: 0.9187 - val_loss: 0.2107 - val_accuracy: 0.9432 - 1s/epoch - 881us/step\n",
      "Epoch 71/200\n",
      "1500/1500 - 1s - loss: 0.2944 - accuracy: 0.9163 - val_loss: 0.2220 - val_accuracy: 0.9409 - 1s/epoch - 876us/step\n",
      "Epoch 72/200\n",
      "1500/1500 - 1s - loss: 0.2943 - accuracy: 0.9169 - val_loss: 0.2108 - val_accuracy: 0.9434 - 1s/epoch - 878us/step\n",
      "Epoch 73/200\n",
      "1500/1500 - 1s - loss: 0.2887 - accuracy: 0.9181 - val_loss: 0.2048 - val_accuracy: 0.9463 - 1s/epoch - 881us/step\n",
      "Epoch 74/200\n",
      "1500/1500 - 1s - loss: 0.2869 - accuracy: 0.9191 - val_loss: 0.2209 - val_accuracy: 0.9390 - 1s/epoch - 879us/step\n",
      "Epoch 75/200\n",
      "1500/1500 - 1s - loss: 0.2867 - accuracy: 0.9177 - val_loss: 0.2114 - val_accuracy: 0.9438 - 1s/epoch - 879us/step\n",
      "Epoch 76/200\n",
      "1500/1500 - 1s - loss: 0.2851 - accuracy: 0.9199 - val_loss: 0.2024 - val_accuracy: 0.9471 - 1s/epoch - 877us/step\n",
      "Epoch 77/200\n",
      "1500/1500 - 1s - loss: 0.2885 - accuracy: 0.9190 - val_loss: 0.2129 - val_accuracy: 0.9455 - 1s/epoch - 881us/step\n",
      "Epoch 78/200\n",
      "1500/1500 - 1s - loss: 0.2917 - accuracy: 0.9189 - val_loss: 0.2193 - val_accuracy: 0.9411 - 1s/epoch - 879us/step\n",
      "Epoch 79/200\n",
      "1500/1500 - 1s - loss: 0.2846 - accuracy: 0.9187 - val_loss: 0.2136 - val_accuracy: 0.9423 - 1s/epoch - 880us/step\n",
      "Epoch 80/200\n",
      "1500/1500 - 1s - loss: 0.2840 - accuracy: 0.9206 - val_loss: 0.2060 - val_accuracy: 0.9448 - 1s/epoch - 882us/step\n",
      "Epoch 81/200\n",
      "1500/1500 - 1s - loss: 0.2810 - accuracy: 0.9201 - val_loss: 0.2112 - val_accuracy: 0.9442 - 1s/epoch - 881us/step\n",
      "Epoch 82/200\n",
      "1500/1500 - 1s - loss: 0.2872 - accuracy: 0.9191 - val_loss: 0.2134 - val_accuracy: 0.9424 - 1s/epoch - 880us/step\n",
      "Epoch 83/200\n",
      "1500/1500 - 1s - loss: 0.2903 - accuracy: 0.9174 - val_loss: 0.2065 - val_accuracy: 0.9447 - 1s/epoch - 881us/step\n",
      "Epoch 84/200\n",
      "1500/1500 - 1s - loss: 0.2826 - accuracy: 0.9195 - val_loss: 0.2096 - val_accuracy: 0.9442 - 1s/epoch - 878us/step\n",
      "Epoch 85/200\n",
      "1500/1500 - 1s - loss: 0.2828 - accuracy: 0.9199 - val_loss: 0.2208 - val_accuracy: 0.9451 - 1s/epoch - 879us/step\n",
      "Epoch 86/200\n",
      "1500/1500 - 1s - loss: 0.2856 - accuracy: 0.9183 - val_loss: 0.2133 - val_accuracy: 0.9434 - 1s/epoch - 878us/step\n",
      "Epoch 87/200\n",
      "1500/1500 - 1s - loss: 0.2873 - accuracy: 0.9184 - val_loss: 0.2114 - val_accuracy: 0.9424 - 1s/epoch - 878us/step\n",
      "Epoch 88/200\n",
      "1500/1500 - 1s - loss: 0.2781 - accuracy: 0.9209 - val_loss: 0.2136 - val_accuracy: 0.9434 - 1s/epoch - 873us/step\n",
      "Epoch 89/200\n",
      "1500/1500 - 1s - loss: 0.2817 - accuracy: 0.9213 - val_loss: 0.2136 - val_accuracy: 0.9413 - 1s/epoch - 879us/step\n",
      "Epoch 90/200\n",
      "1500/1500 - 1s - loss: 0.2789 - accuracy: 0.9210 - val_loss: 0.1998 - val_accuracy: 0.9471 - 1s/epoch - 878us/step\n",
      "Epoch 91/200\n",
      "1500/1500 - 1s - loss: 0.2833 - accuracy: 0.9196 - val_loss: 0.2174 - val_accuracy: 0.9427 - 1s/epoch - 877us/step\n",
      "Epoch 92/200\n",
      "1500/1500 - 1s - loss: 0.2880 - accuracy: 0.9183 - val_loss: 0.2119 - val_accuracy: 0.9443 - 1s/epoch - 880us/step\n",
      "Epoch 93/200\n",
      "1500/1500 - 1s - loss: 0.2776 - accuracy: 0.9207 - val_loss: 0.2065 - val_accuracy: 0.9453 - 1s/epoch - 875us/step\n",
      "Epoch 94/200\n",
      "1500/1500 - 1s - loss: 0.2794 - accuracy: 0.9199 - val_loss: 0.2031 - val_accuracy: 0.9466 - 1s/epoch - 880us/step\n",
      "Epoch 95/200\n",
      "1500/1500 - 1s - loss: 0.2775 - accuracy: 0.9220 - val_loss: 0.2147 - val_accuracy: 0.9433 - 1s/epoch - 881us/step\n",
      "Epoch 96/200\n",
      "1500/1500 - 1s - loss: 0.2816 - accuracy: 0.9206 - val_loss: 0.2054 - val_accuracy: 0.9464 - 1s/epoch - 880us/step\n",
      "Epoch 97/200\n",
      "1500/1500 - 1s - loss: 0.2798 - accuracy: 0.9197 - val_loss: 0.2135 - val_accuracy: 0.9463 - 1s/epoch - 882us/step\n",
      "Epoch 98/200\n",
      "1500/1500 - 1s - loss: 0.2792 - accuracy: 0.9199 - val_loss: 0.2059 - val_accuracy: 0.9470 - 1s/epoch - 878us/step\n",
      "Epoch 99/200\n",
      "1500/1500 - 1s - loss: 0.2746 - accuracy: 0.9233 - val_loss: 0.2130 - val_accuracy: 0.9432 - 1s/epoch - 882us/step\n",
      "Epoch 100/200\n",
      "1500/1500 - 1s - loss: 0.2817 - accuracy: 0.9196 - val_loss: 0.2107 - val_accuracy: 0.9453 - 1s/epoch - 879us/step\n",
      "Epoch 101/200\n",
      "1500/1500 - 1s - loss: 0.2766 - accuracy: 0.9213 - val_loss: 0.2138 - val_accuracy: 0.9433 - 1s/epoch - 880us/step\n",
      "Epoch 102/200\n",
      "1500/1500 - 1s - loss: 0.2798 - accuracy: 0.9210 - val_loss: 0.2054 - val_accuracy: 0.9442 - 1s/epoch - 878us/step\n",
      "Epoch 103/200\n",
      "1500/1500 - 1s - loss: 0.2780 - accuracy: 0.9210 - val_loss: 0.2153 - val_accuracy: 0.9431 - 1s/epoch - 882us/step\n",
      "Epoch 104/200\n",
      "1500/1500 - 1s - loss: 0.2739 - accuracy: 0.9224 - val_loss: 0.2099 - val_accuracy: 0.9440 - 1s/epoch - 880us/step\n",
      "Epoch 105/200\n",
      "1500/1500 - 1s - loss: 0.2736 - accuracy: 0.9225 - val_loss: 0.2188 - val_accuracy: 0.9442 - 1s/epoch - 878us/step\n",
      "Epoch 106/200\n",
      "1500/1500 - 1s - loss: 0.2777 - accuracy: 0.9211 - val_loss: 0.2056 - val_accuracy: 0.9457 - 1s/epoch - 883us/step\n",
      "Epoch 107/200\n",
      "1500/1500 - 1s - loss: 0.2731 - accuracy: 0.9230 - val_loss: 0.2068 - val_accuracy: 0.9456 - 1s/epoch - 877us/step\n",
      "Epoch 108/200\n",
      "1500/1500 - 1s - loss: 0.2741 - accuracy: 0.9222 - val_loss: 0.2010 - val_accuracy: 0.9489 - 1s/epoch - 881us/step\n",
      "Epoch 109/200\n",
      "1500/1500 - 1s - loss: 0.2744 - accuracy: 0.9231 - val_loss: 0.2010 - val_accuracy: 0.9474 - 1s/epoch - 881us/step\n",
      "Epoch 110/200\n",
      "1500/1500 - 1s - loss: 0.2801 - accuracy: 0.9209 - val_loss: 0.2079 - val_accuracy: 0.9446 - 1s/epoch - 879us/step\n",
      "Epoch 111/200\n",
      "1500/1500 - 1s - loss: 0.2774 - accuracy: 0.9208 - val_loss: 0.2069 - val_accuracy: 0.9450 - 1s/epoch - 878us/step\n",
      "Epoch 112/200\n",
      "1500/1500 - 1s - loss: 0.2757 - accuracy: 0.9227 - val_loss: 0.2163 - val_accuracy: 0.9442 - 1s/epoch - 880us/step\n",
      "Epoch 113/200\n",
      "1500/1500 - 1s - loss: 0.2797 - accuracy: 0.9199 - val_loss: 0.2027 - val_accuracy: 0.9456 - 1s/epoch - 881us/step\n",
      "Epoch 114/200\n",
      "1500/1500 - 1s - loss: 0.2712 - accuracy: 0.9230 - val_loss: 0.2163 - val_accuracy: 0.9432 - 1s/epoch - 880us/step\n",
      "Epoch 115/200\n",
      "1500/1500 - 1s - loss: 0.2764 - accuracy: 0.9219 - val_loss: 0.2055 - val_accuracy: 0.9448 - 1s/epoch - 880us/step\n",
      "Epoch 116/200\n",
      "1500/1500 - 1s - loss: 0.2738 - accuracy: 0.9229 - val_loss: 0.2270 - val_accuracy: 0.9398 - 1s/epoch - 881us/step\n",
      "Epoch 117/200\n",
      "1500/1500 - 1s - loss: 0.2790 - accuracy: 0.9204 - val_loss: 0.2011 - val_accuracy: 0.9458 - 1s/epoch - 880us/step\n",
      "Epoch 118/200\n",
      "1500/1500 - 1s - loss: 0.2758 - accuracy: 0.9234 - val_loss: 0.2099 - val_accuracy: 0.9460 - 1s/epoch - 877us/step\n",
      "Epoch 119/200\n",
      "1500/1500 - 1s - loss: 0.2727 - accuracy: 0.9229 - val_loss: 0.2082 - val_accuracy: 0.9434 - 1s/epoch - 883us/step\n",
      "Epoch 120/200\n",
      "1500/1500 - 1s - loss: 0.2721 - accuracy: 0.9239 - val_loss: 0.2038 - val_accuracy: 0.9468 - 1s/epoch - 879us/step\n",
      "Epoch 121/200\n",
      "1500/1500 - 1s - loss: 0.2792 - accuracy: 0.9205 - val_loss: 0.2161 - val_accuracy: 0.9442 - 1s/epoch - 878us/step\n",
      "Epoch 122/200\n",
      "1500/1500 - 1s - loss: 0.2771 - accuracy: 0.9208 - val_loss: 0.2133 - val_accuracy: 0.9442 - 1s/epoch - 879us/step\n",
      "Epoch 123/200\n",
      "1500/1500 - 1s - loss: 0.2777 - accuracy: 0.9206 - val_loss: 0.2138 - val_accuracy: 0.9437 - 1s/epoch - 886us/step\n",
      "Epoch 124/200\n",
      "1500/1500 - 1s - loss: 0.2756 - accuracy: 0.9221 - val_loss: 0.2073 - val_accuracy: 0.9447 - 1s/epoch - 880us/step\n",
      "Epoch 125/200\n",
      "1500/1500 - 1s - loss: 0.2770 - accuracy: 0.9224 - val_loss: 0.2086 - val_accuracy: 0.9443 - 1s/epoch - 880us/step\n",
      "Epoch 126/200\n",
      "1500/1500 - 1s - loss: 0.2696 - accuracy: 0.9249 - val_loss: 0.2154 - val_accuracy: 0.9433 - 1s/epoch - 880us/step\n",
      "Epoch 127/200\n",
      "1500/1500 - 1s - loss: 0.2710 - accuracy: 0.9229 - val_loss: 0.1985 - val_accuracy: 0.9473 - 1s/epoch - 882us/step\n",
      "Epoch 128/200\n",
      "1500/1500 - 1s - loss: 0.2703 - accuracy: 0.9239 - val_loss: 0.2105 - val_accuracy: 0.9448 - 1s/epoch - 881us/step\n"
     ]
    },
    {
     "name": "stdout",
     "output_type": "stream",
     "text": [
      "Epoch 129/200\n",
      "1500/1500 - 1s - loss: 0.2687 - accuracy: 0.9239 - val_loss: 0.2100 - val_accuracy: 0.9445 - 1s/epoch - 880us/step\n",
      "Epoch 130/200\n",
      "1500/1500 - 1s - loss: 0.2679 - accuracy: 0.9245 - val_loss: 0.2161 - val_accuracy: 0.9450 - 1s/epoch - 878us/step\n",
      "Epoch 131/200\n",
      "1500/1500 - 1s - loss: 0.2731 - accuracy: 0.9226 - val_loss: 0.2122 - val_accuracy: 0.9456 - 1s/epoch - 879us/step\n",
      "Epoch 132/200\n",
      "1500/1500 - 1s - loss: 0.2674 - accuracy: 0.9251 - val_loss: 0.2133 - val_accuracy: 0.9440 - 1s/epoch - 879us/step\n",
      "Epoch 133/200\n",
      "1500/1500 - 1s - loss: 0.2743 - accuracy: 0.9210 - val_loss: 0.2293 - val_accuracy: 0.9387 - 1s/epoch - 877us/step\n",
      "Epoch 134/200\n",
      "1500/1500 - 1s - loss: 0.2719 - accuracy: 0.9225 - val_loss: 0.2229 - val_accuracy: 0.9420 - 1s/epoch - 882us/step\n",
      "Epoch 135/200\n",
      "1500/1500 - 1s - loss: 0.2713 - accuracy: 0.9247 - val_loss: 0.2079 - val_accuracy: 0.9456 - 1s/epoch - 879us/step\n",
      "Epoch 136/200\n",
      "1500/1500 - 1s - loss: 0.2714 - accuracy: 0.9243 - val_loss: 0.2166 - val_accuracy: 0.9425 - 1s/epoch - 877us/step\n",
      "Epoch 137/200\n",
      "1500/1500 - 1s - loss: 0.2713 - accuracy: 0.9232 - val_loss: 0.2066 - val_accuracy: 0.9463 - 1s/epoch - 880us/step\n",
      "Epoch 138/200\n",
      "1500/1500 - 1s - loss: 0.2717 - accuracy: 0.9239 - val_loss: 0.2070 - val_accuracy: 0.9445 - 1s/epoch - 879us/step\n",
      "Epoch 139/200\n",
      "1500/1500 - 1s - loss: 0.2706 - accuracy: 0.9244 - val_loss: 0.2079 - val_accuracy: 0.9452 - 1s/epoch - 877us/step\n",
      "Epoch 140/200\n",
      "1500/1500 - 1s - loss: 0.2740 - accuracy: 0.9226 - val_loss: 0.2045 - val_accuracy: 0.9464 - 1s/epoch - 877us/step\n",
      "Epoch 141/200\n",
      "1500/1500 - 1s - loss: 0.2669 - accuracy: 0.9237 - val_loss: 0.2115 - val_accuracy: 0.9434 - 1s/epoch - 882us/step\n",
      "Epoch 142/200\n",
      "1500/1500 - 1s - loss: 0.2693 - accuracy: 0.9248 - val_loss: 0.2047 - val_accuracy: 0.9444 - 1s/epoch - 877us/step\n",
      "Epoch 143/200\n",
      "1500/1500 - 1s - loss: 0.2684 - accuracy: 0.9246 - val_loss: 0.2094 - val_accuracy: 0.9442 - 1s/epoch - 877us/step\n",
      "Epoch 144/200\n",
      "1500/1500 - 1s - loss: 0.2678 - accuracy: 0.9242 - val_loss: 0.2118 - val_accuracy: 0.9424 - 1s/epoch - 876us/step\n",
      "Epoch 145/200\n",
      "1500/1500 - 1s - loss: 0.2722 - accuracy: 0.9230 - val_loss: 0.2023 - val_accuracy: 0.9461 - 1s/epoch - 878us/step\n",
      "Epoch 146/200\n",
      "1500/1500 - 1s - loss: 0.2653 - accuracy: 0.9234 - val_loss: 0.2092 - val_accuracy: 0.9452 - 1s/epoch - 878us/step\n",
      "Epoch 147/200\n",
      "1500/1500 - 1s - loss: 0.2686 - accuracy: 0.9240 - val_loss: 0.2043 - val_accuracy: 0.9457 - 1s/epoch - 877us/step\n",
      "Epoch 148/200\n",
      "1500/1500 - 1s - loss: 0.2635 - accuracy: 0.9248 - val_loss: 0.2002 - val_accuracy: 0.9452 - 1s/epoch - 878us/step\n",
      "Epoch 149/200\n",
      "1500/1500 - 1s - loss: 0.2660 - accuracy: 0.9244 - val_loss: 0.2088 - val_accuracy: 0.9404 - 1s/epoch - 879us/step\n",
      "Epoch 150/200\n",
      "1500/1500 - 1s - loss: 0.2666 - accuracy: 0.9246 - val_loss: 0.2079 - val_accuracy: 0.9456 - 1s/epoch - 877us/step\n",
      "Epoch 151/200\n",
      "1500/1500 - 1s - loss: 0.2678 - accuracy: 0.9243 - val_loss: 0.2081 - val_accuracy: 0.9438 - 1s/epoch - 882us/step\n",
      "Epoch 152/200\n",
      "1500/1500 - 1s - loss: 0.2663 - accuracy: 0.9252 - val_loss: 0.2063 - val_accuracy: 0.9442 - 1s/epoch - 879us/step\n",
      "Epoch 153/200\n",
      "1500/1500 - 1s - loss: 0.2695 - accuracy: 0.9239 - val_loss: 0.2005 - val_accuracy: 0.9441 - 1s/epoch - 878us/step\n",
      "Epoch 154/200\n",
      "1500/1500 - 1s - loss: 0.2659 - accuracy: 0.9240 - val_loss: 0.2111 - val_accuracy: 0.9432 - 1s/epoch - 879us/step\n",
      "Epoch 155/200\n",
      "1500/1500 - 1s - loss: 0.2705 - accuracy: 0.9241 - val_loss: 0.2026 - val_accuracy: 0.9452 - 1s/epoch - 881us/step\n",
      "Epoch 156/200\n",
      "1500/1500 - 1s - loss: 0.2656 - accuracy: 0.9249 - val_loss: 0.2032 - val_accuracy: 0.9443 - 1s/epoch - 880us/step\n",
      "Epoch 157/200\n",
      "1500/1500 - 1s - loss: 0.2708 - accuracy: 0.9241 - val_loss: 0.2099 - val_accuracy: 0.9458 - 1s/epoch - 879us/step\n",
      "Epoch 158/200\n",
      "1500/1500 - 1s - loss: 0.2638 - accuracy: 0.9264 - val_loss: 0.2100 - val_accuracy: 0.9427 - 1s/epoch - 884us/step\n",
      "Epoch 159/200\n",
      "1500/1500 - 1s - loss: 0.2641 - accuracy: 0.9253 - val_loss: 0.2078 - val_accuracy: 0.9457 - 1s/epoch - 881us/step\n",
      "Epoch 160/200\n",
      "1500/1500 - 1s - loss: 0.2664 - accuracy: 0.9248 - val_loss: 0.2037 - val_accuracy: 0.9459 - 1s/epoch - 880us/step\n",
      "Epoch 161/200\n",
      "1500/1500 - 1s - loss: 0.2678 - accuracy: 0.9239 - val_loss: 0.2075 - val_accuracy: 0.9456 - 1s/epoch - 881us/step\n",
      "Epoch 162/200\n",
      "1500/1500 - 1s - loss: 0.2616 - accuracy: 0.9271 - val_loss: 0.2107 - val_accuracy: 0.9430 - 1s/epoch - 877us/step\n",
      "Epoch 163/200\n",
      "1500/1500 - 1s - loss: 0.2668 - accuracy: 0.9255 - val_loss: 0.2089 - val_accuracy: 0.9423 - 1s/epoch - 878us/step\n",
      "Epoch 164/200\n",
      "1500/1500 - 1s - loss: 0.2636 - accuracy: 0.9258 - val_loss: 0.2012 - val_accuracy: 0.9468 - 1s/epoch - 882us/step\n",
      "Epoch 165/200\n",
      "1500/1500 - 1s - loss: 0.2658 - accuracy: 0.9265 - val_loss: 0.2086 - val_accuracy: 0.9448 - 1s/epoch - 879us/step\n",
      "Epoch 166/200\n",
      "1500/1500 - 1s - loss: 0.2663 - accuracy: 0.9253 - val_loss: 0.2087 - val_accuracy: 0.9432 - 1s/epoch - 881us/step\n",
      "Epoch 167/200\n",
      "1500/1500 - 1s - loss: 0.2624 - accuracy: 0.9260 - val_loss: 0.2077 - val_accuracy: 0.9444 - 1s/epoch - 880us/step\n",
      "Epoch 168/200\n",
      "1500/1500 - 1s - loss: 0.2609 - accuracy: 0.9255 - val_loss: 0.2080 - val_accuracy: 0.9460 - 1s/epoch - 879us/step\n",
      "Epoch 169/200\n",
      "1500/1500 - 1s - loss: 0.2614 - accuracy: 0.9258 - val_loss: 0.2091 - val_accuracy: 0.9444 - 1s/epoch - 880us/step\n",
      "Epoch 170/200\n",
      "1500/1500 - 1s - loss: 0.2660 - accuracy: 0.9256 - val_loss: 0.2110 - val_accuracy: 0.9459 - 1s/epoch - 879us/step\n",
      "Epoch 171/200\n",
      "1500/1500 - 1s - loss: 0.2595 - accuracy: 0.9264 - val_loss: 0.2378 - val_accuracy: 0.9413 - 1s/epoch - 879us/step\n",
      "Epoch 172/200\n",
      "1500/1500 - 1s - loss: 0.2650 - accuracy: 0.9244 - val_loss: 0.2107 - val_accuracy: 0.9441 - 1s/epoch - 880us/step\n",
      "Epoch 173/200\n",
      "1500/1500 - 1s - loss: 0.2635 - accuracy: 0.9257 - val_loss: 0.2160 - val_accuracy: 0.9434 - 1s/epoch - 880us/step\n",
      "Epoch 174/200\n",
      "1500/1500 - 1s - loss: 0.2656 - accuracy: 0.9244 - val_loss: 0.2136 - val_accuracy: 0.9441 - 1s/epoch - 881us/step\n",
      "Epoch 175/200\n",
      "1500/1500 - 1s - loss: 0.2616 - accuracy: 0.9258 - val_loss: 0.2044 - val_accuracy: 0.9476 - 1s/epoch - 881us/step\n",
      "Epoch 176/200\n",
      "1500/1500 - 1s - loss: 0.2609 - accuracy: 0.9260 - val_loss: 0.2135 - val_accuracy: 0.9451 - 1s/epoch - 882us/step\n",
      "Epoch 177/200\n",
      "1500/1500 - 1s - loss: 0.2595 - accuracy: 0.9264 - val_loss: 0.2125 - val_accuracy: 0.9445 - 1s/epoch - 877us/step\n",
      "Epoch 178/200\n",
      "1500/1500 - 1s - loss: 0.2569 - accuracy: 0.9272 - val_loss: 0.2094 - val_accuracy: 0.9457 - 1s/epoch - 875us/step\n",
      "Epoch 179/200\n",
      "1500/1500 - 1s - loss: 0.2591 - accuracy: 0.9273 - val_loss: 0.2062 - val_accuracy: 0.9443 - 1s/epoch - 880us/step\n",
      "Epoch 180/200\n",
      "1500/1500 - 1s - loss: 0.2597 - accuracy: 0.9265 - val_loss: 0.2091 - val_accuracy: 0.9462 - 1s/epoch - 880us/step\n",
      "Epoch 181/200\n",
      "1500/1500 - 1s - loss: 0.2595 - accuracy: 0.9261 - val_loss: 0.2171 - val_accuracy: 0.9407 - 1s/epoch - 881us/step\n",
      "Epoch 182/200\n",
      "1500/1500 - 1s - loss: 0.2596 - accuracy: 0.9264 - val_loss: 0.2120 - val_accuracy: 0.9430 - 1s/epoch - 879us/step\n",
      "Epoch 183/200\n",
      "1500/1500 - 1s - loss: 0.2640 - accuracy: 0.9263 - val_loss: 0.2194 - val_accuracy: 0.9431 - 1s/epoch - 880us/step\n",
      "Epoch 184/200\n",
      "1500/1500 - 1s - loss: 0.2668 - accuracy: 0.9244 - val_loss: 0.2074 - val_accuracy: 0.9438 - 1s/epoch - 877us/step\n",
      "Epoch 185/200\n",
      "1500/1500 - 1s - loss: 0.2589 - accuracy: 0.9269 - val_loss: 0.2073 - val_accuracy: 0.9467 - 1s/epoch - 881us/step\n",
      "Epoch 186/200\n",
      "1500/1500 - 1s - loss: 0.2603 - accuracy: 0.9244 - val_loss: 0.2181 - val_accuracy: 0.9433 - 1s/epoch - 880us/step\n",
      "Epoch 187/200\n",
      "1500/1500 - 1s - loss: 0.2658 - accuracy: 0.9242 - val_loss: 0.2140 - val_accuracy: 0.9422 - 1s/epoch - 877us/step\n",
      "Epoch 188/200\n",
      "1500/1500 - 1s - loss: 0.2602 - accuracy: 0.9269 - val_loss: 0.2105 - val_accuracy: 0.9440 - 1s/epoch - 880us/step\n",
      "Epoch 189/200\n",
      "1500/1500 - 1s - loss: 0.2609 - accuracy: 0.9269 - val_loss: 0.2066 - val_accuracy: 0.9448 - 1s/epoch - 879us/step\n",
      "Epoch 190/200\n",
      "1500/1500 - 1s - loss: 0.2572 - accuracy: 0.9284 - val_loss: 0.2112 - val_accuracy: 0.9457 - 1s/epoch - 886us/step\n",
      "Epoch 191/200\n",
      "1500/1500 - 1s - loss: 0.2619 - accuracy: 0.9258 - val_loss: 0.2181 - val_accuracy: 0.9423 - 1s/epoch - 878us/step\n",
      "Epoch 192/200\n",
      "1500/1500 - 1s - loss: 0.2639 - accuracy: 0.9259 - val_loss: 0.2069 - val_accuracy: 0.9438 - 1s/epoch - 880us/step\n"
     ]
    },
    {
     "name": "stdout",
     "output_type": "stream",
     "text": [
      "Epoch 193/200\n",
      "1500/1500 - 1s - loss: 0.2579 - accuracy: 0.9273 - val_loss: 0.2108 - val_accuracy: 0.9452 - 1s/epoch - 880us/step\n",
      "Epoch 194/200\n",
      "1500/1500 - 1s - loss: 0.2563 - accuracy: 0.9276 - val_loss: 0.2069 - val_accuracy: 0.9432 - 1s/epoch - 880us/step\n",
      "Epoch 195/200\n",
      "1500/1500 - 1s - loss: 0.2651 - accuracy: 0.9253 - val_loss: 0.2046 - val_accuracy: 0.9472 - 1s/epoch - 878us/step\n",
      "Epoch 196/200\n",
      "1500/1500 - 1s - loss: 0.2630 - accuracy: 0.9254 - val_loss: 0.2047 - val_accuracy: 0.9447 - 1s/epoch - 878us/step\n",
      "Epoch 197/200\n",
      "1500/1500 - 1s - loss: 0.2579 - accuracy: 0.9255 - val_loss: 0.2038 - val_accuracy: 0.9446 - 1s/epoch - 880us/step\n",
      "Epoch 198/200\n",
      "1500/1500 - 1s - loss: 0.2567 - accuracy: 0.9283 - val_loss: 0.2118 - val_accuracy: 0.9438 - 1s/epoch - 879us/step\n",
      "Epoch 199/200\n",
      "1500/1500 - 1s - loss: 0.2629 - accuracy: 0.9254 - val_loss: 0.2045 - val_accuracy: 0.9449 - 1s/epoch - 879us/step\n",
      "Epoch 200/200\n",
      "1500/1500 - 1s - loss: 0.2592 - accuracy: 0.9270 - val_loss: 0.2101 - val_accuracy: 0.9440 - 1s/epoch - 881us/step\n"
     ]
    }
   ],
   "source": [
    "# will take a while\n",
    "history_dropoutmnist = model.fit(x_train, y_tr_one_hot, epochs=200, batch_size= 32, validation_split = 0.2, verbose =2)"
   ]
  },
  {
   "cell_type": "markdown",
   "metadata": {
    "cell_style": "split",
    "slideshow": {
     "slide_type": "slide"
    }
   },
   "source": [
    "Accuracy on train set will be lower in any given cycle:\n",
    "- some activation killed randomly on training.\n",
    "\n",
    "Performance on validation will be high:\n",
    "- uses full network with learned weights for validation"
   ]
  },
  {
   "cell_type": "markdown",
   "metadata": {
    "cell_style": "split",
    "slideshow": {
     "slide_type": "slide"
    }
   },
   "source": [
    "Not overtraining despite high model capacity:\n",
    "- many hidden layers"
   ]
  },
  {
   "cell_type": "code",
   "execution_count": 27,
   "metadata": {
    "cell_style": "split",
    "slideshow": {
     "slide_type": "fragment"
    }
   },
   "outputs": [
    {
     "data": {
      "image/png": "[encoded data removed]",
      "text/plain": [
       "<Figure size 640x480 with 1 Axes>"
      ]
     },
     "metadata": {},
     "output_type": "display_data"
    }
   ],
   "source": [
    "train_dropoutmnist_history = pd.DataFrame(history_dropoutmnist.history)\n",
    "train_dropoutmnist_history.index.name = 'epochs'\n",
    "\n",
    "col_list = ['loss', 'val_loss']\n",
    "train_dropoutmnist_history[col_list].plot()\n",
    "plt.ylabel('Categorical cross entropy')\n",
    "plt.title('Training loss history')\n",
    "plt.show()"
   ]
  },
  {
   "cell_type": "code",
   "execution_count": 28,
   "metadata": {
    "cell_style": "split",
    "slideshow": {
     "slide_type": "slide"
    }
   },
   "outputs": [
    {
     "data": {
      "image/png": "[encoded data removed]",
      "text/plain": [
       "<Figure size 640x480 with 1 Axes>"
      ]
     },
     "metadata": {},
     "output_type": "display_data"
    }
   ],
   "source": [
    "col_list = ['accuracy', 'val_accuracy']\n",
    "train_dropoutmnist_history[col_list].plot()\n",
    "plt.ylabel('Accuracy')\n",
    "plt.title('Training loss history')\n",
    "plt.show()"
   ]
  },
  {
   "cell_type": "markdown",
   "metadata": {
    "cell_style": "split",
    "slideshow": {
     "slide_type": "fragment"
    }
   },
   "source": [
    "Evaluate on test set."
   ]
  },
  {
   "cell_type": "code",
   "execution_count": 29,
   "metadata": {
    "cell_style": "split",
    "slideshow": {
     "slide_type": "fragment"
    }
   },
   "outputs": [
    {
     "data": {
      "text/plain": [
       "[0.21165397763252258, 0.9455999732017517]"
      ]
     },
     "execution_count": 29,
     "metadata": {},
     "output_type": "execute_result"
    }
   ],
   "source": [
    "model.evaluate(x_test, y_tt_one_hot, verbose =0)"
   ]
  },
  {
   "cell_type": "markdown",
   "metadata": {
    "slideshow": {
     "slide_type": "slide"
    }
   },
   "source": [
    "#### Dropout regularization in conjunction with L2:\n",
    "\n",
    "- can be used to train very deep networks\n",
    "- model complex relationships without overfitting\n",
    "- works best in these cases with a lot of data"
   ]
  },
  {
   "cell_type": "markdown",
   "metadata": {
    "slideshow": {
     "slide_type": "slide"
    }
   },
   "source": [
    "Next up:\n",
    "- doing much better with a more suitable network architecture\n",
    "- Convolutional Neural Networks (CNNs)"
   ]
  }
 ],
 "metadata": {
  "colab": {
   "collapsed_sections": [],
   "name": "intro-to-keras.ipynb",
   "provenance": []
  },
  "kernelspec": {
   "display_name": "dplearn",
   "language": "python",
   "name": "dplearn"
  },
  "language_info": {
   "codemirror_mode": {
    "name": "ipython",
    "version": 3
   },
   "file_extension": ".py",
   "mimetype": "text/x-python",
   "name": "python",
   "nbconvert_exporter": "python",
   "pygments_lexer": "ipython3",
   "version": "3.10.8"
  }
 },
 "nbformat": 4,
 "nbformat_minor": 4
}
